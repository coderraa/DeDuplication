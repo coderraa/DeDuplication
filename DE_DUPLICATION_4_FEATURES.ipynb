{
 "cells": [
  {
   "cell_type": "code",
   "execution_count": 1,
   "metadata": {},
   "outputs": [],
   "source": [
    "import numpy as np\n",
    "import pandas as pd\n"
   ]
  },
  {
   "cell_type": "code",
   "execution_count": 2,
   "metadata": {},
   "outputs": [
    {
     "data": {
      "text/html": [
       "<div>\n",
       "<style scoped>\n",
       "    .dataframe tbody tr th:only-of-type {\n",
       "        vertical-align: middle;\n",
       "    }\n",
       "\n",
       "    .dataframe tbody tr th {\n",
       "        vertical-align: top;\n",
       "    }\n",
       "\n",
       "    .dataframe thead th {\n",
       "        text-align: right;\n",
       "    }\n",
       "</style>\n",
       "<table border=\"1\" class=\"dataframe\">\n",
       "  <thead>\n",
       "    <tr style=\"text-align: right;\">\n",
       "      <th></th>\n",
       "      <th>Id</th>\n",
       "      <th>IdObraPadre</th>\n",
       "      <th>IdTipoObra</th>\n",
       "      <th>CodObra</th>\n",
       "      <th>CodObraListado</th>\n",
       "      <th>Titulo</th>\n",
       "      <th>Subtitulo</th>\n",
       "      <th>Autor</th>\n",
       "      <th>Traductor</th>\n",
       "      <th>Editor</th>\n",
       "      <th>...</th>\n",
       "      <th>NumPaginas</th>\n",
       "      <th>SoporteISBN</th>\n",
       "      <th>DOI</th>\n",
       "      <th>Observaciones</th>\n",
       "      <th>CodObraBuscador</th>\n",
       "      <th>IB</th>\n",
       "      <th>SelloEditorial</th>\n",
       "      <th>NIPO</th>\n",
       "      <th>TituloBusqueda</th>\n",
       "      <th>UrlPortada</th>\n",
       "    </tr>\n",
       "  </thead>\n",
       "  <tbody>\n",
       "    <tr>\n",
       "      <th>0</th>\n",
       "      <td>1</td>\n",
       "      <td>NaN</td>\n",
       "      <td>LI</td>\n",
       "      <td>CED-0000001</td>\n",
       "      <td>978-84-88171-13-9</td>\n",
       "      <td>Abel matutes. De cacique local a ministro de A...</td>\n",
       "      <td>NaN</td>\n",
       "      <td>CERDA SUBIRACHS, JUAN</td>\n",
       "      <td>NaN</td>\n",
       "      <td>Dictext, S.L.</td>\n",
       "      <td>...</td>\n",
       "      <td>NaN</td>\n",
       "      <td>NaN</td>\n",
       "      <td>NaN</td>\n",
       "      <td>ALTA POR RECLAMACION RACP7054 25-02-1999</td>\n",
       "      <td>1</td>\n",
       "      <td>0</td>\n",
       "      <td>NaN</td>\n",
       "      <td>NaN</td>\n",
       "      <td>Abel matutes. De cacique local a ministro de A...</td>\n",
       "      <td>NaN</td>\n",
       "    </tr>\n",
       "    <tr>\n",
       "      <th>1</th>\n",
       "      <td>2</td>\n",
       "      <td>NaN</td>\n",
       "      <td>LI</td>\n",
       "      <td>CED-0000002</td>\n",
       "      <td>NaN</td>\n",
       "      <td>La movilidad transnacional de trabajadores</td>\n",
       "      <td>reglas y prácticas</td>\n",
       "      <td>Gloria Esteban de la Rosa; Cristóbal Molina Na...</td>\n",
       "      <td>NaN</td>\n",
       "      <td>Editorial Comares, S.L.</td>\n",
       "      <td>...</td>\n",
       "      <td>NaN</td>\n",
       "      <td>0.0</td>\n",
       "      <td>NaN</td>\n",
       "      <td>NaN</td>\n",
       "      <td>2</td>\n",
       "      <td>0</td>\n",
       "      <td>NaN</td>\n",
       "      <td>NaN</td>\n",
       "      <td>La movilidad transnacional de trabajadores</td>\n",
       "      <td>NaN</td>\n",
       "    </tr>\n",
       "    <tr>\n",
       "      <th>2</th>\n",
       "      <td>3</td>\n",
       "      <td>NaN</td>\n",
       "      <td>LI</td>\n",
       "      <td>CED-0000003</td>\n",
       "      <td>NaN</td>\n",
       "      <td>Glaciación Genil</td>\n",
       "      <td>NaN</td>\n",
       "      <td>Manuel de Pinedo García</td>\n",
       "      <td>NaN</td>\n",
       "      <td>Universidad Centro Americana San José</td>\n",
       "      <td>...</td>\n",
       "      <td>NaN</td>\n",
       "      <td>NaN</td>\n",
       "      <td>NaN</td>\n",
       "      <td>NaN</td>\n",
       "      <td>3</td>\n",
       "      <td>0</td>\n",
       "      <td>NaN</td>\n",
       "      <td>NaN</td>\n",
       "      <td>Glaciación Genil</td>\n",
       "      <td>NaN</td>\n",
       "    </tr>\n",
       "    <tr>\n",
       "      <th>3</th>\n",
       "      <td>4</td>\n",
       "      <td>NaN</td>\n",
       "      <td>LI</td>\n",
       "      <td>CED-0000004</td>\n",
       "      <td>NaN</td>\n",
       "      <td>Pedro Arrupe, un'esplosione nella chiesa</td>\n",
       "      <td>NaN</td>\n",
       "      <td>Pedro Miguel Lamet</td>\n",
       "      <td>NaN</td>\n",
       "      <td>Ancora</td>\n",
       "      <td>...</td>\n",
       "      <td>NaN</td>\n",
       "      <td>NaN</td>\n",
       "      <td>NaN</td>\n",
       "      <td>NaN</td>\n",
       "      <td>4</td>\n",
       "      <td>0</td>\n",
       "      <td>NaN</td>\n",
       "      <td>NaN</td>\n",
       "      <td>Pedro Arrupe, un'esplosione nella chiesa</td>\n",
       "      <td>NaN</td>\n",
       "    </tr>\n",
       "    <tr>\n",
       "      <th>4</th>\n",
       "      <td>5</td>\n",
       "      <td>NaN</td>\n",
       "      <td>LI</td>\n",
       "      <td>CED-0000005</td>\n",
       "      <td>NaN</td>\n",
       "      <td>Pedro Arrupe, un'esplosione nella chiesa</td>\n",
       "      <td>NaN</td>\n",
       "      <td>Pedro Miguel Lamet</td>\n",
       "      <td>NaN</td>\n",
       "      <td>Ancora</td>\n",
       "      <td>...</td>\n",
       "      <td>NaN</td>\n",
       "      <td>NaN</td>\n",
       "      <td>NaN</td>\n",
       "      <td>NaN</td>\n",
       "      <td>5</td>\n",
       "      <td>0</td>\n",
       "      <td>NaN</td>\n",
       "      <td>NaN</td>\n",
       "      <td>Pedro Arrupe, un'esplosione nella chiesa</td>\n",
       "      <td>NaN</td>\n",
       "    </tr>\n",
       "  </tbody>\n",
       "</table>\n",
       "<p>5 rows × 44 columns</p>\n",
       "</div>"
      ],
      "text/plain": [
       "   Id  IdObraPadre IdTipoObra      CodObra     CodObraListado  \\\n",
       "0   1          NaN         LI  CED-0000001  978-84-88171-13-9   \n",
       "1   2          NaN         LI  CED-0000002                NaN   \n",
       "2   3          NaN         LI  CED-0000003                NaN   \n",
       "3   4          NaN         LI  CED-0000004                NaN   \n",
       "4   5          NaN         LI  CED-0000005                NaN   \n",
       "\n",
       "                                              Titulo           Subtitulo  \\\n",
       "0  Abel matutes. De cacique local a ministro de A...                 NaN   \n",
       "1         La movilidad transnacional de trabajadores  reglas y prácticas   \n",
       "2                                   Glaciación Genil                 NaN   \n",
       "3           Pedro Arrupe, un'esplosione nella chiesa                 NaN   \n",
       "4           Pedro Arrupe, un'esplosione nella chiesa                 NaN   \n",
       "\n",
       "                                               Autor Traductor  \\\n",
       "0                              CERDA SUBIRACHS, JUAN       NaN   \n",
       "1  Gloria Esteban de la Rosa; Cristóbal Molina Na...       NaN   \n",
       "2                            Manuel de Pinedo García       NaN   \n",
       "3                                 Pedro Miguel Lamet       NaN   \n",
       "4                                 Pedro Miguel Lamet       NaN   \n",
       "\n",
       "                                  Editor  ... NumPaginas  SoporteISBN DOI  \\\n",
       "0                          Dictext, S.L.  ...        NaN          NaN NaN   \n",
       "1                Editorial Comares, S.L.  ...        NaN          0.0 NaN   \n",
       "2  Universidad Centro Americana San José  ...        NaN          NaN NaN   \n",
       "3                                 Ancora  ...        NaN          NaN NaN   \n",
       "4                                 Ancora  ...        NaN          NaN NaN   \n",
       "\n",
       "                              Observaciones  CodObraBuscador  IB  \\\n",
       "0  ALTA POR RECLAMACION RACP7054 25-02-1999                1   0   \n",
       "1                                       NaN                2   0   \n",
       "2                                       NaN                3   0   \n",
       "3                                       NaN                4   0   \n",
       "4                                       NaN                5   0   \n",
       "\n",
       "   SelloEditorial  NIPO                                     TituloBusqueda  \\\n",
       "0             NaN   NaN  Abel matutes. De cacique local a ministro de A...   \n",
       "1             NaN   NaN         La movilidad transnacional de trabajadores   \n",
       "2             NaN   NaN                                   Glaciación Genil   \n",
       "3             NaN   NaN           Pedro Arrupe, un'esplosione nella chiesa   \n",
       "4             NaN   NaN           Pedro Arrupe, un'esplosione nella chiesa   \n",
       "\n",
       "   UrlPortada  \n",
       "0         NaN  \n",
       "1         NaN  \n",
       "2         NaN  \n",
       "3         NaN  \n",
       "4         NaN  \n",
       "\n",
       "[5 rows x 44 columns]"
      ]
     },
     "execution_count": 2,
     "metadata": {},
     "output_type": "execute_result"
    }
   ],
   "source": [
    "df=pd.read_excel(\"LIBRIS_DO_SHEET10.xlsx\")\n",
    "df.head()"
   ]
  },
  {
   "cell_type": "code",
   "execution_count": 3,
   "metadata": {},
   "outputs": [],
   "source": [
    "import pandas_dedupe"
   ]
  },
  {
   "cell_type": "code",
   "execution_count": 5,
   "metadata": {},
   "outputs": [
    {
     "name": "stdout",
     "output_type": "stream",
     "text": [
      "Importing data ...\n"
     ]
    },
    {
     "name": "stderr",
     "output_type": "stream",
     "text": [
      "Titulo : None\n",
      "Autor : rafael santos torroella\n",
      "Editor : None\n",
      "TituloBusqueda : None\n",
      "\n",
      "Titulo : surrealismo, el ojo soluble\n",
      "Autor : rafael santos torroella\n",
      "Editor : None\n",
      "TituloBusqueda : None\n",
      "\n",
      "0/10 positive, 0/10 negative\n",
      "Do these records refer to the same thing?\n",
      "(y)es / (n)o / (u)nsure / (f)inished\n"
     ]
    },
    {
     "name": "stdout",
     "output_type": "stream",
     "text": [
      "Starting active labeling...\n",
      "y\n"
     ]
    },
    {
     "name": "stderr",
     "output_type": "stream",
     "text": [
      "Titulo : None\n",
      "Autor : maria del carmen morales baeza\n",
      "Editor : espasa-calpe, s.a.\n",
      "TituloBusqueda : None\n",
      "\n",
      "Titulo : None\n",
      "Autor : maria del carmen morales baeza\n",
      "Editor : None\n",
      "TituloBusqueda : None\n",
      "\n",
      "1/10 positive, 0/10 negative\n",
      "Do these records refer to the same thing?\n",
      "(y)es / (n)o / (u)nsure / (f)inished / (p)revious\n"
     ]
    },
    {
     "name": "stdout",
     "output_type": "stream",
     "text": [
      "y\n"
     ]
    },
    {
     "name": "stderr",
     "output_type": "stream",
     "text": [
      "Titulo : None\n",
      "Autor : maria puncel reparaz\n",
      "Editor : altea, taurus, alfaguara, s.a.\n",
      "TituloBusqueda : None\n",
      "\n",
      "Titulo : None\n",
      "Autor : None\n",
      "Editor : altea, taurus, alfaguara, s.a.\n",
      "TituloBusqueda : None\n",
      "\n",
      "2/10 positive, 0/10 negative\n",
      "Do these records refer to the same thing?\n",
      "(y)es / (n)o / (u)nsure / (f)inished / (p)revious\n"
     ]
    },
    {
     "name": "stdout",
     "output_type": "stream",
     "text": [
      "n\n"
     ]
    },
    {
     "name": "stderr",
     "output_type": "stream",
     "text": [
      "Titulo : hermano de los osos\n",
      "Autor : None\n",
      "Editor : grupo anaya, s.a.\n",
      "TituloBusqueda : hermano de los osos\n",
      "\n",
      "Titulo : None\n",
      "Autor : None\n",
      "Editor : grupo anaya, s.a.\n",
      "TituloBusqueda : None\n",
      "\n",
      "2/10 positive, 1/10 negative\n",
      "Do these records refer to the same thing?\n",
      "(y)es / (n)o / (u)nsure / (f)inished / (p)revious\n"
     ]
    },
    {
     "name": "stdout",
     "output_type": "stream",
     "text": [
      "u\n"
     ]
    },
    {
     "name": "stderr",
     "output_type": "stream",
     "text": [
      "Titulo : o ano de 1993\n",
      "Autor : jose saramago\n",
      "Editor : None\n",
      "TituloBusqueda : o ano de 1993\n",
      "\n",
      "Titulo : o ano de 1993\n",
      "Autor : jose saramago\n",
      "Editor : futura\n",
      "TituloBusqueda : o ano de 1993\n",
      "\n",
      "2/10 positive, 1/10 negative\n",
      "Do these records refer to the same thing?\n",
      "(y)es / (n)o / (u)nsure / (f)inished / (p)revious\n"
     ]
    },
    {
     "name": "stdout",
     "output_type": "stream",
     "text": [
      "y\n"
     ]
    },
    {
     "name": "stderr",
     "output_type": "stream",
     "text": [
      "Titulo : manueles de prevencion e informacion sobre drogas\n",
      "Autor : varios\n",
      "Editor : jellinek preventie\n",
      "TituloBusqueda : manueles de prevencion e informacion sobre drogas\n",
      "\n",
      "Titulo : None\n",
      "Autor : rafael santos torroella\n",
      "Editor : None\n",
      "TituloBusqueda : None\n",
      "\n",
      "3/10 positive, 1/10 negative\n",
      "Do these records refer to the same thing?\n",
      "(y)es / (n)o / (u)nsure / (f)inished / (p)revious\n"
     ]
    },
    {
     "name": "stdout",
     "output_type": "stream",
     "text": [
      "n\n"
     ]
    },
    {
     "name": "stderr",
     "output_type": "stream",
     "text": [
      "Titulo : curiosidades historicas de sevilla\n",
      "Autor : jose maria mena calvo\n",
      "Editor : castillejo\n",
      "TituloBusqueda : curiosidades historicas de sevilla\n",
      "\n",
      "Titulo : None\n",
      "Autor : jose maria figueres artigues\n",
      "Editor : None\n",
      "TituloBusqueda : None\n",
      "\n",
      "3/10 positive, 2/10 negative\n",
      "Do these records refer to the same thing?\n",
      "(y)es / (n)o / (u)nsure / (f)inished / (p)revious\n"
     ]
    },
    {
     "name": "stdout",
     "output_type": "stream",
     "text": [
      "n\n"
     ]
    },
    {
     "name": "stderr",
     "output_type": "stream",
     "text": [
      "Titulo : la verdad sobre jesucristo\n",
      "Autor : jesus martinez cajal\n",
      "Editor : None\n",
      "TituloBusqueda : la verdad sobre jesucristo\n",
      "\n",
      "Titulo : la caida de jonathan edar\n",
      "Autor : None\n",
      "Editor : grupo editorial random house mondadori, s.l.\n",
      "TituloBusqueda : la caida de jonathan edar\n",
      "\n",
      "3/10 positive, 3/10 negative\n",
      "Do these records refer to the same thing?\n",
      "(y)es / (n)o / (u)nsure / (f)inished / (p)revious\n"
     ]
    },
    {
     "name": "stdout",
     "output_type": "stream",
     "text": [
      "n\n"
     ]
    },
    {
     "name": "stderr",
     "output_type": "stream",
     "text": [
      "Titulo : fundamentos de la economia moderna\n",
      "Autor : None\n",
      "Editor : uteha\n",
      "TituloBusqueda : fundamentos de la economia moderna\n",
      "\n",
      "Titulo : fisiologia de la percepcion\n",
      "Autor : varios\n",
      "Editor : None\n",
      "TituloBusqueda : fisiologia de la percepcion\n",
      "\n",
      "3/10 positive, 4/10 negative\n",
      "Do these records refer to the same thing?\n",
      "(y)es / (n)o / (u)nsure / (f)inished / (p)revious\n"
     ]
    },
    {
     "name": "stdout",
     "output_type": "stream",
     "text": [
      "n\n"
     ]
    },
    {
     "name": "stderr",
     "output_type": "stream",
     "text": [
      "Titulo : None\n",
      "Autor : None\n",
      "Editor : random house mondadori, s.a.\n",
      "TituloBusqueda : None\n",
      "\n",
      "Titulo : una entrega especial\n",
      "Autor : None\n",
      "Editor : random house mondadori, s.a.\n",
      "TituloBusqueda : una entrega especial\n",
      "\n",
      "3/10 positive, 5/10 negative\n",
      "Do these records refer to the same thing?\n",
      "(y)es / (n)o / (u)nsure / (f)inished / (p)revious\n"
     ]
    },
    {
     "name": "stdout",
     "output_type": "stream",
     "text": [
      "n\n"
     ]
    },
    {
     "name": "stderr",
     "output_type": "stream",
     "text": [
      "Titulo : wences rambla. pinturas\n",
      "Autor : juan angel blasco carrascosa\n",
      "Editor : sala 6 de febrero\n",
      "TituloBusqueda : wences rambla. pinturas\n",
      "\n",
      "Titulo : None\n",
      "Autor : None\n",
      "Editor : edicions 62, s.a.\n",
      "TituloBusqueda : None\n",
      "\n",
      "3/10 positive, 6/10 negative\n",
      "Do these records refer to the same thing?\n",
      "(y)es / (n)o / (u)nsure / (f)inished / (p)revious\n"
     ]
    },
    {
     "name": "stdout",
     "output_type": "stream",
     "text": [
      "n\n"
     ]
    },
    {
     "name": "stderr",
     "output_type": "stream",
     "text": [
      "Titulo : None\n",
      "Autor : None\n",
      "Editor : edicions 62, s.a.\n",
      "TituloBusqueda : None\n",
      "\n",
      "Titulo : super short-stories\n",
      "Autor : None\n",
      "Editor : edicions 62, s.a.\n",
      "TituloBusqueda : super short-stories\n",
      "\n",
      "3/10 positive, 7/10 negative\n",
      "Do these records refer to the same thing?\n",
      "(y)es / (n)o / (u)nsure / (f)inished / (p)revious\n"
     ]
    },
    {
     "name": "stdout",
     "output_type": "stream",
     "text": [
      "u\n"
     ]
    },
    {
     "name": "stderr",
     "output_type": "stream",
     "text": [
      "Titulo : None\n",
      "Autor : None\n",
      "Editor : edicions 62, s.a.\n",
      "TituloBusqueda : None\n",
      "\n",
      "Titulo : None\n",
      "Autor : carmen arnau faidella\n",
      "Editor : edicions 62, s.a.\n",
      "TituloBusqueda : None\n",
      "\n",
      "3/10 positive, 7/10 negative\n",
      "Do these records refer to the same thing?\n",
      "(y)es / (n)o / (u)nsure / (f)inished / (p)revious\n"
     ]
    },
    {
     "name": "stdout",
     "output_type": "stream",
     "text": [
      "u\n"
     ]
    },
    {
     "name": "stderr",
     "output_type": "stream",
     "text": [
      "Titulo : None\n",
      "Autor : jose ma comelles esteban\n",
      "Editor : edicions 62, s.a.\n",
      "TituloBusqueda : None\n",
      "\n",
      "Titulo : el cas galton\n",
      "Autor : None\n",
      "Editor : edicions 62, s.a.\n",
      "TituloBusqueda : el cas galton\n",
      "\n",
      "3/10 positive, 7/10 negative\n",
      "Do these records refer to the same thing?\n",
      "(y)es / (n)o / (u)nsure / (f)inished / (p)revious\n"
     ]
    },
    {
     "name": "stdout",
     "output_type": "stream",
     "text": [
      "n\n"
     ]
    },
    {
     "name": "stderr",
     "output_type": "stream",
     "text": [
      "Titulo : None\n",
      "Autor : None\n",
      "Editor : grupo editorial random house mondadori, s.l.\n",
      "TituloBusqueda : None\n",
      "\n",
      "Titulo : geografia 2o cicle e.s.o.\n",
      "Autor : jaume rios calvet\n",
      "Editor : grupo editorial random house mondadori, s.l.\n",
      "TituloBusqueda : geografia 2o cicle e.s.o.\n",
      "\n",
      "3/10 positive, 8/10 negative\n",
      "Do these records refer to the same thing?\n",
      "(y)es / (n)o / (u)nsure / (f)inished / (p)revious\n"
     ]
    },
    {
     "name": "stdout",
     "output_type": "stream",
     "text": [
      "u\n"
     ]
    },
    {
     "name": "stderr",
     "output_type": "stream",
     "text": [
      "Titulo : None\n",
      "Autor : alfredo borque palacin\n",
      "Editor : itp - paraninfo, s.a.\n",
      "TituloBusqueda : None\n",
      "\n",
      "Titulo : atencion al cliente en hosteleria\n",
      "Autor : None\n",
      "Editor : itp - paraninfo, s.a.\n",
      "TituloBusqueda : atencion al cliente en hosteleria\n",
      "\n",
      "3/10 positive, 8/10 negative\n",
      "Do these records refer to the same thing?\n",
      "(y)es / (n)o / (u)nsure / (f)inished / (p)revious\n"
     ]
    },
    {
     "name": "stdout",
     "output_type": "stream",
     "text": [
      "n\n"
     ]
    },
    {
     "name": "stderr",
     "output_type": "stream",
     "text": [
      "Titulo : quadres de viatges\n",
      "Autor : None\n",
      "Editor : edicions 62\n",
      "TituloBusqueda : quadres de viatges\n",
      "\n",
      "Titulo : None\n",
      "Autor : jose ma comelles esteban\n",
      "Editor : edicions 62, s.a.\n",
      "TituloBusqueda : None\n",
      "\n",
      "3/10 positive, 9/10 negative\n",
      "Do these records refer to the same thing?\n",
      "(y)es / (n)o / (u)nsure / (f)inished / (p)revious\n"
     ]
    },
    {
     "name": "stdout",
     "output_type": "stream",
     "text": [
      "n\n"
     ]
    },
    {
     "name": "stderr",
     "output_type": "stream",
     "text": [
      "Titulo : quadres de viatges\n",
      "Autor : None\n",
      "Editor : edicions 62\n",
      "TituloBusqueda : quadres de viatges\n",
      "\n",
      "Titulo : None\n",
      "Autor : carmen arnau faidella\n",
      "Editor : edicions 62, s.a.\n",
      "TituloBusqueda : None\n",
      "\n",
      "3/10 positive, 10/10 negative\n",
      "Do these records refer to the same thing?\n",
      "(y)es / (n)o / (u)nsure / (f)inished / (p)revious\n"
     ]
    },
    {
     "name": "stdout",
     "output_type": "stream",
     "text": [
      "y\n"
     ]
    },
    {
     "name": "stderr",
     "output_type": "stream",
     "text": [
      "Titulo : None\n",
      "Autor : francisco ruiz vassallo\n",
      "Editor : centro de estudios ceac, s.l. (grupo ceac)\n",
      "TituloBusqueda : None\n",
      "\n",
      "Titulo : None\n",
      "Autor : francisco ruiz vassallo\n",
      "Editor : centro de estudios ceac, s.l. (grupo ceac)\n",
      "TituloBusqueda : None\n",
      "\n",
      "4/10 positive, 10/10 negative\n",
      "Do these records refer to the same thing?\n",
      "(y)es / (n)o / (u)nsure / (f)inished / (p)revious\n"
     ]
    },
    {
     "name": "stdout",
     "output_type": "stream",
     "text": [
      "y\n"
     ]
    },
    {
     "name": "stderr",
     "output_type": "stream",
     "text": [
      "Titulo : miscel.lania pau vila\n",
      "Autor : capel saez, horacio\n",
      "Editor : institut destudis catalans\n",
      "TituloBusqueda : miscel.lania pau vila\n",
      "\n",
      "Titulo : miscel.lania pau vila\n",
      "Autor : None\n",
      "Editor : institut destudis catalans\n",
      "TituloBusqueda : miscel.lania pau vila\n",
      "\n",
      "5/10 positive, 10/10 negative\n",
      "Do these records refer to the same thing?\n",
      "(y)es / (n)o / (u)nsure / (f)inished / (p)revious\n"
     ]
    },
    {
     "name": "stdout",
     "output_type": "stream",
     "text": [
      "y\n"
     ]
    },
    {
     "name": "stderr",
     "output_type": "stream",
     "text": [
      "Titulo : obreros somos\n",
      "Autor : None\n",
      "Editor : altaffaylla\n",
      "TituloBusqueda : obreros somos\n",
      "\n",
      "Titulo : obreros somos\n",
      "Autor : esparza zabalegi, jose maria\n",
      "Editor : altaffaylla\n",
      "TituloBusqueda : obreros somos\n",
      "\n",
      "6/10 positive, 10/10 negative\n",
      "Do these records refer to the same thing?\n",
      "(y)es / (n)o / (u)nsure / (f)inished / (p)revious\n"
     ]
    },
    {
     "name": "stdout",
     "output_type": "stream",
     "text": [
      "y\n"
     ]
    },
    {
     "name": "stderr",
     "output_type": "stream",
     "text": [
      "Titulo : tecnologia informatica 3\n",
      "Autor : None\n",
      "Editor : anaya\n",
      "TituloBusqueda : tecnologia informatica 3\n",
      "\n",
      "Titulo : tecnologia informatica 3\n",
      "Autor : yebes lopez, elvira martinez valero, julian ferro sanchez, maria piedad\n",
      "Editor : anaya\n",
      "TituloBusqueda : tecnologia informatica 3\n",
      "\n",
      "7/10 positive, 10/10 negative\n",
      "Do these records refer to the same thing?\n",
      "(y)es / (n)o / (u)nsure / (f)inished / (p)revious\n"
     ]
    },
    {
     "name": "stdout",
     "output_type": "stream",
     "text": [
      "y\n"
     ]
    },
    {
     "name": "stderr",
     "output_type": "stream",
     "text": [
      "Titulo : resumen de las conferencias del iii curso de historia, arte y cultura de henares\n",
      "Autor : canalda camara, jose carlos\n",
      "Editor : institucion de estudios complutenses\n",
      "TituloBusqueda : resumen de las conferencias del iii curso de historia, arte y cultura de henares\n",
      "\n",
      "Titulo : resumen de las conferencias del iv curso de historia, arte y cultura de alcala de henares\n",
      "Autor : canalda camara, jose carlos\n",
      "Editor : institucion de estudios complutenses\n",
      "TituloBusqueda : resumen de las conferencias del iv curso de historia, arte y cultura de alcala de henares\n",
      "\n",
      "8/10 positive, 10/10 negative\n",
      "Do these records refer to the same thing?\n",
      "(y)es / (n)o / (u)nsure / (f)inished / (p)revious\n"
     ]
    },
    {
     "name": "stdout",
     "output_type": "stream",
     "text": [
      "y\n"
     ]
    },
    {
     "name": "stderr",
     "output_type": "stream",
     "text": [
      "Titulo : el ultimo combate del halcon.\n",
      "Autor : None\n",
      "Editor : b, s.a.\n",
      "TituloBusqueda : el ultimo combate del halcon.\n",
      "\n",
      "Titulo : el ultimo oasis\n",
      "Autor : None\n",
      "Editor : None\n",
      "TituloBusqueda : el ultimo oasis\n",
      "\n",
      "9/10 positive, 10/10 negative\n",
      "Do these records refer to the same thing?\n",
      "(y)es / (n)o / (u)nsure / (f)inished / (p)revious\n"
     ]
    },
    {
     "name": "stdout",
     "output_type": "stream",
     "text": [
      "n\n"
     ]
    },
    {
     "name": "stderr",
     "output_type": "stream",
     "text": [
      "Titulo : banco de ideas:...\n",
      "Autor : jesus diez pouso\n",
      "Editor : a. est. geobiol\n",
      "TituloBusqueda : banco de ideas:...\n",
      "\n",
      "Titulo : banco de ideas:...\n",
      "Autor : jesus diez pouso\n",
      "Editor : as. est. geobiol\n",
      "TituloBusqueda : banco de ideas:...\n",
      "\n",
      "9/10 positive, 11/10 negative\n",
      "Do these records refer to the same thing?\n",
      "(y)es / (n)o / (u)nsure / (f)inished / (p)revious\n"
     ]
    },
    {
     "name": "stdout",
     "output_type": "stream",
     "text": [
      "y\n"
     ]
    },
    {
     "name": "stderr",
     "output_type": "stream",
     "text": [
      "Titulo : formacion de cabos de artilleria\n",
      "Autor : de ory lozano, eduardo\n",
      "Editor : dossat\n",
      "TituloBusqueda : formacion de cabos de artilleria\n",
      "\n",
      "Titulo : formacion de cabos de infanteria\n",
      "Autor : de ory lozano, eduardo\n",
      "Editor : dossat\n",
      "TituloBusqueda : formacion de cabos de infanteria\n",
      "\n",
      "10/10 positive, 11/10 negative\n",
      "Do these records refer to the same thing?\n",
      "(y)es / (n)o / (u)nsure / (f)inished / (p)revious\n"
     ]
    },
    {
     "name": "stdout",
     "output_type": "stream",
     "text": [
      "y\n"
     ]
    },
    {
     "name": "stderr",
     "output_type": "stream",
     "text": [
      "Titulo : veinte maneras de motivar un equipo\n",
      "Autor : alejandro garcia mas\n",
      "Editor : feevale\n",
      "TituloBusqueda : veinte maneras de motivar un equipo\n",
      "\n",
      "Titulo : None\n",
      "Autor : None\n",
      "Editor : serv. publ. universidad la laguna\n",
      "TituloBusqueda : None\n",
      "\n",
      "11/10 positive, 11/10 negative\n",
      "Do these records refer to the same thing?\n",
      "(y)es / (n)o / (u)nsure / (f)inished / (p)revious\n"
     ]
    },
    {
     "name": "stdout",
     "output_type": "stream",
     "text": [
      "n\n"
     ]
    },
    {
     "name": "stderr",
     "output_type": "stream",
     "text": [
      "Titulo : curso de fontaneria. prueba de evaluacion 17\n",
      "Autor : pedro sanz de miguel\n",
      "Editor : centro de estudios ceac, s.l. (grupo ceac)\n",
      "TituloBusqueda : curso de fontaneria. prueba de evaluacion 17\n",
      "\n",
      "Titulo : curso de fontaneria. tomo 3\n",
      "Autor : pedro sanz de miguel\n",
      "Editor : centro de estudios ceac, s.l. (grupo ceac)\n",
      "TituloBusqueda : curso de fontaneria. tomo 3\n",
      "\n",
      "11/10 positive, 12/10 negative\n",
      "Do these records refer to the same thing?\n",
      "(y)es / (n)o / (u)nsure / (f)inished / (p)revious\n"
     ]
    },
    {
     "name": "stdout",
     "output_type": "stream",
     "text": [
      "n\n"
     ]
    },
    {
     "name": "stderr",
     "output_type": "stream",
     "text": [
      "Titulo : curso de fontaneria. prueba de evaluacion 9\n",
      "Autor : pedro sanz de miguel\n",
      "Editor : centro de estudios ceac, s.l. (grupo ceac)\n",
      "TituloBusqueda : curso de fontaneria. prueba de evaluacion 9\n",
      "\n",
      "Titulo : curso de fontaneria. tomo 3\n",
      "Autor : pedro sanz de miguel\n",
      "Editor : centro de estudios ceac, s.l. (grupo ceac)\n",
      "TituloBusqueda : curso de fontaneria. tomo 3\n",
      "\n",
      "11/10 positive, 13/10 negative\n",
      "Do these records refer to the same thing?\n",
      "(y)es / (n)o / (u)nsure / (f)inished / (p)revious\n"
     ]
    },
    {
     "name": "stdout",
     "output_type": "stream",
     "text": [
      "y\n"
     ]
    },
    {
     "name": "stderr",
     "output_type": "stream",
     "text": [
      "Titulo : formacion de cabos de artilleria\n",
      "Autor : de ory lozano, eduardo\n",
      "Editor : dossat\n",
      "TituloBusqueda : formacion de cabos de artilleria\n",
      "\n",
      "Titulo : formacion a sargentos de intendencia\n",
      "Autor : de ory lozano, eduardo\n",
      "Editor : dossat\n",
      "TituloBusqueda : formacion a sargentos de intendencia\n",
      "\n",
      "12/10 positive, 13/10 negative\n",
      "Do these records refer to the same thing?\n",
      "(y)es / (n)o / (u)nsure / (f)inished / (p)revious\n"
     ]
    },
    {
     "name": "stdout",
     "output_type": "stream",
     "text": [
      "y\n"
     ]
    },
    {
     "name": "stderr",
     "output_type": "stream",
     "text": [
      "Titulo : serna-avendano\n",
      "Autor : lacarta salvador, manuel\n",
      "Editor : arteguia\n",
      "TituloBusqueda : serna-avendano\n",
      "\n",
      "Titulo : mateo\n",
      "Autor : lacarta salvador, manuel\n",
      "Editor : arteguia\n",
      "TituloBusqueda : mateo\n",
      "\n",
      "13/10 positive, 13/10 negative\n",
      "Do these records refer to the same thing?\n",
      "(y)es / (n)o / (u)nsure / (f)inished / (p)revious\n"
     ]
    },
    {
     "name": "stdout",
     "output_type": "stream",
     "text": [
      "n\n"
     ]
    },
    {
     "name": "stderr",
     "output_type": "stream",
     "text": [
      "Titulo : hermano de los osos\n",
      "Autor : None\n",
      "Editor : grupo anaya, s.a.\n",
      "TituloBusqueda : hermano de los osos\n",
      "\n",
      "Titulo : colonizacion y subversion en la andalucia de los s. xviii-xi\n",
      "Autor : antonio garcia benitez\n",
      "Editor : None\n",
      "TituloBusqueda : colonizacion y subversion en la andalucia de los s. xviii-xi\n",
      "\n",
      "13/10 positive, 14/10 negative\n",
      "Do these records refer to the same thing?\n",
      "(y)es / (n)o / (u)nsure / (f)inished / (p)revious\n"
     ]
    },
    {
     "name": "stdout",
     "output_type": "stream",
     "text": [
      "n\n"
     ]
    },
    {
     "name": "stderr",
     "output_type": "stream",
     "text": [
      "Titulo : cesar gaya: atravesando el agua\n",
      "Autor : juan angel blasco carrascosa\n",
      "Editor : caja rural de torrent\n",
      "TituloBusqueda : cesar gaya: atravesando el agua\n",
      "\n",
      "Titulo : horacio silva. paisajes misteriosos\n",
      "Autor : juan angel blasco carrascosa\n",
      "Editor : None\n",
      "TituloBusqueda : horacio silva. paisajes misteriosos\n",
      "\n",
      "13/10 positive, 15/10 negative\n",
      "Do these records refer to the same thing?\n",
      "(y)es / (n)o / (u)nsure / (f)inished / (p)revious\n"
     ]
    },
    {
     "name": "stdout",
     "output_type": "stream",
     "text": [
      "n\n"
     ]
    },
    {
     "name": "stderr",
     "output_type": "stream",
     "text": [
      "Titulo : None\n",
      "Autor : antonio martinez ballesteros\n",
      "Editor : None\n",
      "TituloBusqueda : None\n",
      "\n",
      "Titulo : None\n",
      "Autor : antonio vera ramirez\n",
      "Editor : None\n",
      "TituloBusqueda : None\n",
      "\n",
      "13/10 positive, 16/10 negative\n",
      "Do these records refer to the same thing?\n",
      "(y)es / (n)o / (u)nsure / (f)inished / (p)revious\n"
     ]
    },
    {
     "name": "stdout",
     "output_type": "stream",
     "text": [
      "n\n"
     ]
    },
    {
     "name": "stderr",
     "output_type": "stream",
     "text": [
      "Titulo : el cas galton\n",
      "Autor : None\n",
      "Editor : edicions 62, s.a.\n",
      "TituloBusqueda : el cas galton\n",
      "\n",
      "Titulo : super short-stories\n",
      "Autor : None\n",
      "Editor : edicions 62, s.a.\n",
      "TituloBusqueda : super short-stories\n",
      "\n",
      "13/10 positive, 17/10 negative\n",
      "Do these records refer to the same thing?\n",
      "(y)es / (n)o / (u)nsure / (f)inished / (p)revious\n"
     ]
    },
    {
     "name": "stdout",
     "output_type": "stream",
     "text": [
      "n\n"
     ]
    },
    {
     "name": "stderr",
     "output_type": "stream",
     "text": [
      "Titulo : principi di diritto amministrativo\n",
      "Autor : tomas ramon fernandez\n",
      "Editor : giuffre\n",
      "TituloBusqueda : principi di diritto amministrativo\n",
      "\n",
      "Titulo : curso de derito administrativo\n",
      "Autor : tomas ramon fernandez\n",
      "Editor : editora revista dos tribunais\n",
      "TituloBusqueda : curso de derito administrativo\n",
      "\n",
      "13/10 positive, 18/10 negative\n",
      "Do these records refer to the same thing?\n",
      "(y)es / (n)o / (u)nsure / (f)inished / (p)revious\n"
     ]
    },
    {
     "name": "stdout",
     "output_type": "stream",
     "text": [
      "n\n"
     ]
    },
    {
     "name": "stderr",
     "output_type": "stream",
     "text": [
      "Titulo : on para ara\n",
      "Autor : andreu sotorra agramunt\n",
      "Editor : None\n",
      "TituloBusqueda : on para ara\n",
      "\n",
      "Titulo : carboni 14\n",
      "Autor : andreu sotorra agramunt\n",
      "Editor : None\n",
      "TituloBusqueda : carboni 14\n",
      "\n",
      "13/10 positive, 19/10 negative\n",
      "Do these records refer to the same thing?\n",
      "(y)es / (n)o / (u)nsure / (f)inished / (p)revious\n"
     ]
    },
    {
     "name": "stdout",
     "output_type": "stream",
     "text": [
      "n\n"
     ]
    },
    {
     "name": "stderr",
     "output_type": "stream",
     "text": [
      "Titulo : haz de sentimientos\n",
      "Autor : lopez ramos, antonio\n",
      "Editor : None\n",
      "TituloBusqueda : haz de sentimientos\n",
      "\n",
      "Titulo : amor, ideas y hombres\n",
      "Autor : lopez ramos, antonio\n",
      "Editor : None\n",
      "TituloBusqueda : amor, ideas y hombres\n",
      "\n",
      "13/10 positive, 20/10 negative\n",
      "Do these records refer to the same thing?\n",
      "(y)es / (n)o / (u)nsure / (f)inished / (p)revious\n"
     ]
    },
    {
     "name": "stdout",
     "output_type": "stream",
     "text": [
      "n\n"
     ]
    },
    {
     "name": "stderr",
     "output_type": "stream",
     "text": [
      "Titulo : turismo, medio ambiente y empleo\n",
      "Autor : ortuno martinez, manuel\n",
      "Editor : cosejo de europa\n",
      "TituloBusqueda : turismo, medio ambiente y empleo\n",
      "\n",
      "Titulo : el exilio espanol y el mundo de los libros\n",
      "Autor : ortuno martinez, manuel\n",
      "Editor : universidad de guadalajara. mexico\n",
      "TituloBusqueda : el exilio espanol y el mundo de los libros\n",
      "\n",
      "13/10 positive, 21/10 negative\n",
      "Do these records refer to the same thing?\n",
      "(y)es / (n)o / (u)nsure / (f)inished / (p)revious\n"
     ]
    },
    {
     "name": "stdout",
     "output_type": "stream",
     "text": [
      "n\n"
     ]
    },
    {
     "name": "stderr",
     "output_type": "stream",
     "text": [
      "Titulo : cuentos para aprender a contar\n",
      "Autor : francisco garzon cespedes\n",
      "Editor : libros del olmo\n",
      "TituloBusqueda : cuentos para aprender a contar\n",
      "\n",
      "Titulo : un nino de la patria\n",
      "Autor : francisco garzon cespedes\n",
      "Editor : ministerio de educacion\n",
      "TituloBusqueda : un nino de la patria\n",
      "\n",
      "13/10 positive, 22/10 negative\n",
      "Do these records refer to the same thing?\n",
      "(y)es / (n)o / (u)nsure / (f)inished / (p)revious\n"
     ]
    },
    {
     "name": "stdout",
     "output_type": "stream",
     "text": [
      "n\n"
     ]
    },
    {
     "name": "stderr",
     "output_type": "stream",
     "text": [
      "Titulo : las andanzas de pinocha\n",
      "Autor : carlos miguel suarez radillo\n",
      "Editor : edebe (ediciones don bosco)\n",
      "TituloBusqueda : las andanzas de pinocha\n",
      "\n",
      "Titulo : el teatro neoclasico hispanoamericano\n",
      "Autor : carlos miguel suarez radillo\n",
      "Editor : instituto de coop. iberoamericana\n",
      "TituloBusqueda : el teatro neoclasico hispanoamericano\n",
      "\n",
      "13/10 positive, 23/10 negative\n",
      "Do these records refer to the same thing?\n",
      "(y)es / (n)o / (u)nsure / (f)inished / (p)revious\n"
     ]
    },
    {
     "name": "stdout",
     "output_type": "stream",
     "text": [
      "n\n"
     ]
    },
    {
     "name": "stderr",
     "output_type": "stream",
     "text": [
      "Titulo : curso de fontaneria. prueba de evaluacion 9\n",
      "Autor : pedro sanz de miguel\n",
      "Editor : centro de estudios ceac, s.l. (grupo ceac)\n",
      "TituloBusqueda : curso de fontaneria. prueba de evaluacion 9\n",
      "\n",
      "Titulo : curso de fontaneria. prueba de evaluacion 17\n",
      "Autor : pedro sanz de miguel\n",
      "Editor : centro de estudios ceac, s.l. (grupo ceac)\n",
      "TituloBusqueda : curso de fontaneria. prueba de evaluacion 17\n",
      "\n",
      "13/10 positive, 24/10 negative\n",
      "Do these records refer to the same thing?\n",
      "(y)es / (n)o / (u)nsure / (f)inished / (p)revious\n"
     ]
    },
    {
     "name": "stdout",
     "output_type": "stream",
     "text": [
      "y\n"
     ]
    },
    {
     "name": "stderr",
     "output_type": "stream",
     "text": [
      "Titulo : curso de fontaneria. prueba de evaluacion 18\n",
      "Autor : pedro sanz de miguel\n",
      "Editor : centro de estudios ceac, s.l. (grupo ceac)\n",
      "TituloBusqueda : curso de fontaneria. prueba de evaluacion 18\n",
      "\n",
      "Titulo : curso de fontaneria. prueba de evaluacion 9\n",
      "Autor : pedro sanz de miguel\n",
      "Editor : centro de estudios ceac, s.l. (grupo ceac)\n",
      "TituloBusqueda : curso de fontaneria. prueba de evaluacion 9\n",
      "\n",
      "14/10 positive, 24/10 negative\n",
      "Do these records refer to the same thing?\n",
      "(y)es / (n)o / (u)nsure / (f)inished / (p)revious\n"
     ]
    },
    {
     "name": "stdout",
     "output_type": "stream",
     "text": [
      "y\n"
     ]
    },
    {
     "name": "stderr",
     "output_type": "stream",
     "text": [
      "Titulo : no te enamores muchacha\n",
      "Autor : corin tellado\n",
      "Editor : bruguera\n",
      "TituloBusqueda : no te enamores muchacha\n",
      "\n",
      "Titulo : no te enamores muchacha\n",
      "Autor : corin tellado\n",
      "Editor : bruguera\n",
      "TituloBusqueda : no te enamores muchacha\n",
      "\n",
      "15/10 positive, 24/10 negative\n",
      "Do these records refer to the same thing?\n",
      "(y)es / (n)o / (u)nsure / (f)inished / (p)revious\n"
     ]
    },
    {
     "name": "stdout",
     "output_type": "stream",
     "text": [
      "y\n"
     ]
    },
    {
     "name": "stderr",
     "output_type": "stream",
     "text": [
      "Titulo : una historia de la musica\n",
      "Autor : None\n",
      "Editor : omega, s.a.\n",
      "TituloBusqueda : una historia de la musica\n",
      "\n",
      "Titulo : None\n",
      "Autor : teresa sabate rodie\n",
      "Editor : miguel a. salvatella, s.a.\n",
      "TituloBusqueda : None\n",
      "\n",
      "16/10 positive, 24/10 negative\n",
      "Do these records refer to the same thing?\n",
      "(y)es / (n)o / (u)nsure / (f)inished / (p)revious\n"
     ]
    },
    {
     "name": "stdout",
     "output_type": "stream",
     "text": [
      "n\n"
     ]
    },
    {
     "name": "stderr",
     "output_type": "stream",
     "text": [
      "Titulo : None\n",
      "Autor : emilio sanz de soto-lyons\n",
      "Editor : catedra, s.a.\n",
      "TituloBusqueda : None\n",
      "\n",
      "Titulo : la lluna fugissera\n",
      "Autor : None\n",
      "Editor : bromera, s.l.\n",
      "TituloBusqueda : la lluna fugissera\n",
      "\n",
      "16/10 positive, 25/10 negative\n",
      "Do these records refer to the same thing?\n",
      "(y)es / (n)o / (u)nsure / (f)inished / (p)revious\n"
     ]
    },
    {
     "name": "stdout",
     "output_type": "stream",
     "text": [
      "n\n"
     ]
    },
    {
     "name": "stderr",
     "output_type": "stream",
     "text": [
      "Titulo : pedro arrupe, unesplosione nella chiesa\n",
      "Autor : pedro miguel lamet\n",
      "Editor : ancora\n",
      "TituloBusqueda : pedro arrupe, unesplosione nella chiesa\n",
      "\n",
      "Titulo : pedro arrupe, unesplosione nella chiesa\n",
      "Autor : pedro miguel lamet\n",
      "Editor : ancora\n",
      "TituloBusqueda : pedro arrupe, unesplosione nella chiesa\n",
      "\n",
      "16/10 positive, 26/10 negative\n",
      "Do these records refer to the same thing?\n",
      "(y)es / (n)o / (u)nsure / (f)inished / (p)revious\n"
     ]
    },
    {
     "name": "stdout",
     "output_type": "stream",
     "text": [
      "y\n"
     ]
    },
    {
     "name": "stderr",
     "output_type": "stream",
     "text": [
      "Titulo : None\n",
      "Autor : jose maria salguero juan y seva\n",
      "Editor : None\n",
      "TituloBusqueda : None\n",
      "\n",
      "Titulo : None\n",
      "Autor : jose maria de domingo-arnau y rovira\n",
      "Editor : None\n",
      "TituloBusqueda : None\n",
      "\n",
      "17/10 positive, 26/10 negative\n",
      "Do these records refer to the same thing?\n",
      "(y)es / (n)o / (u)nsure / (f)inished / (p)revious\n"
     ]
    },
    {
     "name": "stdout",
     "output_type": "stream",
     "text": [
      "u\n"
     ]
    },
    {
     "name": "stderr",
     "output_type": "stream",
     "text": [
      "Titulo : por que no eres como todos\n",
      "Autor : corin tellado\n",
      "Editor : None\n",
      "TituloBusqueda : por que no eres como todos\n",
      "\n",
      "Titulo : None\n",
      "Autor : jose maria esteban bermudez\n",
      "Editor : pearson educacion, s.a.\n",
      "TituloBusqueda : None\n",
      "\n",
      "17/10 positive, 26/10 negative\n",
      "Do these records refer to the same thing?\n",
      "(y)es / (n)o / (u)nsure / (f)inished / (p)revious\n"
     ]
    },
    {
     "name": "stdout",
     "output_type": "stream",
     "text": [
      "n\n"
     ]
    },
    {
     "name": "stderr",
     "output_type": "stream",
     "text": [
      "Titulo : deuda externa. jornadas de estudio\n",
      "Autor : puertas moya, francisco ernesto\n",
      "Editor : congdcar\n",
      "TituloBusqueda : deuda externa. jornadas de estudio\n",
      "\n",
      "Titulo : deuda externa. jornadas de estudio\n",
      "Autor : None\n",
      "Editor : congdcar\n",
      "TituloBusqueda : deuda externa. jornadas de estudio\n",
      "\n",
      "17/10 positive, 27/10 negative\n",
      "Do these records refer to the same thing?\n",
      "(y)es / (n)o / (u)nsure / (f)inished / (p)revious\n"
     ]
    },
    {
     "name": "stdout",
     "output_type": "stream",
     "text": [
      "y\n"
     ]
    },
    {
     "name": "stderr",
     "output_type": "stream",
     "text": [
      "Titulo : None\n",
      "Autor : alfredo borque palacin\n",
      "Editor : itp - paraninfo, s.a.\n",
      "TituloBusqueda : None\n",
      "\n",
      "Titulo : None\n",
      "Autor : alfredo borque palacin\n",
      "Editor : itp - paraninfo, s.a.\n",
      "TituloBusqueda : None\n",
      "\n",
      "18/10 positive, 27/10 negative\n",
      "Do these records refer to the same thing?\n",
      "(y)es / (n)o / (u)nsure / (f)inished / (p)revious\n"
     ]
    },
    {
     "name": "stdout",
     "output_type": "stream",
     "text": [
      "u\n"
     ]
    },
    {
     "name": "stderr",
     "output_type": "stream",
     "text": [
      "Titulo : el secreto tibetano de la eterna juventud\n",
      "Autor : None\n",
      "Editor : None\n",
      "TituloBusqueda : el secreto tibetano de la eterna juventud\n",
      "\n",
      "Titulo : costa de la muerte\n",
      "Autor : jose fernandez ferreiro\n",
      "Editor : grf. venus\n",
      "TituloBusqueda : costa de la muerte\n",
      "\n",
      "18/10 positive, 27/10 negative\n",
      "Do these records refer to the same thing?\n",
      "(y)es / (n)o / (u)nsure / (f)inished / (p)revious\n"
     ]
    },
    {
     "name": "stdout",
     "output_type": "stream",
     "text": [
      "n\n"
     ]
    },
    {
     "name": "stderr",
     "output_type": "stream",
     "text": [
      "Titulo : guia de lectura columna jove 000\n",
      "Autor : josepa angles soronellas\n",
      "Editor : None\n",
      "TituloBusqueda : guia de lectura columna jove 000\n",
      "\n",
      "Titulo : guia del super negociante\n",
      "Autor : None\n",
      "Editor : omega, s.a.\n",
      "TituloBusqueda : guia del super negociante\n",
      "\n",
      "18/10 positive, 28/10 negative\n",
      "Do these records refer to the same thing?\n",
      "(y)es / (n)o / (u)nsure / (f)inished / (p)revious\n"
     ]
    },
    {
     "name": "stdout",
     "output_type": "stream",
     "text": [
      "n\n"
     ]
    },
    {
     "name": "stderr",
     "output_type": "stream",
     "text": [
      "Titulo : lur entziklopedia tematika. (matematika)\n",
      "Autor : None\n",
      "Editor : None\n",
      "TituloBusqueda : lur entziklopedia tematika. (matematika)\n",
      "\n",
      "Titulo : gran enciclopedia gallega. t.iii\n",
      "Autor : salvador garcia bodano zunzunegui\n",
      "Editor : silverio canada\n",
      "TituloBusqueda : gran enciclopedia gallega. t.iii\n",
      "\n",
      "18/10 positive, 29/10 negative\n",
      "Do these records refer to the same thing?\n",
      "(y)es / (n)o / (u)nsure / (f)inished / (p)revious\n"
     ]
    },
    {
     "name": "stdout",
     "output_type": "stream",
     "text": [
      "n\n"
     ]
    },
    {
     "name": "stderr",
     "output_type": "stream",
     "text": [
      "Titulo : quadres de viatges\n",
      "Autor : None\n",
      "Editor : edicions 62\n",
      "TituloBusqueda : quadres de viatges\n",
      "\n",
      "Titulo : None\n",
      "Autor : None\n",
      "Editor : edicions 62, s.a.\n",
      "TituloBusqueda : None\n",
      "\n",
      "18/10 positive, 30/10 negative\n",
      "Do these records refer to the same thing?\n",
      "(y)es / (n)o / (u)nsure / (f)inished / (p)revious\n"
     ]
    },
    {
     "name": "stdout",
     "output_type": "stream",
     "text": [
      "u\n"
     ]
    },
    {
     "name": "stderr",
     "output_type": "stream",
     "text": [
      "Titulo : runas\n",
      "Autor : None\n",
      "Editor : juventud, s.a.\n",
      "TituloBusqueda : runas\n",
      "\n",
      "Titulo : None\n",
      "Autor : fernando alonso alonso\n",
      "Editor : grupo santillana de ediciones, s.a.\n",
      "TituloBusqueda : None\n",
      "\n",
      "18/10 positive, 30/10 negative\n",
      "Do these records refer to the same thing?\n",
      "(y)es / (n)o / (u)nsure / (f)inished / (p)revious\n"
     ]
    },
    {
     "name": "stdout",
     "output_type": "stream",
     "text": [
      "n\n"
     ]
    },
    {
     "name": "stderr",
     "output_type": "stream",
     "text": [
      "Titulo : osito algodones\n",
      "Autor : fernandez martinez, ana maria\n",
      "Editor : bruno\n",
      "TituloBusqueda : osito algodones\n",
      "\n",
      "Titulo : None\n",
      "Autor : maria del carmen morales baeza\n",
      "Editor : None\n",
      "TituloBusqueda : None\n",
      "\n",
      "18/10 positive, 31/10 negative\n",
      "Do these records refer to the same thing?\n",
      "(y)es / (n)o / (u)nsure / (f)inished / (p)revious\n"
     ]
    },
    {
     "name": "stdout",
     "output_type": "stream",
     "text": [
      "n\n"
     ]
    },
    {
     "name": "stderr",
     "output_type": "stream",
     "text": [
      "Titulo : espiadimonis 1, llengua catalana, educacio primaria, cicle mitja\n",
      "Autor : montserrat galicia gorritz\n",
      "Editor : None\n",
      "TituloBusqueda : espiadimonis 1, llengua catalana, educacio primaria, cicle mitja\n",
      "\n",
      "Titulo : coleccionable spiderman no 23\n",
      "Autor : None\n",
      "Editor : planeta de agostini, s.a.\n",
      "TituloBusqueda : coleccionable spiderman no 23\n",
      "\n",
      "18/10 positive, 32/10 negative\n",
      "Do these records refer to the same thing?\n",
      "(y)es / (n)o / (u)nsure / (f)inished / (p)revious\n"
     ]
    },
    {
     "name": "stdout",
     "output_type": "stream",
     "text": [
      "n\n"
     ]
    },
    {
     "name": "stderr",
     "output_type": "stream",
     "text": [
      "Titulo : None\n",
      "Autor : francisco caudet yarza\n",
      "Editor : None\n",
      "TituloBusqueda : None\n",
      "\n",
      "Titulo : None\n",
      "Autor : francisco caudet yarza\n",
      "Editor : editorial oceano, s.l.\n",
      "TituloBusqueda : None\n",
      "\n",
      "18/10 positive, 33/10 negative\n",
      "Do these records refer to the same thing?\n",
      "(y)es / (n)o / (u)nsure / (f)inished / (p)revious\n"
     ]
    },
    {
     "name": "stdout",
     "output_type": "stream",
     "text": [
      "u\n"
     ]
    },
    {
     "name": "stderr",
     "output_type": "stream",
     "text": [
      "Titulo : curso de electronica y micro. 3\n",
      "Autor : ruiz vassallo, francisco\n",
      "Editor : centro de estudios ceac, s.l. (grupo ceac)\n",
      "TituloBusqueda : curso de electronica y micro. 3\n",
      "\n",
      "Titulo : curso de comercio exterior\n",
      "Autor : None\n",
      "Editor : centro de estudios ceac, s.l. (grupo ceac)\n",
      "TituloBusqueda : curso de comercio exterior\n",
      "\n",
      "18/10 positive, 33/10 negative\n",
      "Do these records refer to the same thing?\n",
      "(y)es / (n)o / (u)nsure / (f)inished / (p)revious\n"
     ]
    },
    {
     "name": "stdout",
     "output_type": "stream",
     "text": [
      "u\n"
     ]
    },
    {
     "name": "stderr",
     "output_type": "stream",
     "text": [
      "Titulo : caramelos de menta\n",
      "Autor : carmen vazquez-vigo lopez\n",
      "Editor : None\n",
      "TituloBusqueda : caramelos de menta\n",
      "\n",
      "Titulo : None\n",
      "Autor : jeronimo lopez mozo\n",
      "Editor : None\n",
      "TituloBusqueda : None\n",
      "\n",
      "18/10 positive, 33/10 negative\n",
      "Do these records refer to the same thing?\n",
      "(y)es / (n)o / (u)nsure / (f)inished / (p)revious\n"
     ]
    },
    {
     "name": "stdout",
     "output_type": "stream",
     "text": [
      "u\n"
     ]
    },
    {
     "name": "stderr",
     "output_type": "stream",
     "text": [
      "Titulo : cupido se burlo de mary-dena\n",
      "Autor : corin tellado\n",
      "Editor : bruguera\n",
      "TituloBusqueda : cupido se burlo de mary-dena\n",
      "\n",
      "Titulo : diablillo\n",
      "Autor : corin tellado\n",
      "Editor : bruguera\n",
      "TituloBusqueda : diablillo\n",
      "\n",
      "18/10 positive, 33/10 negative\n",
      "Do these records refer to the same thing?\n",
      "(y)es / (n)o / (u)nsure / (f)inished / (p)revious\n"
     ]
    },
    {
     "name": "stdout",
     "output_type": "stream",
     "text": [
      "n\n"
     ]
    },
    {
     "name": "stderr",
     "output_type": "stream",
     "text": [
      "Titulo : None\n",
      "Autor : None\n",
      "Editor : salvat editores, s.a.\n",
      "TituloBusqueda : None\n",
      "\n",
      "Titulo : defectos en la construccion y accion de responsabilidad decenal\n",
      "Autor : vilalta, aure esther mendez, rosa ma\n",
      "Editor : editorial bosch, s.a.\n",
      "TituloBusqueda : defectos en la construccion y accion de responsabilidad decenal\n",
      "\n",
      "18/10 positive, 34/10 negative\n",
      "Do these records refer to the same thing?\n",
      "(y)es / (n)o / (u)nsure / (f)inished / (p)revious\n"
     ]
    },
    {
     "name": "stdout",
     "output_type": "stream",
     "text": [
      "n\n"
     ]
    },
    {
     "name": "stderr",
     "output_type": "stream",
     "text": [
      "Titulo : el mercado interbancario espanol: funcionamiento y significacion para una entidad de deposito.\n",
      "Autor : gonzalez velasco, maria del carmen\n",
      "Editor : servicio de publicaciones universidad de leon\n",
      "TituloBusqueda : el mercado interbancario espanol: funcionamiento y significacion para una entidad de deposito.\n",
      "\n",
      "Titulo : None\n",
      "Autor : jose maria figueres artigues\n",
      "Editor : None\n",
      "TituloBusqueda : None\n",
      "\n",
      "18/10 positive, 35/10 negative\n",
      "Do these records refer to the same thing?\n",
      "(y)es / (n)o / (u)nsure / (f)inished / (p)revious\n"
     ]
    },
    {
     "name": "stdout",
     "output_type": "stream",
     "text": [
      "n\n"
     ]
    },
    {
     "name": "stderr",
     "output_type": "stream",
     "text": [
      "Titulo : surrealismo, el ojo soluble\n",
      "Autor : rafael santos torroella\n",
      "Editor : None\n",
      "TituloBusqueda : None\n",
      "\n",
      "Titulo : None\n",
      "Autor : herbert heinrich\n",
      "Editor : moll, s.l.\n",
      "TituloBusqueda : None\n",
      "\n",
      "18/10 positive, 36/10 negative\n",
      "Do these records refer to the same thing?\n",
      "(y)es / (n)o / (u)nsure / (f)inished / (p)revious\n"
     ]
    },
    {
     "name": "stdout",
     "output_type": "stream",
     "text": [
      "n\n"
     ]
    },
    {
     "name": "stderr",
     "output_type": "stream",
     "text": [
      "Titulo : no permitas que te ofenda\n",
      "Autor : corin tellado\n",
      "Editor : bruguera\n",
      "TituloBusqueda : no permitas que te ofenda\n",
      "\n",
      "Titulo : ojos bonitos\n",
      "Autor : corin tellado\n",
      "Editor : bruguera\n",
      "TituloBusqueda : ojos bonitos\n",
      "\n",
      "18/10 positive, 37/10 negative\n",
      "Do these records refer to the same thing?\n",
      "(y)es / (n)o / (u)nsure / (f)inished / (p)revious\n"
     ]
    },
    {
     "name": "stdout",
     "output_type": "stream",
     "text": [
      "n\n"
     ]
    },
    {
     "name": "stderr",
     "output_type": "stream",
     "text": [
      "Titulo : se solicita enfermera\n",
      "Autor : corin tellado\n",
      "Editor : bruguera\n",
      "TituloBusqueda : se solicita enfermera\n",
      "\n",
      "Titulo : el doloroso ayer\n",
      "Autor : corin tellado\n",
      "Editor : bruguera\n",
      "TituloBusqueda : el doloroso ayer\n",
      "\n",
      "18/10 positive, 38/10 negative\n",
      "Do these records refer to the same thing?\n",
      "(y)es / (n)o / (u)nsure / (f)inished / (p)revious\n"
     ]
    },
    {
     "name": "stdout",
     "output_type": "stream",
     "text": [
      "u\n"
     ]
    },
    {
     "name": "stderr",
     "output_type": "stream",
     "text": [
      "Titulo : recuerdo del pasado\n",
      "Autor : corin tellado\n",
      "Editor : bruguera\n",
      "TituloBusqueda : recuerdo del pasado\n",
      "\n",
      "Titulo : cupido se burlo de mary-dena\n",
      "Autor : corin tellado\n",
      "Editor : bruguera\n",
      "TituloBusqueda : cupido se burlo de mary-dena\n",
      "\n",
      "18/10 positive, 38/10 negative\n",
      "Do these records refer to the same thing?\n",
      "(y)es / (n)o / (u)nsure / (f)inished / (p)revious\n"
     ]
    },
    {
     "name": "stdout",
     "output_type": "stream",
     "text": [
      "n\n"
     ]
    },
    {
     "name": "stderr",
     "output_type": "stream",
     "text": [
      "Titulo : None\n",
      "Autor : manuel maria fernandez teijeiro\n",
      "Editor : sm\n",
      "TituloBusqueda : None\n",
      "\n",
      "Titulo : matematicas aplicadas a las ciencias sociales ii: 2o bachillerato. recursos didacticos\n",
      "Autor : juan jose romo urroz\n",
      "Editor : sm\n",
      "TituloBusqueda : matematicas aplicadas a las ciencias sociales ii: 2o bachillerato. recursos didacticos\n",
      "\n",
      "18/10 positive, 39/10 negative\n",
      "Do these records refer to the same thing?\n",
      "(y)es / (n)o / (u)nsure / (f)inished / (p)revious\n"
     ]
    },
    {
     "name": "stdout",
     "output_type": "stream",
     "text": [
      "n\n"
     ]
    },
    {
     "name": "stderr",
     "output_type": "stream",
     "text": [
      "Titulo : None\n",
      "Autor : teresa sabate rodie\n",
      "Editor : miguel a. salvatella, s.a.\n",
      "TituloBusqueda : None\n",
      "\n",
      "Titulo : super short-stories\n",
      "Autor : None\n",
      "Editor : edicions 62, s.a.\n",
      "TituloBusqueda : super short-stories\n",
      "\n",
      "18/10 positive, 40/10 negative\n",
      "Do these records refer to the same thing?\n",
      "(y)es / (n)o / (u)nsure / (f)inished / (p)revious\n"
     ]
    },
    {
     "name": "stdout",
     "output_type": "stream",
     "text": [
      "n\n"
     ]
    },
    {
     "name": "stderr",
     "output_type": "stream",
     "text": [
      "Titulo : teatro de enrique buenaventura\n",
      "Autor : garzon cespedes, francisco\n",
      "Editor : casa de las americas\n",
      "TituloBusqueda : teatro de enrique buenaventura\n",
      "\n",
      "Titulo : None\n",
      "Autor : francisco caudet yarza\n",
      "Editor : None\n",
      "TituloBusqueda : None\n",
      "\n",
      "18/10 positive, 41/10 negative\n",
      "Do these records refer to the same thing?\n",
      "(y)es / (n)o / (u)nsure / (f)inished / (p)revious\n"
     ]
    },
    {
     "name": "stdout",
     "output_type": "stream",
     "text": [
      "n\n"
     ]
    },
    {
     "name": "stderr",
     "output_type": "stream",
     "text": [
      "Titulo : recuerdo del pasado\n",
      "Autor : corin tellado\n",
      "Editor : bruguera\n",
      "TituloBusqueda : recuerdo del pasado\n",
      "\n",
      "Titulo : querian casarse\n",
      "Autor : corin tellado\n",
      "Editor : None\n",
      "TituloBusqueda : querian casarse\n",
      "\n",
      "18/10 positive, 42/10 negative\n",
      "Do these records refer to the same thing?\n",
      "(y)es / (n)o / (u)nsure / (f)inished / (p)revious\n"
     ]
    },
    {
     "name": "stdout",
     "output_type": "stream",
     "text": [
      "n\n"
     ]
    },
    {
     "name": "stderr",
     "output_type": "stream",
     "text": [
      "Titulo : ii congreso internacional nueva espana y el caribe\n",
      "Autor : ortuno martinez, manuel\n",
      "Editor : None\n",
      "TituloBusqueda : ii congreso internacional nueva espana y el caribe\n",
      "\n",
      "Titulo : None\n",
      "Autor : francisco caudet yarza\n",
      "Editor : None\n",
      "TituloBusqueda : None\n",
      "\n",
      "18/10 positive, 43/10 negative\n",
      "Do these records refer to the same thing?\n",
      "(y)es / (n)o / (u)nsure / (f)inished / (p)revious\n"
     ]
    },
    {
     "name": "stdout",
     "output_type": "stream",
     "text": [
      "n\n"
     ]
    },
    {
     "name": "stderr",
     "output_type": "stream",
     "text": [
      "Titulo : un elefant amb cor docell\n",
      "Autor : ma asuncion landa etxebeste\n",
      "Editor : barcanova, s.a.\n",
      "TituloBusqueda : un elefant amb cor docell\n",
      "\n",
      "Titulo : None\n",
      "Autor : sebastia bech camps\n",
      "Editor : barcanova, s.a.\n",
      "TituloBusqueda : None\n",
      "\n",
      "18/10 positive, 44/10 negative\n",
      "Do these records refer to the same thing?\n",
      "(y)es / (n)o / (u)nsure / (f)inished / (p)revious\n"
     ]
    },
    {
     "name": "stdout",
     "output_type": "stream",
     "text": [
      "u\n"
     ]
    },
    {
     "name": "stderr",
     "output_type": "stream",
     "text": [
      "Titulo : no te enamores muchacha\n",
      "Autor : corin tellado\n",
      "Editor : bruguera\n",
      "TituloBusqueda : no te enamores muchacha\n",
      "\n",
      "Titulo : hasta aquel dia\n",
      "Autor : corin tellado\n",
      "Editor : bruguera\n",
      "TituloBusqueda : hasta aquel dia\n",
      "\n",
      "18/10 positive, 44/10 negative\n",
      "Do these records refer to the same thing?\n",
      "(y)es / (n)o / (u)nsure / (f)inished / (p)revious\n"
     ]
    },
    {
     "name": "stdout",
     "output_type": "stream",
     "text": [
      "n\n"
     ]
    },
    {
     "name": "stderr",
     "output_type": "stream",
     "text": [
      "Titulo : hasta aquel dia\n",
      "Autor : corin tellado\n",
      "Editor : bruguera\n",
      "TituloBusqueda : hasta aquel dia\n",
      "\n",
      "Titulo : ... y sono su felicidad\n",
      "Autor : corin tellado\n",
      "Editor : bruguera\n",
      "TituloBusqueda : ... y sono su felicidad\n",
      "\n",
      "18/10 positive, 45/10 negative\n",
      "Do these records refer to the same thing?\n",
      "(y)es / (n)o / (u)nsure / (f)inished / (p)revious\n"
     ]
    },
    {
     "name": "stdout",
     "output_type": "stream",
     "text": [
      "u\n"
     ]
    },
    {
     "name": "stderr",
     "output_type": "stream",
     "text": [
      "Titulo : expropiacion forzosa: el justiprecio: guia practica y jurisprudencia\n",
      "Autor : miguel lopez-muniz goni\n",
      "Editor : editorial constitucion y leyes, s.a.\n",
      "TituloBusqueda : expropiacion forzosa: el justiprecio: guia practica y jurisprudencia\n",
      "\n",
      "Titulo : amb tot el cor\n",
      "Autor : None\n",
      "Editor : beascoa, s.a.\n",
      "TituloBusqueda : amb tot el cor\n",
      "\n",
      "18/10 positive, 45/10 negative\n",
      "Do these records refer to the same thing?\n",
      "(y)es / (n)o / (u)nsure / (f)inished / (p)revious\n"
     ]
    },
    {
     "name": "stdout",
     "output_type": "stream",
     "text": [
      "n\n"
     ]
    },
    {
     "name": "stderr",
     "output_type": "stream",
     "text": [
      "Titulo : dejame adorarte, isabel\n",
      "Autor : corin tellado\n",
      "Editor : bruguera\n",
      "TituloBusqueda : dejame adorarte, isabel\n",
      "\n",
      "Titulo : corazon toruturado\n",
      "Autor : corin tellado\n",
      "Editor : bruguera\n",
      "TituloBusqueda : corazon toruturado\n",
      "\n",
      "18/10 positive, 46/10 negative\n",
      "Do these records refer to the same thing?\n",
      "(y)es / (n)o / (u)nsure / (f)inished / (p)revious\n"
     ]
    },
    {
     "name": "stdout",
     "output_type": "stream",
     "text": [
      "n\n"
     ]
    },
    {
     "name": "stderr",
     "output_type": "stream",
     "text": [
      "Titulo : comprare un marido\n",
      "Autor : corin tellado\n",
      "Editor : bruguera\n",
      "TituloBusqueda : comprare un marido\n",
      "\n",
      "Titulo : dos rostros y una mujer\n",
      "Autor : corin tellado\n",
      "Editor : bruguera\n",
      "TituloBusqueda : dos rostros y una mujer\n",
      "\n",
      "18/10 positive, 47/10 negative\n",
      "Do these records refer to the same thing?\n",
      "(y)es / (n)o / (u)nsure / (f)inished / (p)revious\n"
     ]
    },
    {
     "name": "stdout",
     "output_type": "stream",
     "text": [
      "n\n"
     ]
    },
    {
     "name": "stderr",
     "output_type": "stream",
     "text": [
      "Titulo : nuestra cocina i\n",
      "Autor : fidalgo sanchez, jose antonio\n",
      "Editor : principado, s.l.\n",
      "TituloBusqueda : nuestra cocina i\n",
      "\n",
      "Titulo : None\n",
      "Autor : jose maria figueres artigues\n",
      "Editor : None\n",
      "TituloBusqueda : None\n",
      "\n",
      "18/10 positive, 48/10 negative\n",
      "Do these records refer to the same thing?\n",
      "(y)es / (n)o / (u)nsure / (f)inished / (p)revious\n"
     ]
    },
    {
     "name": "stdout",
     "output_type": "stream",
     "text": [
      "n\n"
     ]
    },
    {
     "name": "stderr",
     "output_type": "stream",
     "text": [
      "Titulo : encontre a mi mujer\n",
      "Autor : corin tellado\n",
      "Editor : bruguera\n",
      "TituloBusqueda : encontre a mi mujer\n",
      "\n",
      "Titulo : odio en la aldea\n",
      "Autor : corin tellado\n",
      "Editor : bruguera\n",
      "TituloBusqueda : odio en la aldea\n",
      "\n",
      "18/10 positive, 49/10 negative\n",
      "Do these records refer to the same thing?\n",
      "(y)es / (n)o / (u)nsure / (f)inished / (p)revious\n"
     ]
    },
    {
     "name": "stdout",
     "output_type": "stream",
     "text": [
      "y\n"
     ]
    },
    {
     "name": "stderr",
     "output_type": "stream",
     "text": [
      "Titulo : compact 2005\n",
      "Autor : None\n",
      "Editor : universidad catolica nuestra senora de la asuncion\n",
      "TituloBusqueda : compact 2005\n",
      "\n",
      "Titulo : athletic club. libro oficial temporada 2004-2005\n",
      "Autor : None\n",
      "Editor : el correo espanol\n",
      "TituloBusqueda : athletic club. libro oficial temporada 2004-2005\n",
      "\n",
      "19/10 positive, 49/10 negative\n",
      "Do these records refer to the same thing?\n",
      "(y)es / (n)o / (u)nsure / (f)inished / (p)revious\n"
     ]
    },
    {
     "name": "stdout",
     "output_type": "stream",
     "text": [
      "n\n"
     ]
    },
    {
     "name": "stderr",
     "output_type": "stream",
     "text": [
      "Titulo : la espera y el triunfo\n",
      "Autor : tellado, corin\n",
      "Editor : bruguera\n",
      "TituloBusqueda : la espera y el triunfo\n",
      "\n",
      "Titulo : algun dia volvere\n",
      "Autor : tellado, corin\n",
      "Editor : bruguera\n",
      "TituloBusqueda : algun dia volvere\n",
      "\n",
      "19/10 positive, 50/10 negative\n",
      "Do these records refer to the same thing?\n",
      "(y)es / (n)o / (u)nsure / (f)inished / (p)revious\n"
     ]
    },
    {
     "name": "stdout",
     "output_type": "stream",
     "text": [
      "n\n"
     ]
    },
    {
     "name": "stderr",
     "output_type": "stream",
     "text": [
      "Titulo : no permitas que te ofenda\n",
      "Autor : corin tellado\n",
      "Editor : bruguera\n",
      "TituloBusqueda : no permitas que te ofenda\n",
      "\n",
      "Titulo : ten cuidado, irene\n",
      "Autor : corin tellado\n",
      "Editor : bruguera\n",
      "TituloBusqueda : ten cuidado, irene\n",
      "\n",
      "19/10 positive, 51/10 negative\n",
      "Do these records refer to the same thing?\n",
      "(y)es / (n)o / (u)nsure / (f)inished / (p)revious\n"
     ]
    },
    {
     "name": "stdout",
     "output_type": "stream",
     "text": [
      "u\n"
     ]
    },
    {
     "name": "stderr",
     "output_type": "stream",
     "text": [
      "Titulo : la casa de los solteros\n",
      "Autor : corin tellado\n",
      "Editor : bruguera\n",
      "TituloBusqueda : la casa de los solteros\n",
      "\n",
      "Titulo : comprare un marido\n",
      "Autor : corin tellado\n",
      "Editor : bruguera\n",
      "TituloBusqueda : comprare un marido\n",
      "\n",
      "19/10 positive, 51/10 negative\n",
      "Do these records refer to the same thing?\n",
      "(y)es / (n)o / (u)nsure / (f)inished / (p)revious\n"
     ]
    },
    {
     "name": "stdout",
     "output_type": "stream",
     "text": [
      "n\n"
     ]
    },
    {
     "name": "stderr",
     "output_type": "stream",
     "text": [
      "Titulo : dejame hacerte feliz\n",
      "Autor : tellado, corin\n",
      "Editor : bruguera\n",
      "TituloBusqueda : dejame hacerte feliz\n",
      "\n",
      "Titulo : corin tellado\n",
      "Autor : tellado, corin\n",
      "Editor : bruguera\n",
      "TituloBusqueda : corin tellado\n",
      "\n",
      "19/10 positive, 52/10 negative\n",
      "Do these records refer to the same thing?\n",
      "(y)es / (n)o / (u)nsure / (f)inished / (p)revious\n"
     ]
    },
    {
     "name": "stdout",
     "output_type": "stream",
     "text": [
      "n\n"
     ]
    },
    {
     "name": "stderr",
     "output_type": "stream",
     "text": [
      "Titulo : la espera y el triunfo\n",
      "Autor : tellado, corin\n",
      "Editor : bruguera\n",
      "TituloBusqueda : la espera y el triunfo\n",
      "\n",
      "Titulo : ella y los hombres\n",
      "Autor : tellado, corin\n",
      "Editor : bruguera\n",
      "TituloBusqueda : ella y los hombres\n",
      "\n",
      "19/10 positive, 53/10 negative\n",
      "Do these records refer to the same thing?\n",
      "(y)es / (n)o / (u)nsure / (f)inished / (p)revious\n"
     ]
    },
    {
     "name": "stdout",
     "output_type": "stream",
     "text": [
      "u\n"
     ]
    },
    {
     "name": "stderr",
     "output_type": "stream",
     "text": [
      "Titulo : su alteza real\n",
      "Autor : tellado, corin\n",
      "Editor : bruguera\n",
      "TituloBusqueda : su alteza real\n",
      "\n",
      "Titulo : olvidame, paula\n",
      "Autor : tellado, corin\n",
      "Editor : bruguera\n",
      "TituloBusqueda : olvidame, paula\n",
      "\n",
      "19/10 positive, 53/10 negative\n",
      "Do these records refer to the same thing?\n",
      "(y)es / (n)o / (u)nsure / (f)inished / (p)revious\n"
     ]
    },
    {
     "name": "stdout",
     "output_type": "stream",
     "text": [
      "n\n"
     ]
    },
    {
     "name": "stderr",
     "output_type": "stream",
     "text": [
      "Titulo : papa y su novia\n",
      "Autor : tellado, corin\n",
      "Editor : bruguera\n",
      "TituloBusqueda : papa y su novia\n",
      "\n",
      "Titulo : los gemelos\n",
      "Autor : tellado, corin\n",
      "Editor : bruguera\n",
      "TituloBusqueda : los gemelos\n",
      "\n",
      "19/10 positive, 54/10 negative\n",
      "Do these records refer to the same thing?\n",
      "(y)es / (n)o / (u)nsure / (f)inished / (p)revious\n"
     ]
    },
    {
     "name": "stdout",
     "output_type": "stream",
     "text": [
      "y\n"
     ]
    },
    {
     "name": "stderr",
     "output_type": "stream",
     "text": [
      "Titulo : no te enamores muchacha\n",
      "Autor : corin tellado\n",
      "Editor : bruguera\n",
      "TituloBusqueda : no te enamores muchacha\n",
      "\n",
      "Titulo : recuerdo del pasado\n",
      "Autor : corin tellado\n",
      "Editor : bruguera\n",
      "TituloBusqueda : recuerdo del pasado\n",
      "\n",
      "20/10 positive, 54/10 negative\n",
      "Do these records refer to the same thing?\n",
      "(y)es / (n)o / (u)nsure / (f)inished / (p)revious\n"
     ]
    },
    {
     "name": "stdout",
     "output_type": "stream",
     "text": [
      "u\n"
     ]
    },
    {
     "name": "stderr",
     "output_type": "stream",
     "text": [
      "Titulo : felicidad\n",
      "Autor : corin tellado\n",
      "Editor : bruguera\n",
      "TituloBusqueda : felicidad\n",
      "\n",
      "Titulo : ojos bonitos\n",
      "Autor : corin tellado\n",
      "Editor : bruguera\n",
      "TituloBusqueda : ojos bonitos\n",
      "\n",
      "20/10 positive, 54/10 negative\n",
      "Do these records refer to the same thing?\n",
      "(y)es / (n)o / (u)nsure / (f)inished / (p)revious\n"
     ]
    },
    {
     "name": "stdout",
     "output_type": "stream",
     "text": [
      "n\n"
     ]
    },
    {
     "name": "stderr",
     "output_type": "stream",
     "text": [
      "Titulo : el secreto de mildred\n",
      "Autor : corin tellado\n",
      "Editor : bruguera\n",
      "TituloBusqueda : el secreto de mildred\n",
      "\n",
      "Titulo : aquella muchacha\n",
      "Autor : corin tellado\n",
      "Editor : bruguera\n",
      "TituloBusqueda : aquella muchacha\n",
      "\n",
      "20/10 positive, 55/10 negative\n",
      "Do these records refer to the same thing?\n",
      "(y)es / (n)o / (u)nsure / (f)inished / (p)revious\n"
     ]
    },
    {
     "name": "stdout",
     "output_type": "stream",
     "text": [
      "y\n"
     ]
    },
    {
     "name": "stderr",
     "output_type": "stream",
     "text": [
      "Titulo : otra vez contigo\n",
      "Autor : tellado, corin\n",
      "Editor : bruguera\n",
      "TituloBusqueda : otra vez contigo\n",
      "\n",
      "Titulo : futuro incierto\n",
      "Autor : tellado, corin\n",
      "Editor : bruguera\n",
      "TituloBusqueda : futuro incierto\n",
      "\n",
      "21/10 positive, 55/10 negative\n",
      "Do these records refer to the same thing?\n",
      "(y)es / (n)o / (u)nsure / (f)inished / (p)revious\n"
     ]
    },
    {
     "name": "stdout",
     "output_type": "stream",
     "text": [
      "u\n"
     ]
    },
    {
     "name": "stderr",
     "output_type": "stream",
     "text": [
      "Titulo : no te enamores muchacha\n",
      "Autor : corin tellado\n",
      "Editor : bruguera\n",
      "TituloBusqueda : no te enamores muchacha\n",
      "\n",
      "Titulo : ... y sono su felicidad\n",
      "Autor : corin tellado\n",
      "Editor : bruguera\n",
      "TituloBusqueda : ... y sono su felicidad\n",
      "\n",
      "21/10 positive, 55/10 negative\n",
      "Do these records refer to the same thing?\n",
      "(y)es / (n)o / (u)nsure / (f)inished / (p)revious\n"
     ]
    },
    {
     "name": "stdout",
     "output_type": "stream",
     "text": [
      "n\n"
     ]
    },
    {
     "name": "stderr",
     "output_type": "stream",
     "text": [
      "Titulo : bendita tu\n",
      "Autor : tellado, corin\n",
      "Editor : bruguera\n",
      "TituloBusqueda : bendita tu\n",
      "\n",
      "Titulo : tres amores\n",
      "Autor : tellado, corin\n",
      "Editor : bruguera\n",
      "TituloBusqueda : tres amores\n",
      "\n",
      "21/10 positive, 56/10 negative\n",
      "Do these records refer to the same thing?\n",
      "(y)es / (n)o / (u)nsure / (f)inished / (p)revious\n"
     ]
    },
    {
     "name": "stdout",
     "output_type": "stream",
     "text": [
      "n\n"
     ]
    },
    {
     "name": "stderr",
     "output_type": "stream",
     "text": [
      "Titulo : el profesorado y la prevencion de las drogodependencias\n",
      "Autor : None\n",
      "Editor : grupo interdiciplinar sobre drogas\n",
      "TituloBusqueda : el profesorado y la prevencion de las drogodependencias\n",
      "\n",
      "Titulo : pepe : novela con interferencias\n",
      "Autor : rafael castellano\n",
      "Editor : taurus\n",
      "TituloBusqueda : pepe : novela con interferencias\n",
      "\n",
      "21/10 positive, 57/10 negative\n",
      "Do these records refer to the same thing?\n",
      "(y)es / (n)o / (u)nsure / (f)inished / (p)revious\n"
     ]
    },
    {
     "name": "stdout",
     "output_type": "stream",
     "text": [
      "n\n"
     ]
    },
    {
     "name": "stderr",
     "output_type": "stream",
     "text": [
      "Titulo : gestion de la biodiversidad\n",
      "Autor : varios\n",
      "Editor : wrm-unced\n",
      "TituloBusqueda : gestion de la biodiversidad\n",
      "\n",
      "Titulo : pueblos indigenas y biodiversidad\n",
      "Autor : None\n",
      "Editor : wwf\n",
      "TituloBusqueda : pueblos indigenas y biodiversidad\n",
      "\n",
      "21/10 positive, 58/10 negative\n",
      "Do these records refer to the same thing?\n",
      "(y)es / (n)o / (u)nsure / (f)inished / (p)revious\n"
     ]
    },
    {
     "name": "stdout",
     "output_type": "stream",
     "text": [
      "n\n"
     ]
    },
    {
     "name": "stderr",
     "output_type": "stream",
     "text": [
      "Titulo : la contradiccion en el concejo municipal indiano\n",
      "Autor : de toro-garland garland, fernando\n",
      "Editor : None\n",
      "TituloBusqueda : la contradiccion en el concejo municipal indiano\n",
      "\n",
      "Titulo : la conservacion de la biodiversidad y la democracia\n",
      "Autor : varios\n",
      "Editor : wwf\n",
      "TituloBusqueda : la conservacion de la biodiversidad y la democracia\n",
      "\n",
      "21/10 positive, 59/10 negative\n",
      "Do these records refer to the same thing?\n",
      "(y)es / (n)o / (u)nsure / (f)inished / (p)revious\n"
     ]
    },
    {
     "name": "stdout",
     "output_type": "stream",
     "text": [
      "n\n"
     ]
    },
    {
     "name": "stderr",
     "output_type": "stream",
     "text": [
      "Titulo : no me compadezcas\n",
      "Autor : tellado, corin\n",
      "Editor : ruguera\n",
      "TituloBusqueda : no me compadezcas\n",
      "\n",
      "Titulo : nos casaremos\n",
      "Autor : tellado, corin\n",
      "Editor : bruguera\n",
      "TituloBusqueda : nos casaremos\n",
      "\n",
      "21/10 positive, 60/10 negative\n",
      "Do these records refer to the same thing?\n",
      "(y)es / (n)o / (u)nsure / (f)inished / (p)revious\n"
     ]
    },
    {
     "name": "stdout",
     "output_type": "stream",
     "text": [
      "u\n"
     ]
    },
    {
     "name": "stderr",
     "output_type": "stream",
     "text": [
      "Titulo : luz roja para el amor\n",
      "Autor : tellado, corin\n",
      "Editor : bruguera\n",
      "TituloBusqueda : luz roja para el amor\n",
      "\n",
      "Titulo : paraula darbre\n",
      "Autor : None\n",
      "Editor : noguer y caralt editores, s.a.\n",
      "TituloBusqueda : paraula darbre\n",
      "\n",
      "21/10 positive, 60/10 negative\n",
      "Do these records refer to the same thing?\n",
      "(y)es / (n)o / (u)nsure / (f)inished / (p)revious\n"
     ]
    },
    {
     "name": "stdout",
     "output_type": "stream",
     "text": [
      "n\n"
     ]
    },
    {
     "name": "stderr",
     "output_type": "stream",
     "text": [
      "Titulo : materiales de motivacion en casa y en el aula\n",
      "Autor : None\n",
      "Editor : cohs\n",
      "TituloBusqueda : materiales de motivacion en casa y en el aula\n",
      "\n",
      "Titulo : el perdigon canibal de atapuerca\n",
      "Autor : daniel gomez culla\n",
      "Editor : gomez de culla, daniel\n",
      "TituloBusqueda : el perdigon canibal de atapuerca\n",
      "\n",
      "21/10 positive, 61/10 negative\n",
      "Do these records refer to the same thing?\n",
      "(y)es / (n)o / (u)nsure / (f)inished / (p)revious\n"
     ]
    },
    {
     "name": "stdout",
     "output_type": "stream",
     "text": [
      "n\n"
     ]
    },
    {
     "name": "stderr",
     "output_type": "stream",
     "text": [
      "Titulo : accidente\n",
      "Autor : None\n",
      "Editor : random house mondadori, s.a.\n",
      "TituloBusqueda : accidente\n",
      "\n",
      "Titulo : ley de sociedades anonimas\n",
      "Autor : None\n",
      "Editor : tecnos, s.a.\n",
      "TituloBusqueda : ley de sociedades anonimas\n",
      "\n",
      "21/10 positive, 62/10 negative\n",
      "Do these records refer to the same thing?\n",
      "(y)es / (n)o / (u)nsure / (f)inished / (p)revious\n"
     ]
    },
    {
     "name": "stdout",
     "output_type": "stream",
     "text": [
      "n\n"
     ]
    },
    {
     "name": "stderr",
     "output_type": "stream",
     "text": [
      "Titulo : el sector internacional no lucrativo\n",
      "Autor : varios\n",
      "Editor : johns hopkins university\n",
      "TituloBusqueda : el sector internacional no lucrativo\n",
      "\n",
      "Titulo : la conservacion de la biodiversidad y la democracia\n",
      "Autor : varios\n",
      "Editor : wwf\n",
      "TituloBusqueda : la conservacion de la biodiversidad y la democracia\n",
      "\n",
      "21/10 positive, 63/10 negative\n",
      "Do these records refer to the same thing?\n",
      "(y)es / (n)o / (u)nsure / (f)inished / (p)revious\n"
     ]
    },
    {
     "name": "stdout",
     "output_type": "stream",
     "text": [
      "n\n"
     ]
    },
    {
     "name": "stderr",
     "output_type": "stream",
     "text": [
      "Titulo : sistemas de telefonia\n",
      "Autor : jose manuel huidobro moya\n",
      "Editor : itp - paraninfo, s.a.\n",
      "TituloBusqueda : sistemas de telefonia\n",
      "\n",
      "Titulo : instalaciones automatizadas en viviendas y oficinas\n",
      "Autor : jose moreno gil\n",
      "Editor : itp - paraninfo, s.a.\n",
      "TituloBusqueda : instalaciones automatizadas en viviendas y oficinas\n",
      "\n",
      "21/10 positive, 64/10 negative\n",
      "Do these records refer to the same thing?\n",
      "(y)es / (n)o / (u)nsure / (f)inished / (p)revious\n"
     ]
    },
    {
     "name": "stdout",
     "output_type": "stream",
     "text": [
      "n\n"
     ]
    },
    {
     "name": "stderr",
     "output_type": "stream",
     "text": [
      "Titulo : None\n",
      "Autor : herbert heinrich\n",
      "Editor : moll, s.l.\n",
      "TituloBusqueda : None\n",
      "\n",
      "Titulo : None\n",
      "Autor : josep maria palau camps\n",
      "Editor : moll, s.l.\n",
      "TituloBusqueda : None\n",
      "\n",
      "21/10 positive, 65/10 negative\n",
      "Do these records refer to the same thing?\n",
      "(y)es / (n)o / (u)nsure / (f)inished / (p)revious\n"
     ]
    },
    {
     "name": "stdout",
     "output_type": "stream",
     "text": [
      "y\n"
     ]
    },
    {
     "name": "stderr",
     "output_type": "stream",
     "text": [
      "Titulo : matsu pudo equivocarse\n",
      "Autor : jose luis vila-san-juan oliva\n",
      "Editor : random house mondadori, s.a.\n",
      "TituloBusqueda : matsu pudo equivocarse\n",
      "\n",
      "Titulo : linforme\n",
      "Autor : jose llopis domingo\n",
      "Editor : None\n",
      "TituloBusqueda : linforme\n",
      "\n",
      "22/10 positive, 65/10 negative\n",
      "Do these records refer to the same thing?\n",
      "(y)es / (n)o / (u)nsure / (f)inished / (p)revious\n"
     ]
    },
    {
     "name": "stdout",
     "output_type": "stream",
     "text": [
      "n\n"
     ]
    },
    {
     "name": "stderr",
     "output_type": "stream",
     "text": [
      "Titulo : curso de fontaneria. prueba de evaluacion 18\n",
      "Autor : pedro sanz de miguel\n",
      "Editor : centro de estudios ceac, s.l. (grupo ceac)\n",
      "TituloBusqueda : curso de fontaneria. prueba de evaluacion 18\n",
      "\n",
      "Titulo : None\n",
      "Autor : francisco ruiz vassallo\n",
      "Editor : centro de estudios ceac, s.l. (grupo ceac)\n",
      "TituloBusqueda : None\n",
      "\n",
      "22/10 positive, 66/10 negative\n",
      "Do these records refer to the same thing?\n",
      "(y)es / (n)o / (u)nsure / (f)inished / (p)revious\n"
     ]
    },
    {
     "name": "stdout",
     "output_type": "stream",
     "text": [
      "n\n"
     ]
    },
    {
     "name": "stderr",
     "output_type": "stream",
     "text": [
      "Titulo : matematicas, educacion primaria. cuaderno 2\n",
      "Autor : edebe (ediciones don bosco)\n",
      "Editor : edebe (ediciones don bosco)\n",
      "TituloBusqueda : matematicas, educacion primaria. cuaderno 2\n",
      "\n",
      "Titulo : proyecto escuela. familia 2\n",
      "Autor : maria aurora de santiago munoz\n",
      "Editor : edebe (ediciones don bosco)\n",
      "TituloBusqueda : proyecto escuela. familia 2\n",
      "\n",
      "22/10 positive, 67/10 negative\n",
      "Do these records refer to the same thing?\n",
      "(y)es / (n)o / (u)nsure / (f)inished / (p)revious\n"
     ]
    },
    {
     "name": "stdout",
     "output_type": "stream",
     "text": [
      "n\n"
     ]
    },
    {
     "name": "stderr",
     "output_type": "stream",
     "text": [
      "Titulo : curso de fontaneria. prueba de evaluacion 17\n",
      "Autor : pedro sanz de miguel\n",
      "Editor : centro de estudios ceac, s.l. (grupo ceac)\n",
      "TituloBusqueda : curso de fontaneria. prueba de evaluacion 17\n",
      "\n",
      "Titulo : curso de electronica digital. practicas, tomo ii\n",
      "Autor : francisco ruiz vassallo\n",
      "Editor : centro de estudios ceac, s.l. (grupo ceac)\n",
      "TituloBusqueda : curso de electronica digital. practicas, tomo ii\n",
      "\n",
      "22/10 positive, 68/10 negative\n",
      "Do these records refer to the same thing?\n",
      "(y)es / (n)o / (u)nsure / (f)inished / (p)revious\n"
     ]
    },
    {
     "name": "stdout",
     "output_type": "stream",
     "text": [
      "n\n"
     ]
    },
    {
     "name": "stderr",
     "output_type": "stream",
     "text": [
      "Titulo : conocimiento de la diferencia y feminismo\n",
      "Autor : a. phoenix\n",
      "Editor : e-quality matters\n",
      "TituloBusqueda : conocimiento de la diferencia y feminismo\n",
      "\n",
      "Titulo : prensa y creacion de estereotipos\n",
      "Autor : l. ruijgers\n",
      "Editor : e-quality matters\n",
      "TituloBusqueda : prensa y creacion de estereotipos\n",
      "\n",
      "22/10 positive, 69/10 negative\n",
      "Do these records refer to the same thing?\n",
      "(y)es / (n)o / (u)nsure / (f)inished / (p)revious\n"
     ]
    },
    {
     "name": "stdout",
     "output_type": "stream",
     "text": [
      "n\n"
     ]
    },
    {
     "name": "stderr",
     "output_type": "stream",
     "text": [
      "Titulo : guia para la politica forestal mundial de los pueblos indigenas\n",
      "Autor : t.w. griffiths\n",
      "Editor : w.r.m.-f.p.p.\n",
      "TituloBusqueda : guia para la politica forestal mundial de los pueblos indigenas\n",
      "\n",
      "Titulo : memories politiques\n",
      "Autor : guillem-jordi graells andreu\n",
      "Editor : None\n",
      "TituloBusqueda : memories politiques\n",
      "\n",
      "22/10 positive, 70/10 negative\n",
      "Do these records refer to the same thing?\n",
      "(y)es / (n)o / (u)nsure / (f)inished / (p)revious\n"
     ]
    },
    {
     "name": "stdout",
     "output_type": "stream",
     "text": [
      "n\n"
     ]
    },
    {
     "name": "stderr",
     "output_type": "stream",
     "text": [
      "Titulo : la narrativa hispanoamericana en el siglo xx\n",
      "Autor : angeles cardona castro\n",
      "Editor : None\n",
      "TituloBusqueda : la narrativa hispanoamericana en el siglo xx\n",
      "\n",
      "Titulo : historia del siglo xx\n",
      "Autor : antonio eduardo tello arguello\n",
      "Editor : salvat editores, s.a.\n",
      "TituloBusqueda : historia del siglo xx\n",
      "\n",
      "22/10 positive, 71/10 negative\n",
      "Do these records refer to the same thing?\n",
      "(y)es / (n)o / (u)nsure / (f)inished / (p)revious\n"
     ]
    },
    {
     "name": "stdout",
     "output_type": "stream",
     "text": [
      "n\n"
     ]
    },
    {
     "name": "stderr",
     "output_type": "stream",
     "text": [
      "Titulo : la otra\n",
      "Autor : tellado, corin\n",
      "Editor : bruguera\n",
      "TituloBusqueda : la otra\n",
      "\n",
      "Titulo : la calidad de los alimentos\n",
      "Autor : jesus diez pouso\n",
      "Editor : None\n",
      "TituloBusqueda : la calidad de los alimentos\n",
      "\n",
      "22/10 positive, 72/10 negative\n",
      "Do these records refer to the same thing?\n",
      "(y)es / (n)o / (u)nsure / (f)inished / (p)revious\n"
     ]
    },
    {
     "name": "stdout",
     "output_type": "stream",
     "text": [
      "n\n"
     ]
    },
    {
     "name": "stderr",
     "output_type": "stream",
     "text": [
      "Titulo : pamphilus de amore\n",
      "Autor : None\n",
      "Editor : universidad de sevilla\n",
      "TituloBusqueda : pamphilus de amore\n",
      "\n",
      "Titulo : espana hoy\n",
      "Autor : vilarrubias solanes, felio antonio\n",
      "Editor : universidad la laguna\n",
      "TituloBusqueda : espana hoy\n",
      "\n",
      "22/10 positive, 73/10 negative\n",
      "Do these records refer to the same thing?\n",
      "(y)es / (n)o / (u)nsure / (f)inished / (p)revious\n"
     ]
    },
    {
     "name": "stdout",
     "output_type": "stream",
     "text": [
      "n\n"
     ]
    },
    {
     "name": "stderr",
     "output_type": "stream",
     "text": [
      "Titulo : el capo y las amazonas\n",
      "Autor : lopez, mario luis\n",
      "Editor : northeastern univ. press chicago\n",
      "TituloBusqueda : el capo y las amazonas\n",
      "\n",
      "Titulo : el capitan trueno y el caballo de hierro\n",
      "Autor : None\n",
      "Editor : ediciones b\n",
      "TituloBusqueda : el capitan trueno y el caballo de hierro\n",
      "\n",
      "22/10 positive, 74/10 negative\n",
      "Do these records refer to the same thing?\n",
      "(y)es / (n)o / (u)nsure / (f)inished / (p)revious\n"
     ]
    },
    {
     "name": "stdout",
     "output_type": "stream",
     "text": [
      "n\n"
     ]
    },
    {
     "name": "stderr",
     "output_type": "stream",
     "text": [
      "Titulo : o ano de 1993\n",
      "Autor : jose saramago\n",
      "Editor : futura\n",
      "TituloBusqueda : o ano de 1993\n",
      "\n",
      "Titulo : None\n",
      "Autor : jose cuello subirana\n",
      "Editor : altaya, s.a.\n",
      "TituloBusqueda : None\n",
      "\n",
      "22/10 positive, 75/10 negative\n",
      "Do these records refer to the same thing?\n",
      "(y)es / (n)o / (u)nsure / (f)inished / (p)revious\n"
     ]
    },
    {
     "name": "stdout",
     "output_type": "stream",
     "text": [
      "n\n"
     ]
    },
    {
     "name": "stderr",
     "output_type": "stream",
     "text": [
      "Titulo : epetiris tis etereias biotikon meleton, ii.2\n",
      "Autor : luis agustin garcia moreno\n",
      "Editor : None\n",
      "TituloBusqueda : epetiris tis etereias biotikon meleton, ii.2\n",
      "\n",
      "Titulo : ortografia 2\n",
      "Autor : josep maria cormand munoz\n",
      "Editor : onda, s.a.\n",
      "TituloBusqueda : ortografia 2\n",
      "\n",
      "22/10 positive, 76/10 negative\n",
      "Do these records refer to the same thing?\n",
      "(y)es / (n)o / (u)nsure / (f)inished / (p)revious\n"
     ]
    },
    {
     "name": "stdout",
     "output_type": "stream",
     "text": [
      "n\n"
     ]
    },
    {
     "name": "stderr",
     "output_type": "stream",
     "text": [
      "Titulo : materiales de motivacion en casa y en el aula\n",
      "Autor : None\n",
      "Editor : cohs\n",
      "TituloBusqueda : materiales de motivacion en casa y en el aula\n",
      "\n",
      "Titulo : deuda externa. jornadas de estudio\n",
      "Autor : None\n",
      "Editor : congdcar\n",
      "TituloBusqueda : deuda externa. jornadas de estudio\n",
      "\n",
      "22/10 positive, 77/10 negative\n",
      "Do these records refer to the same thing?\n",
      "(y)es / (n)o / (u)nsure / (f)inished / (p)revious\n"
     ]
    },
    {
     "name": "stdout",
     "output_type": "stream",
     "text": [
      "n\n"
     ]
    },
    {
     "name": "stderr",
     "output_type": "stream",
     "text": [
      "Titulo : historiadores y diplomaticos : el papel de la historia y de los historiadores en la politica exterior norteamericana\n",
      "Autor : comp. francis l. loewenheim colab. herbert geis... et al.\n",
      "Editor : union tipografica editorial hispano americana\n",
      "TituloBusqueda : historiadores y diplomaticos : el papel de la historia y de los historiadores en la politica exterior norteamericana\n",
      "\n",
      "Titulo : la saguntina o primer parte de la historia de sagunto\n",
      "Autor : lorenzo de zamora\n",
      "Editor : ceca\n",
      "TituloBusqueda : la saguntina o primer parte de la historia de sagunto\n",
      "\n",
      "22/10 positive, 78/10 negative\n",
      "Do these records refer to the same thing?\n",
      "(y)es / (n)o / (u)nsure / (f)inished / (p)revious\n"
     ]
    },
    {
     "name": "stdout",
     "output_type": "stream",
     "text": [
      "n\n"
     ]
    },
    {
     "name": "stderr",
     "output_type": "stream",
     "text": [
      "Titulo : guia de lectura columna jove 000\n",
      "Autor : josepa angles soronellas\n",
      "Editor : None\n",
      "TituloBusqueda : guia de lectura columna jove 000\n",
      "\n",
      "Titulo : ortografia 2\n",
      "Autor : josep maria cormand munoz\n",
      "Editor : onda, s.a.\n",
      "TituloBusqueda : ortografia 2\n",
      "\n",
      "22/10 positive, 79/10 negative\n",
      "Do these records refer to the same thing?\n",
      "(y)es / (n)o / (u)nsure / (f)inished / (p)revious\n"
     ]
    },
    {
     "name": "stdout",
     "output_type": "stream",
     "text": [
      "n\n"
     ]
    },
    {
     "name": "stderr",
     "output_type": "stream",
     "text": [
      "Titulo : compact 2005\n",
      "Autor : None\n",
      "Editor : universidad catolica nuestra senora de la asuncion\n",
      "TituloBusqueda : compact 2005\n",
      "\n",
      "Titulo : el mercado interbancario espanol: funcionamiento y significacion para una entidad de deposito.\n",
      "Autor : gonzalez velasco, maria del carmen\n",
      "Editor : servicio de publicaciones universidad de leon\n",
      "TituloBusqueda : el mercado interbancario espanol: funcionamiento y significacion para una entidad de deposito.\n",
      "\n",
      "22/10 positive, 80/10 negative\n",
      "Do these records refer to the same thing?\n",
      "(y)es / (n)o / (u)nsure / (f)inished / (p)revious\n"
     ]
    },
    {
     "name": "stdout",
     "output_type": "stream",
     "text": [
      "n\n"
     ]
    },
    {
     "name": "stderr",
     "output_type": "stream",
     "text": [
      "Titulo : control total de la calidad\n",
      "Autor : varios\n",
      "Editor : dti\n",
      "TituloBusqueda : control total de la calidad\n",
      "\n",
      "Titulo : corin tellado\n",
      "Autor : None\n",
      "Editor : bruguera\n",
      "TituloBusqueda : corin tellado\n",
      "\n",
      "22/10 positive, 81/10 negative\n",
      "Do these records refer to the same thing?\n",
      "(y)es / (n)o / (u)nsure / (f)inished / (p)revious\n"
     ]
    },
    {
     "name": "stdout",
     "output_type": "stream",
     "text": [
      "n\n"
     ]
    },
    {
     "name": "stderr",
     "output_type": "stream",
     "text": [
      "Titulo : viajes y experiencias\n",
      "Autor : None\n",
      "Editor : random house mondadori, s.a.\n",
      "TituloBusqueda : viajes y experiencias\n",
      "\n",
      "Titulo : la caida de jonathan edar\n",
      "Autor : None\n",
      "Editor : grupo editorial random house mondadori, s.l.\n",
      "TituloBusqueda : la caida de jonathan edar\n",
      "\n",
      "22/10 positive, 82/10 negative\n",
      "Do these records refer to the same thing?\n",
      "(y)es / (n)o / (u)nsure / (f)inished / (p)revious\n"
     ]
    },
    {
     "name": "stdout",
     "output_type": "stream",
     "text": [
      "n\n"
     ]
    },
    {
     "name": "stderr",
     "output_type": "stream",
     "text": [
      "Titulo : tu me diste la felicidad\n",
      "Autor : tellado, corin\n",
      "Editor : bruguera\n",
      "TituloBusqueda : tu me diste la felicidad\n",
      "\n",
      "Titulo : felicidad\n",
      "Autor : corin tellado\n",
      "Editor : bruguera\n",
      "TituloBusqueda : felicidad\n",
      "\n",
      "22/10 positive, 83/10 negative\n",
      "Do these records refer to the same thing?\n",
      "(y)es / (n)o / (u)nsure / (f)inished / (p)revious\n"
     ]
    },
    {
     "name": "stdout",
     "output_type": "stream",
     "text": [
      "n\n"
     ]
    },
    {
     "name": "stderr",
     "output_type": "stream",
     "text": [
      "Titulo : la profesora\n",
      "Autor : corin tellado\n",
      "Editor : bruguera\n",
      "TituloBusqueda : la profesora\n",
      "\n",
      "Titulo : None\n",
      "Autor : maria puncel reparaz\n",
      "Editor : altea, taurus, alfaguara, s.a.\n",
      "TituloBusqueda : None\n",
      "\n",
      "22/10 positive, 84/10 negative\n",
      "Do these records refer to the same thing?\n",
      "(y)es / (n)o / (u)nsure / (f)inished / (p)revious\n"
     ]
    },
    {
     "name": "stdout",
     "output_type": "stream",
     "text": [
      "n\n"
     ]
    },
    {
     "name": "stderr",
     "output_type": "stream",
     "text": [
      "Titulo : quiero casarme con ella\n",
      "Autor : tellado, corin\n",
      "Editor : bruguera\n",
      "TituloBusqueda : quiero casarme con ella\n",
      "\n",
      "Titulo : casemonos\n",
      "Autor : corin tellado\n",
      "Editor : bruguera\n",
      "TituloBusqueda : casemonos\n",
      "\n",
      "22/10 positive, 85/10 negative\n",
      "Do these records refer to the same thing?\n",
      "(y)es / (n)o / (u)nsure / (f)inished / (p)revious\n"
     ]
    },
    {
     "name": "stdout",
     "output_type": "stream",
     "text": [
      "y\n"
     ]
    },
    {
     "name": "stderr",
     "output_type": "stream",
     "text": [
      "Titulo : None\n",
      "Autor : manuel maria fernandez teijeiro\n",
      "Editor : sm\n",
      "TituloBusqueda : None\n",
      "\n",
      "Titulo : None\n",
      "Autor : fernando alonso alonso\n",
      "Editor : gaviota, s.l.\n",
      "TituloBusqueda : None\n",
      "\n",
      "23/10 positive, 85/10 negative\n",
      "Do these records refer to the same thing?\n",
      "(y)es / (n)o / (u)nsure / (f)inished / (p)revious\n"
     ]
    },
    {
     "name": "stdout",
     "output_type": "stream",
     "text": [
      "n\n"
     ]
    },
    {
     "name": "stderr",
     "output_type": "stream",
     "text": [
      "Titulo : dime la verdad\n",
      "Autor : tellado, corin\n",
      "Editor : bruguera\n",
      "TituloBusqueda : dime la verdad\n",
      "\n",
      "Titulo : la casa de los solteros\n",
      "Autor : corin tellado\n",
      "Editor : bruguera\n",
      "TituloBusqueda : la casa de los solteros\n",
      "\n",
      "23/10 positive, 86/10 negative\n",
      "Do these records refer to the same thing?\n",
      "(y)es / (n)o / (u)nsure / (f)inished / (p)revious\n"
     ]
    },
    {
     "name": "stdout",
     "output_type": "stream",
     "text": [
      "y\n"
     ]
    },
    {
     "name": "stderr",
     "output_type": "stream",
     "text": [
      "Titulo : los gemelos\n",
      "Autor : tellado, corin\n",
      "Editor : bruguera\n",
      "TituloBusqueda : los gemelos\n",
      "\n",
      "Titulo : corazon toruturado\n",
      "Autor : corin tellado\n",
      "Editor : bruguera\n",
      "TituloBusqueda : corazon toruturado\n",
      "\n",
      "24/10 positive, 86/10 negative\n",
      "Do these records refer to the same thing?\n",
      "(y)es / (n)o / (u)nsure / (f)inished / (p)revious\n"
     ]
    },
    {
     "name": "stdout",
     "output_type": "stream",
     "text": [
      "n\n"
     ]
    },
    {
     "name": "stderr",
     "output_type": "stream",
     "text": [
      "Titulo : deja que te ame\n",
      "Autor : tellado, corin\n",
      "Editor : bruguera\n",
      "TituloBusqueda : deja que te ame\n",
      "\n",
      "Titulo : no debo quererte\n",
      "Autor : corin tellado\n",
      "Editor : bruguera\n",
      "TituloBusqueda : no debo quererte\n",
      "\n",
      "24/10 positive, 87/10 negative\n",
      "Do these records refer to the same thing?\n",
      "(y)es / (n)o / (u)nsure / (f)inished / (p)revious\n"
     ]
    },
    {
     "name": "stdout",
     "output_type": "stream",
     "text": [
      "u\n"
     ]
    },
    {
     "name": "stderr",
     "output_type": "stream",
     "text": [
      "Titulo : no seas orgulloso\n",
      "Autor : tellado, corin\n",
      "Editor : bruguera\n",
      "TituloBusqueda : no seas orgulloso\n",
      "\n",
      "Titulo : dejame adorarte, isabel\n",
      "Autor : corin tellado\n",
      "Editor : bruguera\n",
      "TituloBusqueda : dejame adorarte, isabel\n",
      "\n",
      "24/10 positive, 87/10 negative\n",
      "Do these records refer to the same thing?\n",
      "(y)es / (n)o / (u)nsure / (f)inished / (p)revious\n"
     ]
    },
    {
     "name": "stdout",
     "output_type": "stream",
     "text": [
      "u\n"
     ]
    },
    {
     "name": "stderr",
     "output_type": "stream",
     "text": [
      "Titulo : aquella calumnia\n",
      "Autor : tellado, corin\n",
      "Editor : bruguera\n",
      "TituloBusqueda : aquella calumnia\n",
      "\n",
      "Titulo : una mujer ambiciosa\n",
      "Autor : corin tellado\n",
      "Editor : bruguera\n",
      "TituloBusqueda : una mujer ambiciosa\n",
      "\n",
      "24/10 positive, 87/10 negative\n",
      "Do these records refer to the same thing?\n",
      "(y)es / (n)o / (u)nsure / (f)inished / (p)revious\n"
     ]
    },
    {
     "name": "stdout",
     "output_type": "stream",
     "text": [
      "y\n"
     ]
    },
    {
     "name": "stderr",
     "output_type": "stream",
     "text": [
      "Titulo : empezo sin querer\n",
      "Autor : tellado, corin\n",
      "Editor : bruguera\n",
      "TituloBusqueda : empezo sin querer\n",
      "\n",
      "Titulo : es este mi marido\n",
      "Autor : corin tellado\n",
      "Editor : bruguera\n",
      "TituloBusqueda : es este mi marido\n",
      "\n",
      "25/10 positive, 87/10 negative\n",
      "Do these records refer to the same thing?\n",
      "(y)es / (n)o / (u)nsure / (f)inished / (p)revious\n"
     ]
    },
    {
     "name": "stdout",
     "output_type": "stream",
     "text": [
      "y\n"
     ]
    },
    {
     "name": "stderr",
     "output_type": "stream",
     "text": [
      "Titulo : mi mala intencion\n",
      "Autor : tellado, corin\n",
      "Editor : bruguera\n",
      "TituloBusqueda : mi mala intencion\n",
      "\n",
      "Titulo : no te cases con el\n",
      "Autor : corin tellado\n",
      "Editor : bruguera\n",
      "TituloBusqueda : no te cases con el\n",
      "\n",
      "26/10 positive, 87/10 negative\n",
      "Do these records refer to the same thing?\n",
      "(y)es / (n)o / (u)nsure / (f)inished / (p)revious\n"
     ]
    },
    {
     "name": "stdout",
     "output_type": "stream",
     "text": [
      "y\n"
     ]
    },
    {
     "name": "stderr",
     "output_type": "stream",
     "text": [
      "Titulo : ella y su jefe\n",
      "Autor : tellado, corin\n",
      "Editor : bruguera\n",
      "TituloBusqueda : ella y su jefe\n",
      "\n",
      "Titulo : no te engane\n",
      "Autor : corin tellado\n",
      "Editor : bruguera\n",
      "TituloBusqueda : no te engane\n",
      "\n",
      "27/10 positive, 87/10 negative\n",
      "Do these records refer to the same thing?\n",
      "(y)es / (n)o / (u)nsure / (f)inished / (p)revious\n"
     ]
    },
    {
     "name": "stdout",
     "output_type": "stream",
     "text": [
      "y\n"
     ]
    },
    {
     "name": "stderr",
     "output_type": "stream",
     "text": [
      "Titulo : futuro incierto\n",
      "Autor : tellado, corin\n",
      "Editor : bruguera\n",
      "TituloBusqueda : futuro incierto\n",
      "\n",
      "Titulo : dos almas recias\n",
      "Autor : corin tellado\n",
      "Editor : bruguera\n",
      "TituloBusqueda : dos almas recias\n",
      "\n",
      "28/10 positive, 87/10 negative\n",
      "Do these records refer to the same thing?\n",
      "(y)es / (n)o / (u)nsure / (f)inished / (p)revious\n"
     ]
    },
    {
     "name": "stdout",
     "output_type": "stream",
     "text": [
      "y\n"
     ]
    },
    {
     "name": "stderr",
     "output_type": "stream",
     "text": [
      "Titulo : la prometida de clint\n",
      "Autor : corin tellado\n",
      "Editor : bruguera\n",
      "TituloBusqueda : la prometida de clint\n",
      "\n",
      "Titulo : secreto matrimonial\n",
      "Autor : tellado, corin\n",
      "Editor : bruguera\n",
      "TituloBusqueda : secreto matrimonial\n",
      "\n",
      "29/10 positive, 87/10 negative\n",
      "Do these records refer to the same thing?\n",
      "(y)es / (n)o / (u)nsure / (f)inished / (p)revious\n"
     ]
    },
    {
     "name": "stdout",
     "output_type": "stream",
     "text": [
      "y\n"
     ]
    },
    {
     "name": "stderr",
     "output_type": "stream",
     "text": [
      "Titulo : el cabildo de santiago en el siglo xvi\n",
      "Autor : toro-garland, fernando de\n",
      "Editor : ed. universitaria\n",
      "TituloBusqueda : el cabildo de santiago en el siglo xvi\n",
      "\n",
      "Titulo : la narrativa hispanoamericana en el siglo xx\n",
      "Autor : angeles cardona castro\n",
      "Editor : None\n",
      "TituloBusqueda : la narrativa hispanoamericana en el siglo xx\n",
      "\n",
      "30/10 positive, 87/10 negative\n",
      "Do these records refer to the same thing?\n",
      "(y)es / (n)o / (u)nsure / (f)inished / (p)revious\n"
     ]
    },
    {
     "name": "stdout",
     "output_type": "stream",
     "text": [
      "n\n"
     ]
    },
    {
     "name": "stderr",
     "output_type": "stream",
     "text": [
      "Titulo : epetiris tis etereias biotikon meleton, ii.2\n",
      "Autor : luis agustin garcia moreno\n",
      "Editor : None\n",
      "TituloBusqueda : epetiris tis etereias biotikon meleton, ii.2\n",
      "\n",
      "Titulo : images 3 (cuaderno)\n",
      "Autor : francois stanislas makowski\n",
      "Editor : sgel\n",
      "TituloBusqueda : images 3 (cuaderno)\n",
      "\n",
      "30/10 positive, 88/10 negative\n",
      "Do these records refer to the same thing?\n",
      "(y)es / (n)o / (u)nsure / (f)inished / (p)revious\n"
     ]
    },
    {
     "name": "stdout",
     "output_type": "stream",
     "text": [
      "n\n"
     ]
    },
    {
     "name": "stderr",
     "output_type": "stream",
     "text": [
      "Titulo : cooperativismo rural y participacion social\n",
      "Autor : torres vila, maria caridad\n",
      "Editor : universidad de la habana\n",
      "TituloBusqueda : cooperativismo rural y participacion social\n",
      "\n",
      "Titulo : percepcion y comprension humanas\n",
      "Autor : university of wisconsin\n",
      "Editor : None\n",
      "TituloBusqueda : percepcion y comprension humanas\n",
      "\n",
      "30/10 positive, 89/10 negative\n",
      "Do these records refer to the same thing?\n",
      "(y)es / (n)o / (u)nsure / (f)inished / (p)revious\n"
     ]
    },
    {
     "name": "stdout",
     "output_type": "stream",
     "text": [
      "n\n"
     ]
    },
    {
     "name": "stderr",
     "output_type": "stream",
     "text": [
      "Titulo : hacia la unidad de europa\n",
      "Autor : f. unger\n",
      "Editor : wordworks\n",
      "TituloBusqueda : hacia la unidad de europa\n",
      "\n",
      "Titulo : el semblante de europa\n",
      "Autor : k. schmidt\n",
      "Editor : wordworks\n",
      "TituloBusqueda : el semblante de europa\n",
      "\n",
      "30/10 positive, 90/10 negative\n",
      "Do these records refer to the same thing?\n",
      "(y)es / (n)o / (u)nsure / (f)inished / (p)revious\n"
     ]
    },
    {
     "name": "stdout",
     "output_type": "stream",
     "text": [
      "n\n"
     ]
    },
    {
     "name": "stderr",
     "output_type": "stream",
     "text": [
      "Titulo : epetiris tis etereias biotikon meleton, ii.2\n",
      "Autor : luis agustin garcia moreno\n",
      "Editor : None\n",
      "TituloBusqueda : epetiris tis etereias biotikon meleton, ii.2\n",
      "\n",
      "Titulo : guia de lectura columna jove 000\n",
      "Autor : josepa angles soronellas\n",
      "Editor : None\n",
      "TituloBusqueda : guia de lectura columna jove 000\n",
      "\n",
      "30/10 positive, 91/10 negative\n",
      "Do these records refer to the same thing?\n",
      "(y)es / (n)o / (u)nsure / (f)inished / (p)revious\n"
     ]
    },
    {
     "name": "stdout",
     "output_type": "stream",
     "text": [
      "p\n"
     ]
    },
    {
     "name": "stderr",
     "output_type": "stream",
     "text": [
      "Titulo : hacia la unidad de europa\n",
      "Autor : f. unger\n",
      "Editor : wordworks\n",
      "TituloBusqueda : hacia la unidad de europa\n",
      "\n",
      "Titulo : el semblante de europa\n",
      "Autor : k. schmidt\n",
      "Editor : wordworks\n",
      "TituloBusqueda : el semblante de europa\n",
      "\n",
      "30/10 positive, 90/10 negative\n",
      "Do these records refer to the same thing?\n",
      "(y)es / (n)o / (u)nsure / (f)inished\n"
     ]
    },
    {
     "name": "stdout",
     "output_type": "stream",
     "text": [
      "u\n"
     ]
    },
    {
     "name": "stderr",
     "output_type": "stream",
     "text": [
      "Titulo : epetiris tis etereias biotikon meleton, ii.2\n",
      "Autor : luis agustin garcia moreno\n",
      "Editor : None\n",
      "TituloBusqueda : epetiris tis etereias biotikon meleton, ii.2\n",
      "\n",
      "Titulo : guia de lectura columna jove 000\n",
      "Autor : josepa angles soronellas\n",
      "Editor : None\n",
      "TituloBusqueda : guia de lectura columna jove 000\n",
      "\n",
      "30/10 positive, 90/10 negative\n",
      "Do these records refer to the same thing?\n",
      "(y)es / (n)o / (u)nsure / (f)inished / (p)revious\n"
     ]
    },
    {
     "name": "stdout",
     "output_type": "stream",
     "text": [
      "n\n"
     ]
    },
    {
     "name": "stderr",
     "output_type": "stream",
     "text": [
      "Titulo : antologia\n",
      "Autor : llavador piernas, josefa\n",
      "Editor : publicaciones del seminario de literatura inem\n",
      "TituloBusqueda : antologia\n",
      "\n",
      "Titulo : antologia poetica (vicent andres estelles)\n",
      "Autor : sebastia bech camps\n",
      "Editor : barcanova\n",
      "TituloBusqueda : antologia poetica (vicent andres estelles)\n",
      "\n",
      "30/10 positive, 91/10 negative\n",
      "Do these records refer to the same thing?\n",
      "(y)es / (n)o / (u)nsure / (f)inished / (p)revious\n"
     ]
    },
    {
     "name": "stdout",
     "output_type": "stream",
     "text": [
      "n\n"
     ]
    },
    {
     "name": "stderr",
     "output_type": "stream",
     "text": [
      "Titulo : resumen de las conferencias del ii curso de historia, arte y cultura de alcala de henares\n",
      "Autor : canalda camara, jose carlos\n",
      "Editor : institucion de estudios complutenses\n",
      "TituloBusqueda : resumen de las conferencias del ii curso de historia, arte y cultura de alcala de henares\n",
      "\n",
      "Titulo : resumen historico-bibliografico\n",
      "Autor : ortuno martinez, manuel\n",
      "Editor : era\n",
      "TituloBusqueda : resumen historico-bibliografico\n",
      "\n",
      "30/10 positive, 92/10 negative\n",
      "Do these records refer to the same thing?\n",
      "(y)es / (n)o / (u)nsure / (f)inished / (p)revious\n"
     ]
    },
    {
     "name": "stdout",
     "output_type": "stream",
     "text": [
      "n\n"
     ]
    },
    {
     "name": "stderr",
     "output_type": "stream",
     "text": [
      "Titulo : el general y su lata de sardinas\n",
      "Autor : anson anadon, antonio\n",
      "Editor : circulo de bellas artes de madrid\n",
      "TituloBusqueda : el general y su lata de sardinas\n",
      "\n",
      "Titulo : derechos de los pueblos indigenas y politicas forestales\n",
      "Autor : varios\n",
      "Editor : wwf\n",
      "TituloBusqueda : derechos de los pueblos indigenas y politicas forestales\n",
      "\n",
      "30/10 positive, 93/10 negative\n",
      "Do these records refer to the same thing?\n",
      "(y)es / (n)o / (u)nsure / (f)inished / (p)revious\n"
     ]
    },
    {
     "name": "stdout",
     "output_type": "stream",
     "text": [
      "n\n"
     ]
    },
    {
     "name": "stderr",
     "output_type": "stream",
     "text": [
      "Titulo : voila - 2. guide didactique\n",
      "Autor : maria julia rodriguez maestu\n",
      "Editor : pearson educacion, s.a.\n",
      "TituloBusqueda : voila - 2. guide didactique\n",
      "\n",
      "Titulo : matematicas aplicadas a las ciencias sociales ii: 2o bachillerato. recursos didacticos\n",
      "Autor : juan jose romo urroz\n",
      "Editor : sm\n",
      "TituloBusqueda : matematicas aplicadas a las ciencias sociales ii: 2o bachillerato. recursos didacticos\n",
      "\n",
      "30/10 positive, 94/10 negative\n",
      "Do these records refer to the same thing?\n",
      "(y)es / (n)o / (u)nsure / (f)inished / (p)revious\n"
     ]
    },
    {
     "name": "stdout",
     "output_type": "stream",
     "text": [
      "n\n"
     ]
    },
    {
     "name": "stderr",
     "output_type": "stream",
     "text": [
      "Titulo : estudios de periodistica 3. ponencias y comunicaciones del iii congreso de la sociedad espanola de periodistica\n",
      "Autor : martin algarra, manuel edo bolos, concepcion\n",
      "Editor : ulzama\n",
      "TituloBusqueda : estudios de periodistica 3. ponencias y comunicaciones del iii congreso de la sociedad espanola de periodistica\n",
      "\n",
      "Titulo : curso de electronica y micro. 3\n",
      "Autor : ruiz vassallo, francisco\n",
      "Editor : centro de estudios ceac, s.l. (grupo ceac)\n",
      "TituloBusqueda : curso de electronica y micro. 3\n",
      "\n",
      "30/10 positive, 95/10 negative\n",
      "Do these records refer to the same thing?\n",
      "(y)es / (n)o / (u)nsure / (f)inished / (p)revious\n"
     ]
    },
    {
     "name": "stdout",
     "output_type": "stream",
     "text": [
      "n\n"
     ]
    },
    {
     "name": "stderr",
     "output_type": "stream",
     "text": [
      "Titulo : desde los organos de punteria\n",
      "Autor : francisco garzon cespedes\n",
      "Editor : ediciones union\n",
      "TituloBusqueda : desde los organos de punteria\n",
      "\n",
      "Titulo : raices y alas (poesia para ninos y jovenes)\n",
      "Autor : nieves del rosario rubio\n",
      "Editor : ediciones universal\n",
      "TituloBusqueda : raices y alas (poesia para ninos y jovenes)\n",
      "\n",
      "30/10 positive, 96/10 negative\n",
      "Do these records refer to the same thing?\n",
      "(y)es / (n)o / (u)nsure / (f)inished / (p)revious\n"
     ]
    },
    {
     "name": "stdout",
     "output_type": "stream",
     "text": [
      "n\n"
     ]
    },
    {
     "name": "stderr",
     "output_type": "stream",
     "text": [
      "Titulo : la fascinante historia del movimiento continuo\n",
      "Autor : aroca sanz, juan\n",
      "Editor : uteha\n",
      "TituloBusqueda : la fascinante historia del movimiento continuo\n",
      "\n",
      "Titulo : historia del mundo contemporaneo, 1o bachillerato\n",
      "Autor : asuncion justa torres lopez-tercero\n",
      "Editor : mcgraw-hill/interamericana de espana, s.a.\n",
      "TituloBusqueda : historia del mundo contemporaneo, 1o bachillerato\n",
      "\n",
      "30/10 positive, 97/10 negative\n",
      "Do these records refer to the same thing?\n",
      "(y)es / (n)o / (u)nsure / (f)inished / (p)revious\n"
     ]
    },
    {
     "name": "stdout",
     "output_type": "stream",
     "text": [
      "n\n"
     ]
    },
    {
     "name": "stderr",
     "output_type": "stream",
     "text": [
      "Titulo : introduccion a la soldadura electrica\n",
      "Autor : rivas arias, jose maria\n",
      "Editor : thomson paraninfo,s.a.\n",
      "TituloBusqueda : introduccion a la soldadura electrica\n",
      "\n",
      "Titulo : None\n",
      "Autor : francisco eugenio gonzalez\n",
      "Editor : itp - paraninfo, s.a.\n",
      "TituloBusqueda : None\n",
      "\n",
      "30/10 positive, 98/10 negative\n",
      "Do these records refer to the same thing?\n",
      "(y)es / (n)o / (u)nsure / (f)inished / (p)revious\n"
     ]
    },
    {
     "name": "stdout",
     "output_type": "stream",
     "text": [
      "n\n"
     ]
    },
    {
     "name": "stderr",
     "output_type": "stream",
     "text": [
      "Titulo : euroaleman: manual de profesores 1\n",
      "Autor : martin bodo fischer\n",
      "Editor : herder, s.a.\n",
      "TituloBusqueda : euroaleman: manual de profesores 1\n",
      "\n",
      "Titulo : None\n",
      "Autor : enric larreula vidal\n",
      "Editor : ariel, s.a.\n",
      "TituloBusqueda : None\n",
      "\n",
      "30/10 positive, 99/10 negative\n",
      "Do these records refer to the same thing?\n",
      "(y)es / (n)o / (u)nsure / (f)inished / (p)revious\n"
     ]
    },
    {
     "name": "stdout",
     "output_type": "stream",
     "text": [
      "n\n"
     ]
    },
    {
     "name": "stderr",
     "output_type": "stream",
     "text": [
      "Titulo : tecnologia informatica 3\n",
      "Autor : yebes lopez, elvira martinez valero, julian ferro sanchez, maria piedad\n",
      "Editor : anaya\n",
      "TituloBusqueda : tecnologia informatica 3\n",
      "\n",
      "Titulo : curso de fontaneria. tomo 3\n",
      "Autor : pedro sanz de miguel\n",
      "Editor : centro de estudios ceac, s.l. (grupo ceac)\n",
      "TituloBusqueda : curso de fontaneria. tomo 3\n",
      "\n",
      "30/10 positive, 100/10 negative\n",
      "Do these records refer to the same thing?\n",
      "(y)es / (n)o / (u)nsure / (f)inished / (p)revious\n"
     ]
    },
    {
     "name": "stdout",
     "output_type": "stream",
     "text": [
      "n\n"
     ]
    },
    {
     "name": "stderr",
     "output_type": "stream",
     "text": [
      "Titulo : geografia, 3o eso, ciencias sociales\n",
      "Autor : maria teresa fernandez madrio\n",
      "Editor : mcgraw-hill/interamericana de espana, s.a.\n",
      "TituloBusqueda : geografia, 3o eso, ciencias sociales\n",
      "\n",
      "Titulo : ortografia 2\n",
      "Autor : josep maria cormand munoz\n",
      "Editor : onda, s.a.\n",
      "TituloBusqueda : ortografia 2\n",
      "\n",
      "30/10 positive, 101/10 negative\n",
      "Do these records refer to the same thing?\n",
      "(y)es / (n)o / (u)nsure / (f)inished / (p)revious\n"
     ]
    },
    {
     "name": "stdout",
     "output_type": "stream",
     "text": [
      "u\n"
     ]
    },
    {
     "name": "stderr",
     "output_type": "stream",
     "text": [
      "Titulo : None\n",
      "Autor : josep maria palau camps\n",
      "Editor : moll, s.l.\n",
      "TituloBusqueda : None\n",
      "\n",
      "Titulo : None\n",
      "Autor : fernando alonso alonso\n",
      "Editor : grupo santillana de ediciones, s.a.\n",
      "TituloBusqueda : None\n",
      "\n",
      "30/10 positive, 101/10 negative\n",
      "Do these records refer to the same thing?\n",
      "(y)es / (n)o / (u)nsure / (f)inished / (p)revious\n"
     ]
    },
    {
     "name": "stdout",
     "output_type": "stream",
     "text": [
      "u\n"
     ]
    },
    {
     "name": "stderr",
     "output_type": "stream",
     "text": [
      "Titulo : ruperto cabrera\n",
      "Autor : lacarta salvador, manuel\n",
      "Editor : arteguia\n",
      "TituloBusqueda : ruperto cabrera\n",
      "\n",
      "Titulo : None\n",
      "Autor : manuel maria fernandez teijeiro\n",
      "Editor : sm\n",
      "TituloBusqueda : None\n",
      "\n",
      "30/10 positive, 101/10 negative\n",
      "Do these records refer to the same thing?\n",
      "(y)es / (n)o / (u)nsure / (f)inished / (p)revious\n"
     ]
    },
    {
     "name": "stdout",
     "output_type": "stream",
     "text": [
      "u\n"
     ]
    },
    {
     "name": "stderr",
     "output_type": "stream",
     "text": [
      "Titulo : el mercado interbancario espanol: funcionamiento y significacion para una entidad de deposito.\n",
      "Autor : gonzalez velasco, maria del carmen\n",
      "Editor : servicio de publicaciones universidad de leon\n",
      "TituloBusqueda : el mercado interbancario espanol: funcionamiento y significacion para una entidad de deposito.\n",
      "\n",
      "Titulo : None\n",
      "Autor : carmen arnau faidella\n",
      "Editor : edicions 62, s.a.\n",
      "TituloBusqueda : None\n",
      "\n",
      "30/10 positive, 101/10 negative\n",
      "Do these records refer to the same thing?\n",
      "(y)es / (n)o / (u)nsure / (f)inished / (p)revious\n"
     ]
    },
    {
     "name": "stdout",
     "output_type": "stream",
     "text": [
      "u\n"
     ]
    },
    {
     "name": "stderr",
     "output_type": "stream",
     "text": [
      "Titulo : divulgacion y periodismo cientifico: entre la claridad y la exactitud\n",
      "Autor : manuel calvo hernando\n",
      "Editor : unam\n",
      "TituloBusqueda : divulgacion y periodismo cientifico: entre la claridad y la exactitud\n",
      "\n",
      "Titulo : arquitectura y arquitectos en jaen a fines del siglo xvi\n",
      "Autor : pedro antonio galera andreu\n",
      "Editor : consejo superior de investigaciones cientificas\n",
      "TituloBusqueda : arquitectura y arquitectos en jaen a fines del siglo xvi\n",
      "\n",
      "30/10 positive, 101/10 negative\n",
      "Do these records refer to the same thing?\n",
      "(y)es / (n)o / (u)nsure / (f)inished / (p)revious\n"
     ]
    },
    {
     "name": "stdout",
     "output_type": "stream",
     "text": [
      "u\n"
     ]
    },
    {
     "name": "stderr",
     "output_type": "stream",
     "text": [
      "Titulo : geografia, 3o eso, ciencias sociales\n",
      "Autor : maria teresa fernandez madrio\n",
      "Editor : mcgraw-hill/interamericana de espana, s.a.\n",
      "TituloBusqueda : geografia, 3o eso, ciencias sociales\n",
      "\n",
      "Titulo : images 3 (cuaderno)\n",
      "Autor : francois stanislas makowski\n",
      "Editor : sgel\n",
      "TituloBusqueda : images 3 (cuaderno)\n",
      "\n",
      "30/10 positive, 101/10 negative\n",
      "Do these records refer to the same thing?\n",
      "(y)es / (n)o / (u)nsure / (f)inished / (p)revious\n"
     ]
    },
    {
     "name": "stdout",
     "output_type": "stream",
     "text": [
      "u\n"
     ]
    },
    {
     "name": "stderr",
     "output_type": "stream",
     "text": [
      "Titulo : educar en relacion. cuadernos de educacion no sexista, no 11\n",
      "Autor : salguero juan y seva, jose maria\n",
      "Editor : instituto de la mujer\n",
      "TituloBusqueda : educar en relacion. cuadernos de educacion no sexista, no 11\n",
      "\n",
      "Titulo : france europe express 2\n",
      "Autor : francois stanislas makowski\n",
      "Editor : ewa\n",
      "TituloBusqueda : france europe express 2\n",
      "\n",
      "30/10 positive, 101/10 negative\n",
      "Do these records refer to the same thing?\n",
      "(y)es / (n)o / (u)nsure / (f)inished / (p)revious\n"
     ]
    },
    {
     "name": "stdout",
     "output_type": "stream",
     "text": [
      "u\n"
     ]
    },
    {
     "name": "stderr",
     "output_type": "stream",
     "text": [
      "Titulo : curso de fontaneria. tomo 4\n",
      "Autor : pedro sanz de miguel\n",
      "Editor : centro de estudios ceac, s.l. (grupo ceac)\n",
      "TituloBusqueda : curso de fontaneria. tomo 4\n",
      "\n",
      "Titulo : golconda\n",
      "Autor : gabriel bermudez castillo\n",
      "Editor : acervo s.l\n",
      "TituloBusqueda : golconda\n",
      "\n",
      "30/10 positive, 101/10 negative\n",
      "Do these records refer to the same thing?\n",
      "(y)es / (n)o / (u)nsure / (f)inished / (p)revious\n"
     ]
    },
    {
     "name": "stdout",
     "output_type": "stream",
     "text": [
      "u\n"
     ]
    },
    {
     "name": "stderr",
     "output_type": "stream",
     "text": [
      "Titulo : versos contigo\n",
      "Autor : ruiz guirado, jose\n",
      "Editor : rondas\n",
      "TituloBusqueda : versos contigo\n",
      "\n",
      "Titulo : expropiacion forzosa: el justiprecio: guia practica y jurisprudencia\n",
      "Autor : miguel lopez-muniz goni\n",
      "Editor : editorial constitucion y leyes, s.a.\n",
      "TituloBusqueda : expropiacion forzosa: el justiprecio: guia practica y jurisprudencia\n",
      "\n",
      "30/10 positive, 101/10 negative\n",
      "Do these records refer to the same thing?\n",
      "(y)es / (n)o / (u)nsure / (f)inished / (p)revious\n"
     ]
    },
    {
     "name": "stdout",
     "output_type": "stream",
     "text": [
      "u\n"
     ]
    },
    {
     "name": "stderr",
     "output_type": "stream",
     "text": [
      "Titulo : deus caritas est\n",
      "Autor : fuertes fernandez, mariano\n",
      "Editor : carmelitas\n",
      "TituloBusqueda : deus caritas est\n",
      "\n",
      "Titulo : coloquialismos del espanol\n",
      "Autor : huaizu wang\n",
      "Editor : editorial de ensenanza e invest. lenguas extranj.\n",
      "TituloBusqueda : coloquialismos del espanol\n",
      "\n",
      "30/10 positive, 101/10 negative\n",
      "Do these records refer to the same thing?\n",
      "(y)es / (n)o / (u)nsure / (f)inished / (p)revious\n"
     ]
    },
    {
     "name": "stdout",
     "output_type": "stream",
     "text": [
      "u\n"
     ]
    },
    {
     "name": "stderr",
     "output_type": "stream",
     "text": [
      "Titulo : bosques, areas protegidas y pueblos indigenas\n",
      "Autor : varios\n",
      "Editor : wrm-iwgia\n",
      "TituloBusqueda : bosques, areas protegidas y pueblos indigenas\n",
      "\n",
      "Titulo : proyectos del banco mundial y pueblos indigenas de ecuador y bolivia\n",
      "Autor : t. griffiths\n",
      "Editor : wrm-fpp\n",
      "TituloBusqueda : proyectos del banco mundial y pueblos indigenas de ecuador y bolivia\n",
      "\n",
      "30/10 positive, 101/10 negative\n",
      "Do these records refer to the same thing?\n",
      "(y)es / (n)o / (u)nsure / (f)inished / (p)revious\n"
     ]
    },
    {
     "name": "stdout",
     "output_type": "stream",
     "text": [
      "u\n"
     ]
    },
    {
     "name": "stderr",
     "output_type": "stream",
     "text": [
      "Titulo : la movilidad transnacional de trabajadores\n",
      "Autor : gloria esteban de la rosa cristobal molina navarrete\n",
      "Editor : editorial comares, s.l.\n",
      "TituloBusqueda : la movilidad transnacional de trabajadores\n",
      "\n",
      "Titulo : los pequenos consumidores\n",
      "Autor : sanchez sanchez, rafael\n",
      "Editor : unae\n",
      "TituloBusqueda : los pequenos consumidores\n",
      "\n",
      "30/10 positive, 101/10 negative\n",
      "Do these records refer to the same thing?\n",
      "(y)es / (n)o / (u)nsure / (f)inished / (p)revious\n"
     ]
    },
    {
     "name": "stdout",
     "output_type": "stream",
     "text": [
      "u\n"
     ]
    },
    {
     "name": "stderr",
     "output_type": "stream",
     "text": [
      "Titulo : el exilio espanol y el mundo de los libros\n",
      "Autor : ortuno martinez, manuel\n",
      "Editor : universidad de guadalajara. mexico\n",
      "TituloBusqueda : el exilio espanol y el mundo de los libros\n",
      "\n",
      "Titulo : el espejo. ensayo sobre una teoria cientifica\n",
      "Autor : baltrusaitis\n",
      "Editor : grech\n",
      "TituloBusqueda : el espejo. ensayo sobre una teoria cientifica\n",
      "\n",
      "30/10 positive, 101/10 negative\n",
      "Do these records refer to the same thing?\n",
      "(y)es / (n)o / (u)nsure / (f)inished / (p)revious\n"
     ]
    },
    {
     "name": "stdout",
     "output_type": "stream",
     "text": [
      "u\n"
     ]
    },
    {
     "name": "stderr",
     "output_type": "stream",
     "text": [
      "Titulo : logic colloquinm87\n",
      "Autor : manuel garrido gimenez\n",
      "Editor : north-holland\n",
      "TituloBusqueda : logic colloquinm87\n",
      "\n",
      "Titulo : historia del mundo contemporaneo\n",
      "Autor : manuel gomez lorente\n",
      "Editor : mcgraw-hill/interamericana de espana, s.a.\n",
      "TituloBusqueda : historia del mundo contemporaneo\n",
      "\n",
      "30/10 positive, 101/10 negative\n",
      "Do these records refer to the same thing?\n",
      "(y)es / (n)o / (u)nsure / (f)inished / (p)revious\n"
     ]
    },
    {
     "name": "stdout",
     "output_type": "stream",
     "text": [
      "u\n"
     ]
    },
    {
     "name": "stderr",
     "output_type": "stream",
     "text": [
      "Titulo : solos en los bares de noche\n",
      "Autor : antonio montesinos gilbert\n",
      "Editor : grupo editorial random house mondadori, s.l.\n",
      "TituloBusqueda : solos en los bares de noche\n",
      "\n",
      "Titulo : defectos en la construccion y accion de responsabilidad decenal\n",
      "Autor : vilalta, aure esther mendez, rosa ma\n",
      "Editor : editorial bosch, s.a.\n",
      "TituloBusqueda : defectos en la construccion y accion de responsabilidad decenal\n",
      "\n",
      "30/10 positive, 101/10 negative\n",
      "Do these records refer to the same thing?\n",
      "(y)es / (n)o / (u)nsure / (f)inished / (p)revious\n"
     ]
    },
    {
     "name": "stdout",
     "output_type": "stream",
     "text": [
      "u\n"
     ]
    },
    {
     "name": "stderr",
     "output_type": "stream",
     "text": [
      "Titulo : a greneva school reader in linguistics\n",
      "Autor : mourelle de lema, manuel\n",
      "Editor : indiana university press, bloomington-londres\n",
      "TituloBusqueda : a greneva school reader in linguistics\n",
      "\n",
      "Titulo : encontre a mi mujer\n",
      "Autor : corin tellado\n",
      "Editor : bruguera\n",
      "TituloBusqueda : encontre a mi mujer\n",
      "\n",
      "30/10 positive, 101/10 negative\n",
      "Do these records refer to the same thing?\n",
      "(y)es / (n)o / (u)nsure / (f)inished / (p)revious\n"
     ]
    },
    {
     "name": "stdout",
     "output_type": "stream",
     "text": [
      "u\n"
     ]
    },
    {
     "name": "stderr",
     "output_type": "stream",
     "text": [
      "Titulo : curso de derecho administrativo (i)\n",
      "Autor : tomas ramon fernandez\n",
      "Editor : civitas\n",
      "TituloBusqueda : curso de derecho administrativo (i)\n",
      "\n",
      "Titulo : curso de fontaneria. prueba de evaluacion 18\n",
      "Autor : pedro sanz de miguel\n",
      "Editor : centro de estudios ceac, s.l. (grupo ceac)\n",
      "TituloBusqueda : curso de fontaneria. prueba de evaluacion 18\n",
      "\n",
      "30/10 positive, 101/10 negative\n",
      "Do these records refer to the same thing?\n",
      "(y)es / (n)o / (u)nsure / (f)inished / (p)revious\n"
     ]
    },
    {
     "name": "stdout",
     "output_type": "stream",
     "text": [
      "u\n"
     ]
    },
    {
     "name": "stderr",
     "output_type": "stream",
     "text": [
      "Titulo : teatro jos a. ramos\n",
      "Autor : seleccion y prologo de francisco garzon cespedes\n",
      "Editor : arte y literatura\n",
      "TituloBusqueda : teatro jos a. ramos\n",
      "\n",
      "Titulo : el gran teatro de dios\n",
      "Autor : None\n",
      "Editor : herder\n",
      "TituloBusqueda : el gran teatro de dios\n",
      "\n",
      "30/10 positive, 101/10 negative\n",
      "Do these records refer to the same thing?\n",
      "(y)es / (n)o / (u)nsure / (f)inished / (p)revious\n"
     ]
    },
    {
     "name": "stdout",
     "output_type": "stream",
     "text": [
      "u\n"
     ]
    },
    {
     "name": "stderr",
     "output_type": "stream",
     "text": [
      "Titulo : None\n",
      "Autor : emilio sanz de soto-lyons\n",
      "Editor : catedra, s.a.\n",
      "TituloBusqueda : None\n",
      "\n",
      "Titulo : None\n",
      "Autor : antonio garcia benitez\n",
      "Editor : gever, s.a.\n",
      "TituloBusqueda : None\n",
      "\n",
      "30/10 positive, 101/10 negative\n",
      "Do these records refer to the same thing?\n",
      "(y)es / (n)o / (u)nsure / (f)inished / (p)revious\n"
     ]
    },
    {
     "name": "stdout",
     "output_type": "stream",
     "text": [
      "u\n"
     ]
    },
    {
     "name": "stderr",
     "output_type": "stream",
     "text": [
      "Titulo : la obra de antonio bonet\n",
      "Autor : federico ortiz miguel angel baldellou\n",
      "Editor : summa nueva vision. sacifi\n",
      "TituloBusqueda : la obra de antonio bonet\n",
      "\n",
      "Titulo : de lart modern\n",
      "Autor : None\n",
      "Editor : poligrafa\n",
      "TituloBusqueda : de lart modern\n",
      "\n",
      "30/10 positive, 101/10 negative\n",
      "Do these records refer to the same thing?\n",
      "(y)es / (n)o / (u)nsure / (f)inished / (p)revious\n"
     ]
    },
    {
     "name": "stdout",
     "output_type": "stream",
     "text": [
      "u\n"
     ]
    },
    {
     "name": "stderr",
     "output_type": "stream",
     "text": [
      "Titulo : antologia de la poesia cosmica\n",
      "Autor : diez serrano, isabel\n",
      "Editor : frente de afirmacion hispanista\n",
      "TituloBusqueda : antologia de la poesia cosmica\n",
      "\n",
      "Titulo : antologia poetica bilingue\n",
      "Autor : mario andino\n",
      "Editor : academia\n",
      "TituloBusqueda : antologia poetica bilingue\n",
      "\n",
      "30/10 positive, 101/10 negative\n",
      "Do these records refer to the same thing?\n",
      "(y)es / (n)o / (u)nsure / (f)inished / (p)revious\n"
     ]
    },
    {
     "name": "stdout",
     "output_type": "stream",
     "text": [
      "u\n"
     ]
    },
    {
     "name": "stderr",
     "output_type": "stream",
     "text": [
      "Titulo : historia de las civilizaciones\n",
      "Autor : caballos rufino, antonio francisco\n",
      "Editor : bruno\n",
      "TituloBusqueda : historia de las civilizaciones\n",
      "\n",
      "Titulo : derecho de obligaciones\n",
      "Autor : carlos rogel vide\n",
      "Editor : libreria bosch, s.l.\n",
      "TituloBusqueda : derecho de obligaciones\n",
      "\n",
      "30/10 positive, 101/10 negative\n",
      "Do these records refer to the same thing?\n",
      "(y)es / (n)o / (u)nsure / (f)inished / (p)revious\n"
     ]
    },
    {
     "name": "stdout",
     "output_type": "stream",
     "text": [
      "u\n"
     ]
    },
    {
     "name": "stderr",
     "output_type": "stream",
     "text": [
      "Titulo : curso de fontaneria. prueba de evaluacion 23\n",
      "Autor : pedro sanz de miguel\n",
      "Editor : centro de estudios ceac, s.l. (grupo ceac)\n",
      "TituloBusqueda : curso de fontaneria. prueba de evaluacion 23\n",
      "\n",
      "Titulo : coleccionable spiderman no 23\n",
      "Autor : None\n",
      "Editor : planeta de agostini, s.a.\n",
      "TituloBusqueda : coleccionable spiderman no 23\n",
      "\n",
      "30/10 positive, 101/10 negative\n",
      "Do these records refer to the same thing?\n",
      "(y)es / (n)o / (u)nsure / (f)inished / (p)revious\n"
     ]
    },
    {
     "name": "stdout",
     "output_type": "stream",
     "text": [
      "u\n"
     ]
    },
    {
     "name": "stderr",
     "output_type": "stream",
     "text": [
      "Titulo : entre bastidores\n",
      "Autor : miguel santos guerra\n",
      "Editor : asa\n",
      "TituloBusqueda : entre bastidores\n",
      "\n",
      "Titulo : entre parentesis\n",
      "Autor : alvarez, isabel\n",
      "Editor : abecedaria\n",
      "TituloBusqueda : entre parentesis\n",
      "\n",
      "30/10 positive, 101/10 negative\n",
      "Do these records refer to the same thing?\n",
      "(y)es / (n)o / (u)nsure / (f)inished / (p)revious\n"
     ]
    },
    {
     "name": "stdout",
     "output_type": "stream",
     "text": [
      "u\n"
     ]
    },
    {
     "name": "stderr",
     "output_type": "stream",
     "text": [
      "Titulo : las preocupaciones de los pueblos indigenas\n",
      "Autor : varios\n",
      "Editor : w.r.m.-i.a.i.t.p.t.f.\n",
      "TituloBusqueda : las preocupaciones de los pueblos indigenas\n",
      "\n",
      "Titulo : proyectos del banco mundial y pueblos indigenas de ecuador y bolivia\n",
      "Autor : t. griffiths\n",
      "Editor : wrm-fpp\n",
      "TituloBusqueda : proyectos del banco mundial y pueblos indigenas de ecuador y bolivia\n",
      "\n",
      "30/10 positive, 101/10 negative\n",
      "Do these records refer to the same thing?\n",
      "(y)es / (n)o / (u)nsure / (f)inished / (p)revious\n"
     ]
    },
    {
     "name": "stdout",
     "output_type": "stream",
     "text": [
      "y\n"
     ]
    },
    {
     "name": "stderr",
     "output_type": "stream",
     "text": [
      "Titulo : ortografia 1\n",
      "Autor : josep maria cormand munoz\n",
      "Editor : casals, s.a.\n",
      "TituloBusqueda : ortografia 1\n",
      "\n",
      "Titulo : llibre profesor historia 1 cicle (eso) valencia\n",
      "Autor : ramon sebastian vicent\n",
      "Editor : credsa, s.a.\n",
      "TituloBusqueda : llibre profesor historia 1 cicle (eso) valencia\n",
      "\n",
      "31/10 positive, 101/10 negative\n",
      "Do these records refer to the same thing?\n",
      "(y)es / (n)o / (u)nsure / (f)inished / (p)revious\n"
     ]
    },
    {
     "name": "stdout",
     "output_type": "stream",
     "text": [
      "u\n"
     ]
    },
    {
     "name": "stderr",
     "output_type": "stream",
     "text": [
      "Titulo : moda y salud\n",
      "Autor : polaino lorente, aquilino\n",
      "Editor : universidad de navarra, servicio de actividades\n",
      "TituloBusqueda : moda y salud\n",
      "\n",
      "Titulo : elementos para una geografia critica de la guerra y la paz: la construccion social del conflicto territorial argentino-britanico\n",
      "Autor : heriberto cairo carou\n",
      "Editor : universidad complutense de madrid\n",
      "TituloBusqueda : elementos para una geografia critica de la guerra y la paz: la construccion social del conflicto territorial argentino-britanico\n",
      "\n",
      "31/10 positive, 101/10 negative\n",
      "Do these records refer to the same thing?\n",
      "(y)es / (n)o / (u)nsure / (f)inished / (p)revious\n"
     ]
    },
    {
     "name": "stdout",
     "output_type": "stream",
     "text": [
      "u\n"
     ]
    },
    {
     "name": "stderr",
     "output_type": "stream",
     "text": [
      "Titulo : la cuchara\n",
      "Autor : enriquez munoz, salvador\n",
      "Editor : ayunamiento de torreperegil\n",
      "TituloBusqueda : la cuchara\n",
      "\n",
      "Titulo : manuales del cocinero de hosteleria\n",
      "Autor : varios\n",
      "Editor : wordworks\n",
      "TituloBusqueda : manuales del cocinero de hosteleria\n",
      "\n",
      "31/10 positive, 101/10 negative\n",
      "Do these records refer to the same thing?\n",
      "(y)es / (n)o / (u)nsure / (f)inished / (p)revious\n"
     ]
    },
    {
     "name": "stdout",
     "output_type": "stream",
     "text": [
      "n\n"
     ]
    },
    {
     "name": "stderr",
     "output_type": "stream",
     "text": [
      "Titulo : historia\n",
      "Autor : josefina ferrando miralles\n",
      "Editor : casals, s.a.\n",
      "TituloBusqueda : historia\n",
      "\n",
      "Titulo : historia del siglo xx\n",
      "Autor : antonio eduardo tello arguello\n",
      "Editor : salvat editores, s.a.\n",
      "TituloBusqueda : historia del siglo xx\n",
      "\n",
      "31/10 positive, 102/10 negative\n",
      "Do these records refer to the same thing?\n",
      "(y)es / (n)o / (u)nsure / (f)inished / (p)revious\n"
     ]
    },
    {
     "name": "stdout",
     "output_type": "stream",
     "text": [
      "y\n"
     ]
    },
    {
     "name": "stderr",
     "output_type": "stream",
     "text": [
      "Titulo : que facil es... crear con papel mache\n",
      "Autor : None\n",
      "Editor : bestselia, s.a.\n",
      "TituloBusqueda : que facil es... crear con papel mache\n",
      "\n",
      "Titulo : un destello en la niebla\n",
      "Autor : None\n",
      "Editor : random house mondadori, s.a.\n",
      "TituloBusqueda : un destello en la niebla\n",
      "\n",
      "32/10 positive, 102/10 negative\n",
      "Do these records refer to the same thing?\n",
      "(y)es / (n)o / (u)nsure / (f)inished / (p)revious\n"
     ]
    },
    {
     "name": "stdout",
     "output_type": "stream",
     "text": [
      "u\n"
     ]
    },
    {
     "name": "stderr",
     "output_type": "stream",
     "text": [
      "Titulo : sistemas de telefonia\n",
      "Autor : jose manuel huidobro moya\n",
      "Editor : itp - paraninfo, s.a.\n",
      "TituloBusqueda : sistemas de telefonia\n",
      "\n",
      "Titulo : sistemas de telefonia\n",
      "Autor : guillermo garcia gallego\n",
      "Editor : altaya, s.a.\n",
      "TituloBusqueda : sistemas de telefonia\n",
      "\n",
      "32/10 positive, 102/10 negative\n",
      "Do these records refer to the same thing?\n",
      "(y)es / (n)o / (u)nsure / (f)inished / (p)revious\n"
     ]
    },
    {
     "name": "stdout",
     "output_type": "stream",
     "text": [
      "y\n"
     ]
    },
    {
     "name": "stderr",
     "output_type": "stream",
     "text": [
      "Titulo : None\n",
      "Autor : ian keith gibson ritchie\n",
      "Editor : critica, s.l.\n",
      "TituloBusqueda : None\n",
      "\n",
      "Titulo : None\n",
      "Autor : jesus maria olaizola lazkano\n",
      "Editor : elkar, s.l.\n",
      "TituloBusqueda : None\n",
      "\n",
      "33/10 positive, 102/10 negative\n",
      "Do these records refer to the same thing?\n",
      "(y)es / (n)o / (u)nsure / (f)inished / (p)revious\n"
     ]
    },
    {
     "name": "stdout",
     "output_type": "stream",
     "text": [
      "y\n"
     ]
    },
    {
     "name": "stderr",
     "output_type": "stream",
     "text": [
      "Titulo : educar en relacion. cuadernos de educacion no sexista, no 11\n",
      "Autor : salguero juan y seva, jose maria\n",
      "Editor : instituto de la mujer\n",
      "TituloBusqueda : educar en relacion. cuadernos de educacion no sexista, no 11\n",
      "\n",
      "Titulo : None\n",
      "Autor : fernando alonso alonso\n",
      "Editor : grupo santillana de ediciones, s.a.\n",
      "TituloBusqueda : None\n",
      "\n",
      "34/10 positive, 102/10 negative\n",
      "Do these records refer to the same thing?\n",
      "(y)es / (n)o / (u)nsure / (f)inished / (p)revious\n"
     ]
    },
    {
     "name": "stdout",
     "output_type": "stream",
     "text": [
      "n\n"
     ]
    },
    {
     "name": "stderr",
     "output_type": "stream",
     "text": [
      "Titulo : poemas a compostela\n",
      "Autor : manuel marin\n",
      "Editor : compostela, s.a.\n",
      "TituloBusqueda : poemas a compostela\n",
      "\n",
      "Titulo : colonizacion y formacion de los pueblos prerromanos (1200-218 a.c.)\n",
      "Autor : angel montenegro duque\n",
      "Editor : gredos, s.a.\n",
      "TituloBusqueda : colonizacion y formacion de los pueblos prerromanos (1200-218 a.c.)\n",
      "\n",
      "34/10 positive, 103/10 negative\n",
      "Do these records refer to the same thing?\n",
      "(y)es / (n)o / (u)nsure / (f)inished / (p)revious\n"
     ]
    },
    {
     "name": "stdout",
     "output_type": "stream",
     "text": [
      "n\n"
     ]
    },
    {
     "name": "stderr",
     "output_type": "stream",
     "text": [
      "Titulo : la poesia pura espanola\n",
      "Autor : antonio blanch xiro\n",
      "Editor : gredos, s.a.\n",
      "TituloBusqueda : la poesia pura espanola\n",
      "\n",
      "Titulo : la arquitectura y la cocina popular aragonesa\n",
      "Autor : jose luis acin fanlo\n",
      "Editor : lunwerg editores, s.a.\n",
      "TituloBusqueda : la arquitectura y la cocina popular aragonesa\n",
      "\n",
      "34/10 positive, 104/10 negative\n",
      "Do these records refer to the same thing?\n",
      "(y)es / (n)o / (u)nsure / (f)inished / (p)revious\n"
     ]
    },
    {
     "name": "stdout",
     "output_type": "stream",
     "text": [
      "n\n"
     ]
    },
    {
     "name": "stderr",
     "output_type": "stream",
     "text": [
      "Titulo : educar en relacion. las relaciones en la orientacion\n",
      "Autor : salguero juan y seva, jose maria\n",
      "Editor : educar en relacion. cuadernos de ed. nacional\n",
      "TituloBusqueda : educar en relacion. las relaciones en la orientacion\n",
      "\n",
      "Titulo : la cuchara\n",
      "Autor : enriquez munoz, salvador\n",
      "Editor : ayunamiento de torreperegil\n",
      "TituloBusqueda : la cuchara\n",
      "\n",
      "34/10 positive, 105/10 negative\n",
      "Do these records refer to the same thing?\n",
      "(y)es / (n)o / (u)nsure / (f)inished / (p)revious\n"
     ]
    },
    {
     "name": "stdout",
     "output_type": "stream",
     "text": [
      "n\n"
     ]
    },
    {
     "name": "stderr",
     "output_type": "stream",
     "text": [
      "Titulo : atlas de secundaria\n",
      "Autor : jaume rios calvet\n",
      "Editor : teide, s.a.\n",
      "TituloBusqueda : atlas de secundaria\n",
      "\n",
      "Titulo : viure al ras\n",
      "Autor : rafael gomar lloret\n",
      "Editor : editex, s.a.\n",
      "TituloBusqueda : viure al ras\n",
      "\n",
      "34/10 positive, 106/10 negative\n",
      "Do these records refer to the same thing?\n",
      "(y)es / (n)o / (u)nsure / (f)inished / (p)revious\n"
     ]
    },
    {
     "name": "stdout",
     "output_type": "stream",
     "text": [
      "n\n"
     ]
    },
    {
     "name": "stderr",
     "output_type": "stream",
     "text": [
      "Titulo : euroaleman: manual de profesores 1\n",
      "Autor : martin bodo fischer\n",
      "Editor : herder, s.a.\n",
      "TituloBusqueda : euroaleman: manual de profesores 1\n",
      "\n",
      "Titulo : historia del mundo contemporaneo, 1o bachillerato\n",
      "Autor : asuncion justa torres lopez-tercero\n",
      "Editor : mcgraw-hill/interamericana de espana, s.a.\n",
      "TituloBusqueda : historia del mundo contemporaneo, 1o bachillerato\n",
      "\n",
      "34/10 positive, 107/10 negative\n",
      "Do these records refer to the same thing?\n",
      "(y)es / (n)o / (u)nsure / (f)inished / (p)revious\n"
     ]
    },
    {
     "name": "stdout",
     "output_type": "stream",
     "text": [
      "n\n"
     ]
    },
    {
     "name": "stderr",
     "output_type": "stream",
     "text": [
      "Titulo : la cocina verbal\n",
      "Autor : victor canicio\n",
      "Editor : fondo de cultura economica\n",
      "TituloBusqueda : la cocina verbal\n",
      "\n",
      "Titulo : curso de electronica digital. practicas, tomo ii\n",
      "Autor : francisco ruiz vassallo\n",
      "Editor : centro de estudios ceac, s.l. (grupo ceac)\n",
      "TituloBusqueda : curso de electronica digital. practicas, tomo ii\n",
      "\n",
      "34/10 positive, 108/10 negative\n",
      "Do these records refer to the same thing?\n",
      "(y)es / (n)o / (u)nsure / (f)inished / (p)revious\n"
     ]
    },
    {
     "name": "stdout",
     "output_type": "stream",
     "text": [
      "n\n"
     ]
    },
    {
     "name": "stderr",
     "output_type": "stream",
     "text": [
      "Titulo : ley de enjuiciamiento criminal y otras normas procesales penales\n",
      "Autor : josep manel medrano molina\n",
      "Editor : consejo valenciano de colegios de abogados\n",
      "TituloBusqueda : ley de enjuiciamiento criminal y otras normas procesales penales\n",
      "\n",
      "Titulo : identidades regionales\n",
      "Autor : enrique bustamante ramirez\n",
      "Editor : universidad de malaga\n",
      "TituloBusqueda : identidades regionales\n",
      "\n",
      "34/10 positive, 109/10 negative\n",
      "Do these records refer to the same thing?\n",
      "(y)es / (n)o / (u)nsure / (f)inished / (p)revious\n"
     ]
    },
    {
     "name": "stdout",
     "output_type": "stream",
     "text": [
      "n\n"
     ]
    },
    {
     "name": "stderr",
     "output_type": "stream",
     "text": [
      "Titulo : la encomienda de portugal en tiempos de pray perez correa\n",
      "Autor : madrid y medina, angela\n",
      "Editor : centro de historia de universidade de porto\n",
      "TituloBusqueda : la encomienda de portugal en tiempos de pray perez correa\n",
      "\n",
      "Titulo : conferencies de les jornades de commemoracio i estudi de leclipsi total de sol a la mallorca de 1905\n",
      "Autor : joan march\n",
      "Editor : societat de historia de les illes baleares\n",
      "TituloBusqueda : conferencies de les jornades de commemoracio i estudi de leclipsi total de sol a la mallorca de 1905\n",
      "\n",
      "34/10 positive, 110/10 negative\n",
      "Do these records refer to the same thing?\n",
      "(y)es / (n)o / (u)nsure / (f)inished / (p)revious\n"
     ]
    },
    {
     "name": "stdout",
     "output_type": "stream",
     "text": [
      "u\n"
     ]
    },
    {
     "name": "stderr",
     "output_type": "stream",
     "text": [
      "Titulo : ortografia 2\n",
      "Autor : josep maria cormand munoz\n",
      "Editor : onda, s.a.\n",
      "TituloBusqueda : ortografia 2\n",
      "\n",
      "Titulo : super short-stories\n",
      "Autor : None\n",
      "Editor : edicions 62, s.a.\n",
      "TituloBusqueda : super short-stories\n",
      "\n",
      "34/10 positive, 110/10 negative\n",
      "Do these records refer to the same thing?\n",
      "(y)es / (n)o / (u)nsure / (f)inished / (p)revious\n"
     ]
    },
    {
     "name": "stdout",
     "output_type": "stream",
     "text": [
      "u\n"
     ]
    },
    {
     "name": "stderr",
     "output_type": "stream",
     "text": [
      "Titulo : barcelona 92\n",
      "Autor : antonio vera ramirez\n",
      "Editor : b, s.a.\n",
      "TituloBusqueda : barcelona 92\n",
      "\n",
      "Titulo : zumbel 4o egb\n",
      "Autor : carmen pleyan cerda\n",
      "Editor : barcanova, s.a.\n",
      "TituloBusqueda : zumbel 4o egb\n",
      "\n",
      "34/10 positive, 110/10 negative\n",
      "Do these records refer to the same thing?\n",
      "(y)es / (n)o / (u)nsure / (f)inished / (p)revious\n"
     ]
    },
    {
     "name": "stdout",
     "output_type": "stream",
     "text": [
      "n\n"
     ]
    },
    {
     "name": "stderr",
     "output_type": "stream",
     "text": [
      "Titulo : trabajo de vacaciones: actividaddes de repaso y recuperacion: 6\n",
      "Autor : antonio roche navarro\n",
      "Editor : everest, s.a.\n",
      "TituloBusqueda : trabajo de vacaciones: actividaddes de repaso y recuperacion: 6\n",
      "\n",
      "Titulo : microscopi 1 llengua, eso-quadern\n",
      "Autor : marta luna sanjuan\n",
      "Editor : teide, s.a.\n",
      "TituloBusqueda : microscopi 1 llengua, eso-quadern\n",
      "\n",
      "34/10 positive, 111/10 negative\n",
      "Do these records refer to the same thing?\n",
      "(y)es / (n)o / (u)nsure / (f)inished / (p)revious\n"
     ]
    },
    {
     "name": "stdout",
     "output_type": "stream",
     "text": [
      "n\n"
     ]
    },
    {
     "name": "stderr",
     "output_type": "stream",
     "text": [
      "Titulo : la encomienda de portugal en tiempos de pray perez correa\n",
      "Autor : madrid y medina, angela\n",
      "Editor : centro de historia de universidade de porto\n",
      "TituloBusqueda : la encomienda de portugal en tiempos de pray perez correa\n",
      "\n",
      "Titulo : el mercado interbancario espanol: funcionamiento y significacion para una entidad de deposito.\n",
      "Autor : gonzalez velasco, maria del carmen\n",
      "Editor : servicio de publicaciones universidad de leon\n",
      "TituloBusqueda : el mercado interbancario espanol: funcionamiento y significacion para una entidad de deposito.\n",
      "\n",
      "34/10 positive, 112/10 negative\n",
      "Do these records refer to the same thing?\n",
      "(y)es / (n)o / (u)nsure / (f)inished / (p)revious\n"
     ]
    },
    {
     "name": "stdout",
     "output_type": "stream",
     "text": [
      "u\n"
     ]
    },
    {
     "name": "stderr",
     "output_type": "stream",
     "text": [
      "Titulo : resumen de las conferencias del iv curso de historia, arte y cultura de alcala de henares\n",
      "Autor : canalda camara, jose carlos\n",
      "Editor : institucion de estudios complutenses\n",
      "TituloBusqueda : resumen de las conferencias del iv curso de historia, arte y cultura de alcala de henares\n",
      "\n",
      "Titulo : curso de fontaneria. prueba de evaluacion 23\n",
      "Autor : pedro sanz de miguel\n",
      "Editor : centro de estudios ceac, s.l. (grupo ceac)\n",
      "TituloBusqueda : curso de fontaneria. prueba de evaluacion 23\n",
      "\n",
      "34/10 positive, 112/10 negative\n",
      "Do these records refer to the same thing?\n",
      "(y)es / (n)o / (u)nsure / (f)inished / (p)revious\n"
     ]
    },
    {
     "name": "stdout",
     "output_type": "stream",
     "text": [
      "u\n"
     ]
    },
    {
     "name": "stderr",
     "output_type": "stream",
     "text": [
      "Titulo : curso de contabilidad analitica y presupuestaria\n",
      "Autor : centro de estudios ceac, s.l. (grupo ceac)\n",
      "Editor : centro de estudios ceac, s.l. (grupo ceac)\n",
      "TituloBusqueda : curso de contabilidad analitica y presupuestaria\n",
      "\n",
      "Titulo : lur entziklopedia tematikoa. (euskal herriko atlas historikoa)\n",
      "Autor : aintzane atela gurruchaga\n",
      "Editor : axel springer, s.l.\n",
      "TituloBusqueda : lur entziklopedia tematikoa. (euskal herriko atlas historikoa)\n",
      "\n",
      "34/10 positive, 112/10 negative\n",
      "Do these records refer to the same thing?\n",
      "(y)es / (n)o / (u)nsure / (f)inished / (p)revious\n"
     ]
    },
    {
     "name": "stdout",
     "output_type": "stream",
     "text": [
      "u\n"
     ]
    },
    {
     "name": "stderr",
     "output_type": "stream",
     "text": [
      "Titulo : movimientos juveniles en europa y estados unidos\n",
      "Autor : ortuno martinez, manuel\n",
      "Editor : direccion general de prensa\n",
      "TituloBusqueda : movimientos juveniles en europa y estados unidos\n",
      "\n",
      "Titulo : un corazon de nadie: antologia poetica: 1913-1935\n",
      "Autor : None\n",
      "Editor : circulo de lectores\n",
      "TituloBusqueda : un corazon de nadie: antologia poetica: 1913-1935\n",
      "\n",
      "34/10 positive, 112/10 negative\n",
      "Do these records refer to the same thing?\n",
      "(y)es / (n)o / (u)nsure / (f)inished / (p)revious\n"
     ]
    },
    {
     "name": "stdout",
     "output_type": "stream",
     "text": [
      "u\n"
     ]
    },
    {
     "name": "stderr",
     "output_type": "stream",
     "text": [
      "Titulo : homenaje al profesor casas torres\n",
      "Autor : capel saez, horacio\n",
      "Editor : universidad de zaragoza\n",
      "TituloBusqueda : homenaje al profesor casas torres\n",
      "\n",
      "Titulo : roberto blanco torres\n",
      "Autor : juan luis blanco valdes\n",
      "Editor : xunta de galicia\n",
      "TituloBusqueda : roberto blanco torres\n",
      "\n",
      "34/10 positive, 112/10 negative\n",
      "Do these records refer to the same thing?\n",
      "(y)es / (n)o / (u)nsure / (f)inished / (p)revious\n"
     ]
    },
    {
     "name": "stdout",
     "output_type": "stream",
     "text": [
      "u\n"
     ]
    },
    {
     "name": "stderr",
     "output_type": "stream",
     "text": [
      "Titulo : historia del mundo contemporaneo, 1o bachillerato\n",
      "Autor : asuncion justa torres lopez-tercero\n",
      "Editor : mcgraw-hill/interamericana de espana, s.a.\n",
      "TituloBusqueda : historia del mundo contemporaneo, 1o bachillerato\n",
      "\n",
      "Titulo : richard fleisher, entre el cielo y el infierno\n",
      "Autor : carlos losilla alcalde\n",
      "Editor : festival de cine de gijon\n",
      "TituloBusqueda : richard fleisher, entre el cielo y el infierno\n",
      "\n",
      "34/10 positive, 112/10 negative\n",
      "Do these records refer to the same thing?\n",
      "(y)es / (n)o / (u)nsure / (f)inished / (p)revious\n"
     ]
    },
    {
     "name": "stdout",
     "output_type": "stream",
     "text": [
      "u\n"
     ]
    },
    {
     "name": "stderr",
     "output_type": "stream",
     "text": [
      "Titulo : educar en relacion. las relaciones en la orientacion\n",
      "Autor : salguero juan y seva, jose maria\n",
      "Editor : educar en relacion. cuadernos de ed. nacional\n",
      "TituloBusqueda : educar en relacion. las relaciones en la orientacion\n",
      "\n",
      "Titulo : cosmologia, teologia y religion en...g. bruno\n",
      "Autor : miguel angel granada martinez\n",
      "Editor : serv. publ. universitat de barcelona\n",
      "TituloBusqueda : cosmologia, teologia y religion en...g. bruno\n",
      "\n",
      "34/10 positive, 112/10 negative\n",
      "Do these records refer to the same thing?\n",
      "(y)es / (n)o / (u)nsure / (f)inished / (p)revious\n"
     ]
    },
    {
     "name": "stdout",
     "output_type": "stream",
     "text": [
      "u\n"
     ]
    },
    {
     "name": "stderr",
     "output_type": "stream",
     "text": [
      "Titulo : nuestra cocina i\n",
      "Autor : fidalgo sanchez, jose antonio\n",
      "Editor : principado, s.l.\n",
      "TituloBusqueda : nuestra cocina i\n",
      "\n",
      "Titulo : None\n",
      "Autor : jose cuello subirana\n",
      "Editor : editors, s.a.\n",
      "TituloBusqueda : None\n",
      "\n",
      "34/10 positive, 112/10 negative\n",
      "Do these records refer to the same thing?\n",
      "(y)es / (n)o / (u)nsure / (f)inished / (p)revious\n"
     ]
    },
    {
     "name": "stdout",
     "output_type": "stream",
     "text": [
      "u\n"
     ]
    },
    {
     "name": "stderr",
     "output_type": "stream",
     "text": [
      "Titulo : pepe azorin. chronique dune invention\n",
      "Autor : jose angel blasco carrascosa\n",
      "Editor : espace croix baragnon\n",
      "TituloBusqueda : pepe azorin. chronique dune invention\n",
      "\n",
      "Titulo : None\n",
      "Autor : jose cuello subirana\n",
      "Editor : editors, s.a.\n",
      "TituloBusqueda : None\n",
      "\n",
      "34/10 positive, 112/10 negative\n",
      "Do these records refer to the same thing?\n",
      "(y)es / (n)o / (u)nsure / (f)inished / (p)revious\n"
     ]
    },
    {
     "name": "stdout",
     "output_type": "stream",
     "text": [
      "u\n"
     ]
    },
    {
     "name": "stderr",
     "output_type": "stream",
     "text": [
      "Titulo : santa maria del puerto. santona\n",
      "Autor : enrique campuzano ruiz\n",
      "Editor : museo diocesano\n",
      "TituloBusqueda : santa maria del puerto. santona\n",
      "\n",
      "Titulo : None\n",
      "Autor : enric larreula vidal\n",
      "Editor : argos vergara, s.a.\n",
      "TituloBusqueda : None\n",
      "\n",
      "34/10 positive, 112/10 negative\n",
      "Do these records refer to the same thing?\n",
      "(y)es / (n)o / (u)nsure / (f)inished / (p)revious\n"
     ]
    },
    {
     "name": "stdout",
     "output_type": "stream",
     "text": [
      "u\n"
     ]
    },
    {
     "name": "stderr",
     "output_type": "stream",
     "text": [
      "Titulo : bilduma 18...\n",
      "Autor : urquizo, patri\n",
      "Editor : bilduma\n",
      "TituloBusqueda : bilduma 18...\n",
      "\n",
      "Titulo : matematicas aplicadas a las ciencias sociales ii: 2o bachillerato. recursos didacticos\n",
      "Autor : juan jose romo urroz\n",
      "Editor : sm\n",
      "TituloBusqueda : matematicas aplicadas a las ciencias sociales ii: 2o bachillerato. recursos didacticos\n",
      "\n",
      "34/10 positive, 112/10 negative\n",
      "Do these records refer to the same thing?\n",
      "(y)es / (n)o / (u)nsure / (f)inished / (p)revious\n"
     ]
    },
    {
     "name": "stdout",
     "output_type": "stream",
     "text": [
      "u\n"
     ]
    },
    {
     "name": "stderr",
     "output_type": "stream",
     "text": [
      "Titulo : divulgacion y periodismo cientifico: entre la claridad y la exactitud\n",
      "Autor : manuel calvo hernando\n",
      "Editor : unam\n",
      "TituloBusqueda : divulgacion y periodismo cientifico: entre la claridad y la exactitud\n",
      "\n",
      "Titulo : mar ligeramente sur\n",
      "Autor : manuel villar raso\n",
      "Editor : destino, s.a.\n",
      "TituloBusqueda : mar ligeramente sur\n",
      "\n",
      "34/10 positive, 112/10 negative\n",
      "Do these records refer to the same thing?\n",
      "(y)es / (n)o / (u)nsure / (f)inished / (p)revious\n"
     ]
    },
    {
     "name": "stdout",
     "output_type": "stream",
     "text": [
      "y\n"
     ]
    },
    {
     "name": "stderr",
     "output_type": "stream",
     "text": [
      "Titulo : la malediccio de la mel\n",
      "Autor : castello morro, rosa\n",
      "Editor : ayuntamiento de castellon\n",
      "TituloBusqueda : la malediccio de la mel\n",
      "\n",
      "Titulo : la fascinante historia del movimiento continuo\n",
      "Autor : aroca sanz, juan\n",
      "Editor : uteha\n",
      "TituloBusqueda : la fascinante historia del movimiento continuo\n",
      "\n",
      "35/10 positive, 112/10 negative\n",
      "Do these records refer to the same thing?\n",
      "(y)es / (n)o / (u)nsure / (f)inished / (p)revious\n"
     ]
    },
    {
     "name": "stdout",
     "output_type": "stream",
     "text": [
      "n\n"
     ]
    },
    {
     "name": "stderr",
     "output_type": "stream",
     "text": [
      "Titulo : no quiero a esta mujer\n",
      "Autor : corin tellado\n",
      "Editor : rollan\n",
      "TituloBusqueda : no quiero a esta mujer\n",
      "\n",
      "Titulo : no quiero a esta mujer\n",
      "Autor : corin tellado\n",
      "Editor : bruguera\n",
      "TituloBusqueda : no quiero a esta mujer\n",
      "\n",
      "35/10 positive, 113/10 negative\n",
      "Do these records refer to the same thing?\n",
      "(y)es / (n)o / (u)nsure / (f)inished / (p)revious\n"
     ]
    },
    {
     "name": "stdout",
     "output_type": "stream",
     "text": [
      "y\n"
     ]
    },
    {
     "name": "stderr",
     "output_type": "stream",
     "text": [
      "Titulo : las cruzadas\n",
      "Autor : varios\n",
      "Editor : eiciones forja\n",
      "TituloBusqueda : las cruzadas\n",
      "\n",
      "Titulo : bosques, biodiversidad y pueblos indigenas\n",
      "Autor : varios\n",
      "Editor : wrm-unrisd\n",
      "TituloBusqueda : bosques, biodiversidad y pueblos indigenas\n",
      "\n",
      "36/10 positive, 113/10 negative\n",
      "Do these records refer to the same thing?\n",
      "(y)es / (n)o / (u)nsure / (f)inished / (p)revious\n"
     ]
    },
    {
     "name": "stdout",
     "output_type": "stream",
     "text": [
      "y\n"
     ]
    },
    {
     "name": "stderr",
     "output_type": "stream",
     "text": [
      "Titulo : indigenas de las americas\n",
      "Autor : varios\n",
      "Editor : survival international\n",
      "TituloBusqueda : indigenas de las americas\n",
      "\n",
      "Titulo : manueles de prevencion e informacion sobre drogas\n",
      "Autor : varios\n",
      "Editor : jellinek preventie\n",
      "TituloBusqueda : manueles de prevencion e informacion sobre drogas\n",
      "\n",
      "37/10 positive, 113/10 negative\n",
      "Do these records refer to the same thing?\n",
      "(y)es / (n)o / (u)nsure / (f)inished / (p)revious\n"
     ]
    },
    {
     "name": "stdout",
     "output_type": "stream",
     "text": [
      "u\n"
     ]
    },
    {
     "name": "stderr",
     "output_type": "stream",
     "text": [
      "Titulo : manuales de economia farmaceutica\n",
      "Autor : varios\n",
      "Editor : eli lilly and co.\n",
      "TituloBusqueda : manuales de economia farmaceutica\n",
      "\n",
      "Titulo : la necesidad del control de las empresas maderedas transnacionales\n",
      "Autor : varios\n",
      "Editor : wrm-the forest\n",
      "TituloBusqueda : la necesidad del control de las empresas maderedas transnacionales\n",
      "\n",
      "37/10 positive, 113/10 negative\n",
      "Do these records refer to the same thing?\n",
      "(y)es / (n)o / (u)nsure / (f)inished / (p)revious\n"
     ]
    },
    {
     "name": "stdout",
     "output_type": "stream",
     "text": [
      "u\n"
     ]
    },
    {
     "name": "stderr",
     "output_type": "stream",
     "text": [
      "Titulo : centrales de turbinas de gas\n",
      "Autor : varios\n",
      "Editor : alstom - e.g.t.\n",
      "TituloBusqueda : centrales de turbinas de gas\n",
      "\n",
      "Titulo : el comite mundial de grandez embalses\n",
      "Autor : varios\n",
      "Editor : wrm-wcgd\n",
      "TituloBusqueda : el comite mundial de grandez embalses\n",
      "\n",
      "37/10 positive, 113/10 negative\n",
      "Do these records refer to the same thing?\n",
      "(y)es / (n)o / (u)nsure / (f)inished / (p)revious\n"
     ]
    },
    {
     "name": "stdout",
     "output_type": "stream",
     "text": [
      "u\n"
     ]
    },
    {
     "name": "stderr",
     "output_type": "stream",
     "text": [
      "Titulo : ilta sirkuksessa\n",
      "Autor : sanchez rosenberg, natascha\n",
      "Editor : kirjalito\n",
      "TituloBusqueda : ilta sirkuksessa\n",
      "\n",
      "Titulo : guide of postgraduate study in europe\n",
      "Autor : sanchez garcia, maria fe\n",
      "Editor : hobsons publishing plc\n",
      "TituloBusqueda : guide of postgraduate study in europe\n",
      "\n",
      "37/10 positive, 113/10 negative\n",
      "Do these records refer to the same thing?\n",
      "(y)es / (n)o / (u)nsure / (f)inished / (p)revious\n"
     ]
    },
    {
     "name": "stdout",
     "output_type": "stream",
     "text": [
      "u\n"
     ]
    },
    {
     "name": "stderr",
     "output_type": "stream",
     "text": [
      "Titulo : el caso del embalse de alta en noruega\n",
      "Autor : varios\n",
      "Editor : wrm-wcgd\n",
      "TituloBusqueda : el caso del embalse de alta en noruega\n",
      "\n",
      "Titulo : protocolos tecnicos\n",
      "Autor : varios\n",
      "Editor : schindler ag\n",
      "TituloBusqueda : protocolos tecnicos\n",
      "\n",
      "37/10 positive, 113/10 negative\n",
      "Do these records refer to the same thing?\n",
      "(y)es / (n)o / (u)nsure / (f)inished / (p)revious\n"
     ]
    },
    {
     "name": "stdout",
     "output_type": "stream",
     "text": [
      "u\n"
     ]
    },
    {
     "name": "stderr",
     "output_type": "stream",
     "text": [
      "Titulo : psicologia de la percepcion\n",
      "Autor : varios\n",
      "Editor : texas am university\n",
      "TituloBusqueda : psicologia de la percepcion\n",
      "\n",
      "Titulo : gestion de la biodiversidad\n",
      "Autor : varios\n",
      "Editor : wrm-unced\n",
      "TituloBusqueda : gestion de la biodiversidad\n",
      "\n",
      "37/10 positive, 113/10 negative\n",
      "Do these records refer to the same thing?\n",
      "(y)es / (n)o / (u)nsure / (f)inished / (p)revious\n"
     ]
    },
    {
     "name": "stdout",
     "output_type": "stream",
     "text": [
      "u\n"
     ]
    },
    {
     "name": "stderr",
     "output_type": "stream",
     "text": [
      "Titulo : bendita seas\n",
      "Autor : corin tellado\n",
      "Editor : bruguera\n",
      "TituloBusqueda : bendita seas\n",
      "\n",
      "Titulo : no quiero a esta mujer\n",
      "Autor : corin tellado\n",
      "Editor : rollan\n",
      "TituloBusqueda : no quiero a esta mujer\n",
      "\n",
      "37/10 positive, 113/10 negative\n",
      "Do these records refer to the same thing?\n",
      "(y)es / (n)o / (u)nsure / (f)inished / (p)revious\n"
     ]
    },
    {
     "name": "stdout",
     "output_type": "stream",
     "text": [
      "u\n"
     ]
    },
    {
     "name": "stderr",
     "output_type": "stream",
     "text": [
      "Titulo : el sector internacional no lucrativo\n",
      "Autor : varios\n",
      "Editor : johns hopkins university\n",
      "TituloBusqueda : el sector internacional no lucrativo\n",
      "\n",
      "Titulo : manuales de economia farmaceutica\n",
      "Autor : varios\n",
      "Editor : eli lilly and co.\n",
      "TituloBusqueda : manuales de economia farmaceutica\n",
      "\n",
      "37/10 positive, 113/10 negative\n",
      "Do these records refer to the same thing?\n",
      "(y)es / (n)o / (u)nsure / (f)inished / (p)revious\n"
     ]
    },
    {
     "name": "stdout",
     "output_type": "stream",
     "text": [
      "y\n"
     ]
    },
    {
     "name": "stderr",
     "output_type": "stream",
     "text": [
      "Titulo : proteccion juridica del menor\n",
      "Autor : varios\n",
      "Editor : m.j.-c.p.\n",
      "TituloBusqueda : proteccion juridica del menor\n",
      "\n",
      "Titulo : bosques, areas protegidas y pueblos indigenas\n",
      "Autor : varios\n",
      "Editor : wrm-iwgia\n",
      "TituloBusqueda : bosques, areas protegidas y pueblos indigenas\n",
      "\n",
      "38/10 positive, 113/10 negative\n",
      "Do these records refer to the same thing?\n",
      "(y)es / (n)o / (u)nsure / (f)inished / (p)revious\n"
     ]
    },
    {
     "name": "stdout",
     "output_type": "stream",
     "text": [
      "u\n"
     ]
    },
    {
     "name": "stderr",
     "output_type": "stream",
     "text": [
      "Titulo : historia de la literatura clasica\n",
      "Autor : None\n",
      "Editor : forja\n",
      "TituloBusqueda : historia de la literatura clasica\n",
      "\n",
      "Titulo : historia de la literatura ii\n",
      "Autor : joaquin benito de lucas\n",
      "Editor : uned\n",
      "TituloBusqueda : historia de la literatura ii\n",
      "\n",
      "38/10 positive, 113/10 negative\n",
      "Do these records refer to the same thing?\n",
      "(y)es / (n)o / (u)nsure / (f)inished / (p)revious\n"
     ]
    },
    {
     "name": "stdout",
     "output_type": "stream",
     "text": [
      "y\n"
     ]
    },
    {
     "name": "stderr",
     "output_type": "stream",
     "text": [
      "Titulo : las mejores practicas de donantes para la sociedad civil y conservacion de la biodiversidad\n",
      "Autor : None\n",
      "Editor : w.w.f.-b.s.p.\n",
      "TituloBusqueda : las mejores practicas de donantes para la sociedad civil y conservacion de la biodiversidad\n",
      "\n",
      "Titulo : la sol i en pol\n",
      "Autor : None\n",
      "Editor : editorial cruilla\n",
      "TituloBusqueda : la sol i en pol\n",
      "\n",
      "39/10 positive, 113/10 negative\n",
      "Do these records refer to the same thing?\n",
      "(y)es / (n)o / (u)nsure / (f)inished / (p)revious\n"
     ]
    },
    {
     "name": "stdout",
     "output_type": "stream",
     "text": [
      "u\n"
     ]
    },
    {
     "name": "stderr",
     "output_type": "stream",
     "text": [
      "Titulo : el hombre al reves\n",
      "Autor : None\n",
      "Editor : espasa-calpe, s.a.\n",
      "TituloBusqueda : el hombre al reves\n",
      "\n",
      "Titulo : el hombre acecha. cancionero y romancero\n",
      "Autor : jorge urrutia gomez\n",
      "Editor : planeta ( cupsa)\n",
      "TituloBusqueda : el hombre acecha. cancionero y romancero\n",
      "\n",
      "39/10 positive, 113/10 negative\n",
      "Do these records refer to the same thing?\n",
      "(y)es / (n)o / (u)nsure / (f)inished / (p)revious\n"
     ]
    },
    {
     "name": "stdout",
     "output_type": "stream",
     "text": [
      "u\n"
     ]
    },
    {
     "name": "stderr",
     "output_type": "stream",
     "text": [
      "Titulo : los gemelos\n",
      "Autor : tellado, corin\n",
      "Editor : bruguera\n",
      "TituloBusqueda : los gemelos\n",
      "\n",
      "Titulo : los tres rounds de bibi\n",
      "Autor : None\n",
      "Editor : juventud, s.a.\n",
      "TituloBusqueda : los tres rounds de bibi\n",
      "\n",
      "39/10 positive, 113/10 negative\n",
      "Do these records refer to the same thing?\n",
      "(y)es / (n)o / (u)nsure / (f)inished / (p)revious\n"
     ]
    },
    {
     "name": "stdout",
     "output_type": "stream",
     "text": [
      "u\n"
     ]
    },
    {
     "name": "stderr",
     "output_type": "stream",
     "text": [
      "Titulo : textos de derecho concursal europeo\n",
      "Autor : None\n",
      "Editor : dykinson, s.l.\n",
      "TituloBusqueda : textos de derecho concursal europeo\n",
      "\n",
      "Titulo : texto y contexto\n",
      "Autor : rene de costa\n",
      "Editor : catedra, s.a.\n",
      "TituloBusqueda : texto y contexto\n",
      "\n",
      "39/10 positive, 113/10 negative\n",
      "Do these records refer to the same thing?\n",
      "(y)es / (n)o / (u)nsure / (f)inished / (p)revious\n"
     ]
    },
    {
     "name": "stdout",
     "output_type": "stream",
     "text": [
      "u\n"
     ]
    },
    {
     "name": "stderr",
     "output_type": "stream",
     "text": [
      "Titulo : guia de londres\n",
      "Autor : None\n",
      "Editor : acento\n",
      "TituloBusqueda : guia de londres\n",
      "\n",
      "Titulo : estimacion de las necesidades de capital\n",
      "Autor : e. van lommel\n",
      "Editor : wordworks\n",
      "TituloBusqueda : estimacion de las necesidades de capital\n",
      "\n",
      "39/10 positive, 113/10 negative\n",
      "Do these records refer to the same thing?\n",
      "(y)es / (n)o / (u)nsure / (f)inished / (p)revious\n"
     ]
    },
    {
     "name": "stdout",
     "output_type": "stream",
     "text": [
      "u\n"
     ]
    },
    {
     "name": "stderr",
     "output_type": "stream",
     "text": [
      "Titulo : wences rambla. pinturas\n",
      "Autor : juan angel blasco carrascosa\n",
      "Editor : sala 6 de febrero\n",
      "TituloBusqueda : wences rambla. pinturas\n",
      "\n",
      "Titulo : None\n",
      "Autor : carmen arnau faidella\n",
      "Editor : edicions 62, s.a.\n",
      "TituloBusqueda : None\n",
      "\n",
      "39/10 positive, 113/10 negative\n",
      "Do these records refer to the same thing?\n",
      "(y)es / (n)o / (u)nsure / (f)inished / (p)revious\n"
     ]
    },
    {
     "name": "stdout",
     "output_type": "stream",
     "text": [
      "u\n"
     ]
    },
    {
     "name": "stderr",
     "output_type": "stream",
     "text": [
      "Titulo : la peste bucolica\n",
      "Autor : victor canicio\n",
      "Editor : editorial montflorit\n",
      "TituloBusqueda : la peste bucolica\n",
      "\n",
      "Titulo : benito lertxundi: orioko bardoa aitorpen eta testigantzak\n",
      "Autor : None\n",
      "Editor : la voz del folk\n",
      "TituloBusqueda : benito lertxundi: orioko bardoa aitorpen eta testigantzak\n",
      "\n",
      "39/10 positive, 113/10 negative\n",
      "Do these records refer to the same thing?\n",
      "(y)es / (n)o / (u)nsure / (f)inished / (p)revious\n"
     ]
    },
    {
     "name": "stdout",
     "output_type": "stream",
     "text": [
      "u\n"
     ]
    },
    {
     "name": "stderr",
     "output_type": "stream",
     "text": [
      "Titulo : firma electronica y comercio electronico\n",
      "Autor : None\n",
      "Editor : dykinson, s.l.\n",
      "TituloBusqueda : firma electronica y comercio electronico\n",
      "\n",
      "Titulo : o merlo pirtata\n",
      "Autor : None\n",
      "Editor : galaxia\n",
      "TituloBusqueda : o merlo pirtata\n",
      "\n",
      "39/10 positive, 113/10 negative\n",
      "Do these records refer to the same thing?\n",
      "(y)es / (n)o / (u)nsure / (f)inished / (p)revious\n"
     ]
    },
    {
     "name": "stdout",
     "output_type": "stream",
     "text": [
      "u\n"
     ]
    },
    {
     "name": "stderr",
     "output_type": "stream",
     "text": [
      "Titulo : pueblos indigenas, bosques y el banco mundial: politicas y practicas\n",
      "Autor : varios\n",
      "Editor : wrm-fpp\n",
      "TituloBusqueda : pueblos indigenas, bosques y el banco mundial: politicas y practicas\n",
      "\n",
      "Titulo : el espejo, el mosaico y el crisol\n",
      "Autor : None\n",
      "Editor : narino, s.l\n",
      "TituloBusqueda : el espejo, el mosaico y el crisol\n",
      "\n",
      "39/10 positive, 113/10 negative\n",
      "Do these records refer to the same thing?\n",
      "(y)es / (n)o / (u)nsure / (f)inished / (p)revious\n"
     ]
    },
    {
     "name": "stdout",
     "output_type": "stream",
     "text": [
      "u\n"
     ]
    },
    {
     "name": "stderr",
     "output_type": "stream",
     "text": [
      "Titulo : com una espiral\n",
      "Autor : ticoluat i coll, anna maria\n",
      "Editor : sant pau serveis grafics\n",
      "TituloBusqueda : com una espiral\n",
      "\n",
      "Titulo : comprender la filosofia\n",
      "Autor : None\n",
      "Editor : teide, s.a.\n",
      "TituloBusqueda : comprender la filosofia\n",
      "\n",
      "39/10 positive, 113/10 negative\n",
      "Do these records refer to the same thing?\n",
      "(y)es / (n)o / (u)nsure / (f)inished / (p)revious\n"
     ]
    },
    {
     "name": "stdout",
     "output_type": "stream",
     "text": [
      "u\n"
     ]
    },
    {
     "name": "stderr",
     "output_type": "stream",
     "text": [
      "Titulo : las andanzas del coronel barcelones massanes al inicio del siglo xix\n",
      "Autor : vilarrubias solanes, felio antonio\n",
      "Editor : circulo de liceo\n",
      "TituloBusqueda : las andanzas del coronel barcelones massanes al inicio del siglo xix\n",
      "\n",
      "Titulo : las andanzas de pinocha\n",
      "Autor : carlos miguel suarez radillo\n",
      "Editor : edebe (ediciones don bosco)\n",
      "TituloBusqueda : las andanzas de pinocha\n",
      "\n",
      "39/10 positive, 113/10 negative\n",
      "Do these records refer to the same thing?\n",
      "(y)es / (n)o / (u)nsure / (f)inished / (p)revious\n"
     ]
    },
    {
     "name": "stdout",
     "output_type": "stream",
     "text": [
      "u\n"
     ]
    },
    {
     "name": "stderr",
     "output_type": "stream",
     "text": [
      "Titulo : en camino\n",
      "Autor : fuertes fernandez, mariano\n",
      "Editor : pastorinas\n",
      "TituloBusqueda : en camino\n",
      "\n",
      "Titulo : encuentros mas que cercanos\n",
      "Autor : jimenez hernandez, victor aquiles\n",
      "Editor : ediciones de exequiel\n",
      "TituloBusqueda : encuentros mas que cercanos\n",
      "\n",
      "39/10 positive, 113/10 negative\n",
      "Do these records refer to the same thing?\n",
      "(y)es / (n)o / (u)nsure / (f)inished / (p)revious\n"
     ]
    },
    {
     "name": "stdout",
     "output_type": "stream",
     "text": [
      "p\n"
     ]
    },
    {
     "name": "stderr",
     "output_type": "stream",
     "text": [
      "Titulo : las andanzas del coronel barcelones massanes al inicio del siglo xix\n",
      "Autor : vilarrubias solanes, felio antonio\n",
      "Editor : circulo de liceo\n",
      "TituloBusqueda : las andanzas del coronel barcelones massanes al inicio del siglo xix\n",
      "\n",
      "Titulo : las andanzas de pinocha\n",
      "Autor : carlos miguel suarez radillo\n",
      "Editor : edebe (ediciones don bosco)\n",
      "TituloBusqueda : las andanzas de pinocha\n",
      "\n",
      "39/10 positive, 113/10 negative\n",
      "Do these records refer to the same thing?\n",
      "(y)es / (n)o / (u)nsure / (f)inished\n"
     ]
    },
    {
     "name": "stdout",
     "output_type": "stream",
     "text": [
      "y\n"
     ]
    },
    {
     "name": "stderr",
     "output_type": "stream",
     "text": [
      "Titulo : en camino\n",
      "Autor : fuertes fernandez, mariano\n",
      "Editor : pastorinas\n",
      "TituloBusqueda : en camino\n",
      "\n",
      "Titulo : encuentros mas que cercanos\n",
      "Autor : jimenez hernandez, victor aquiles\n",
      "Editor : ediciones de exequiel\n",
      "TituloBusqueda : encuentros mas que cercanos\n",
      "\n",
      "40/10 positive, 113/10 negative\n",
      "Do these records refer to the same thing?\n",
      "(y)es / (n)o / (u)nsure / (f)inished / (p)revious\n"
     ]
    },
    {
     "name": "stdout",
     "output_type": "stream",
     "text": [
      "f\n"
     ]
    },
    {
     "name": "stderr",
     "output_type": "stream",
     "text": [
      "Finished labeling\n"
     ]
    },
    {
     "name": "stdout",
     "output_type": "stream",
     "text": [
      "Clustering...\n",
      "# duplicate sets 923\n"
     ]
    },
    {
     "data": {
      "text/html": [
       "<div>\n",
       "<style scoped>\n",
       "    .dataframe tbody tr th:only-of-type {\n",
       "        vertical-align: middle;\n",
       "    }\n",
       "\n",
       "    .dataframe tbody tr th {\n",
       "        vertical-align: top;\n",
       "    }\n",
       "\n",
       "    .dataframe thead th {\n",
       "        text-align: right;\n",
       "    }\n",
       "</style>\n",
       "<table border=\"1\" class=\"dataframe\">\n",
       "  <thead>\n",
       "    <tr style=\"text-align: right;\">\n",
       "      <th></th>\n",
       "      <th>Id</th>\n",
       "      <th>IdObraPadre</th>\n",
       "      <th>IdTipoObra</th>\n",
       "      <th>CodObra</th>\n",
       "      <th>CodObraListado</th>\n",
       "      <th>Titulo</th>\n",
       "      <th>Subtitulo</th>\n",
       "      <th>Autor</th>\n",
       "      <th>Traductor</th>\n",
       "      <th>Editor</th>\n",
       "      <th>...</th>\n",
       "      <th>DOI</th>\n",
       "      <th>Observaciones</th>\n",
       "      <th>CodObraBuscador</th>\n",
       "      <th>IB</th>\n",
       "      <th>SelloEditorial</th>\n",
       "      <th>NIPO</th>\n",
       "      <th>TituloBusqueda</th>\n",
       "      <th>UrlPortada</th>\n",
       "      <th>cluster id</th>\n",
       "      <th>confidence</th>\n",
       "    </tr>\n",
       "  </thead>\n",
       "  <tbody>\n",
       "    <tr>\n",
       "      <th>0</th>\n",
       "      <td>1</td>\n",
       "      <td>None</td>\n",
       "      <td>li</td>\n",
       "      <td>ced-0000001</td>\n",
       "      <td>978-84-88171-13-9</td>\n",
       "      <td>abel matutes. de cacique local a ministro de a...</td>\n",
       "      <td>None</td>\n",
       "      <td>cerda subirachs, juan</td>\n",
       "      <td>None</td>\n",
       "      <td>dictext, s.l.</td>\n",
       "      <td>...</td>\n",
       "      <td>None</td>\n",
       "      <td>alta por reclamacion racp7054 25-02-1999</td>\n",
       "      <td>1</td>\n",
       "      <td>0</td>\n",
       "      <td>None</td>\n",
       "      <td>None</td>\n",
       "      <td>abel matutes. de cacique local a ministro de a...</td>\n",
       "      <td>None</td>\n",
       "      <td>26</td>\n",
       "      <td>1.0</td>\n",
       "    </tr>\n",
       "    <tr>\n",
       "      <th>1</th>\n",
       "      <td>2</td>\n",
       "      <td>None</td>\n",
       "      <td>li</td>\n",
       "      <td>ced-0000002</td>\n",
       "      <td>None</td>\n",
       "      <td>la movilidad transnacional de trabajadores</td>\n",
       "      <td>reglas y practicas</td>\n",
       "      <td>gloria esteban de la rosa cristobal molina nav...</td>\n",
       "      <td>None</td>\n",
       "      <td>editorial comares, s.l.</td>\n",
       "      <td>...</td>\n",
       "      <td>None</td>\n",
       "      <td>None</td>\n",
       "      <td>2</td>\n",
       "      <td>0</td>\n",
       "      <td>None</td>\n",
       "      <td>None</td>\n",
       "      <td>la movilidad transnacional de trabajadores</td>\n",
       "      <td>None</td>\n",
       "      <td>27</td>\n",
       "      <td>1.0</td>\n",
       "    </tr>\n",
       "    <tr>\n",
       "      <th>2</th>\n",
       "      <td>3</td>\n",
       "      <td>None</td>\n",
       "      <td>li</td>\n",
       "      <td>ced-0000003</td>\n",
       "      <td>None</td>\n",
       "      <td>glaciacion genil</td>\n",
       "      <td>None</td>\n",
       "      <td>manuel de pinedo garcia</td>\n",
       "      <td>None</td>\n",
       "      <td>universidad centro americana san jose</td>\n",
       "      <td>...</td>\n",
       "      <td>None</td>\n",
       "      <td>None</td>\n",
       "      <td>3</td>\n",
       "      <td>0</td>\n",
       "      <td>None</td>\n",
       "      <td>None</td>\n",
       "      <td>glaciacion genil</td>\n",
       "      <td>None</td>\n",
       "      <td>28</td>\n",
       "      <td>1.0</td>\n",
       "    </tr>\n",
       "    <tr>\n",
       "      <th>3</th>\n",
       "      <td>4</td>\n",
       "      <td>None</td>\n",
       "      <td>li</td>\n",
       "      <td>ced-0000004</td>\n",
       "      <td>None</td>\n",
       "      <td>pedro arrupe, unesplosione nella chiesa</td>\n",
       "      <td>None</td>\n",
       "      <td>pedro miguel lamet</td>\n",
       "      <td>None</td>\n",
       "      <td>ancora</td>\n",
       "      <td>...</td>\n",
       "      <td>None</td>\n",
       "      <td>None</td>\n",
       "      <td>4</td>\n",
       "      <td>0</td>\n",
       "      <td>None</td>\n",
       "      <td>None</td>\n",
       "      <td>pedro arrupe, unesplosione nella chiesa</td>\n",
       "      <td>None</td>\n",
       "      <td>29</td>\n",
       "      <td>1.0</td>\n",
       "    </tr>\n",
       "    <tr>\n",
       "      <th>4</th>\n",
       "      <td>5</td>\n",
       "      <td>None</td>\n",
       "      <td>li</td>\n",
       "      <td>ced-0000005</td>\n",
       "      <td>None</td>\n",
       "      <td>pedro arrupe, unesplosione nella chiesa</td>\n",
       "      <td>None</td>\n",
       "      <td>pedro miguel lamet</td>\n",
       "      <td>None</td>\n",
       "      <td>ancora</td>\n",
       "      <td>...</td>\n",
       "      <td>None</td>\n",
       "      <td>None</td>\n",
       "      <td>5</td>\n",
       "      <td>0</td>\n",
       "      <td>None</td>\n",
       "      <td>None</td>\n",
       "      <td>pedro arrupe, unesplosione nella chiesa</td>\n",
       "      <td>None</td>\n",
       "      <td>30</td>\n",
       "      <td>1.0</td>\n",
       "    </tr>\n",
       "  </tbody>\n",
       "</table>\n",
       "<p>5 rows × 46 columns</p>\n",
       "</div>"
      ],
      "text/plain": [
       "  Id IdObraPadre IdTipoObra      CodObra     CodObraListado  \\\n",
       "0  1        None         li  ced-0000001  978-84-88171-13-9   \n",
       "1  2        None         li  ced-0000002               None   \n",
       "2  3        None         li  ced-0000003               None   \n",
       "3  4        None         li  ced-0000004               None   \n",
       "4  5        None         li  ced-0000005               None   \n",
       "\n",
       "                                              Titulo           Subtitulo  \\\n",
       "0  abel matutes. de cacique local a ministro de a...                None   \n",
       "1         la movilidad transnacional de trabajadores  reglas y practicas   \n",
       "2                                   glaciacion genil                None   \n",
       "3            pedro arrupe, unesplosione nella chiesa                None   \n",
       "4            pedro arrupe, unesplosione nella chiesa                None   \n",
       "\n",
       "                                               Autor Traductor  \\\n",
       "0                              cerda subirachs, juan      None   \n",
       "1  gloria esteban de la rosa cristobal molina nav...      None   \n",
       "2                            manuel de pinedo garcia      None   \n",
       "3                                 pedro miguel lamet      None   \n",
       "4                                 pedro miguel lamet      None   \n",
       "\n",
       "                                  Editor  ...   DOI  \\\n",
       "0                          dictext, s.l.  ...  None   \n",
       "1                editorial comares, s.l.  ...  None   \n",
       "2  universidad centro americana san jose  ...  None   \n",
       "3                                 ancora  ...  None   \n",
       "4                                 ancora  ...  None   \n",
       "\n",
       "                              Observaciones CodObraBuscador IB SelloEditorial  \\\n",
       "0  alta por reclamacion racp7054 25-02-1999               1  0           None   \n",
       "1                                      None               2  0           None   \n",
       "2                                      None               3  0           None   \n",
       "3                                      None               4  0           None   \n",
       "4                                      None               5  0           None   \n",
       "\n",
       "   NIPO                                     TituloBusqueda UrlPortada  \\\n",
       "0  None  abel matutes. de cacique local a ministro de a...       None   \n",
       "1  None         la movilidad transnacional de trabajadores       None   \n",
       "2  None                                   glaciacion genil       None   \n",
       "3  None            pedro arrupe, unesplosione nella chiesa       None   \n",
       "4  None            pedro arrupe, unesplosione nella chiesa       None   \n",
       "\n",
       "  cluster id confidence  \n",
       "0         26        1.0  \n",
       "1         27        1.0  \n",
       "2         28        1.0  \n",
       "3         29        1.0  \n",
       "4         30        1.0  \n",
       "\n",
       "[5 rows x 46 columns]"
      ]
     },
     "execution_count": 5,
     "metadata": {},
     "output_type": "execute_result"
    }
   ],
   "source": [
    "df_final = pandas_dedupe.dedupe_dataframe(df,['Titulo','Autor','Editor','TituloBusqueda'])\n",
    "df_final.head()"
   ]
  },
  {
   "cell_type": "code",
   "execution_count": null,
   "metadata": {},
   "outputs": [],
   "source": [
    "df_final.to_csv('deduplication_output_4_features.csv') "
   ]
  }
 ],
 "metadata": {
  "kernelspec": {
   "display_name": "Python 3",
   "language": "python",
   "name": "python3"
  },
  "language_info": {
   "codemirror_mode": {
    "name": "ipython",
    "version": 3
   },
   "file_extension": ".py",
   "mimetype": "text/x-python",
   "name": "python",
   "nbconvert_exporter": "python",
   "pygments_lexer": "ipython3",
   "version": "3.7.6"
  }
 },
 "nbformat": 4,
 "nbformat_minor": 2
}
